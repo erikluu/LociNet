{
 "cells": [
  {
   "cell_type": "code",
   "execution_count": 5,
   "metadata": {},
   "outputs": [],
   "source": [
    "import torch\n",
    "import torch.nn.functional as F\n",
    "from transformers import AutoTokenizer, AutoModel\n",
    "import pandas as pd\n",
    "import uuid"
   ]
  },
  {
   "cell_type": "markdown",
   "metadata": {},
   "source": [
    "# Data"
   ]
  },
  {
   "cell_type": "code",
   "execution_count": 6,
   "metadata": {},
   "outputs": [
    {
     "data": {
      "text/html": [
       "<div>\n",
       "<style scoped>\n",
       "    .dataframe tbody tr th:only-of-type {\n",
       "        vertical-align: middle;\n",
       "    }\n",
       "\n",
       "    .dataframe tbody tr th {\n",
       "        vertical-align: top;\n",
       "    }\n",
       "\n",
       "    .dataframe thead th {\n",
       "        text-align: right;\n",
       "    }\n",
       "</style>\n",
       "<table border=\"1\" class=\"dataframe\">\n",
       "  <thead>\n",
       "    <tr style=\"text-align: right;\">\n",
       "      <th></th>\n",
       "      <th>title</th>\n",
       "      <th>author</th>\n",
       "      <th>year</th>\n",
       "      <th>pages</th>\n",
       "      <th>abstract</th>\n",
       "      <th>ee</th>\n",
       "      <th>extra</th>\n",
       "      <th>combined</th>\n",
       "      <th>uuid</th>\n",
       "    </tr>\n",
       "  </thead>\n",
       "  <tbody>\n",
       "    <tr>\n",
       "      <th>0</th>\n",
       "      <td>Four-way Classification of Tabla Strokes with ...</td>\n",
       "      <td>[Rohit M A, Amitrajit Bhattacharjee, Preeti Rao]</td>\n",
       "      <td>2021</td>\n",
       "      <td>19-26</td>\n",
       "      <td>Motivated by musicological applications of the...</td>\n",
       "      <td>https://archives.ismir.net/ismir2021/paper/000...</td>\n",
       "      <td>{'takeaway': 'Automatic transcription for data...</td>\n",
       "      <td>title: Four-way Classification of Tabla Stroke...</td>\n",
       "      <td>1bea36cc-16a4-592e-880d-0b5569291dae</td>\n",
       "    </tr>\n",
       "    <tr>\n",
       "      <th>1</th>\n",
       "      <td>A Contextual Latent Space Model: Subsequence M...</td>\n",
       "      <td>[Taketo Akama]</td>\n",
       "      <td>2021</td>\n",
       "      <td>27-34</td>\n",
       "      <td>Some generative models for sequences such as m...</td>\n",
       "      <td>https://archives.ismir.net/ismir2021/paper/000...</td>\n",
       "      <td>{'takeaway': 'Latent space models and context ...</td>\n",
       "      <td>title: A Contextual Latent Space Model: Subseq...</td>\n",
       "      <td>68669618-ff82-5ffd-9793-afda49d690a6</td>\n",
       "    </tr>\n",
       "    <tr>\n",
       "      <th>2</th>\n",
       "      <td>OMR-assisted transcription: a case study with ...</td>\n",
       "      <td>[María Alfaro-Contreras, David Rizo, Jose M. I...</td>\n",
       "      <td>2021</td>\n",
       "      <td>35-41</td>\n",
       "      <td>Most of the musical heritage is only available...</td>\n",
       "      <td>https://archives.ismir.net/ismir2021/paper/000...</td>\n",
       "      <td>{'takeaway': 'This paper contributes to a bett...</td>\n",
       "      <td>title: OMR-assisted transcription: a case stud...</td>\n",
       "      <td>2a5f889a-ce76-5629-9a74-8ce9d63c0e09</td>\n",
       "    </tr>\n",
       "    <tr>\n",
       "      <th>3</th>\n",
       "      <td>Deeper Convolutional Neural Networks and Broad...</td>\n",
       "      <td>[Stefan A Baumann]</td>\n",
       "      <td>2021</td>\n",
       "      <td>42-49</td>\n",
       "      <td>In recent years, complex convolutional neural ...</td>\n",
       "      <td>https://archives.ismir.net/ismir2021/paper/000...</td>\n",
       "      <td>{'takeaway': 'Deeper, more complex Convolution...</td>\n",
       "      <td>title: Deeper Convolutional Neural Networks an...</td>\n",
       "      <td>7a44de35-e9d7-5699-9ae2-5bba5d78a199</td>\n",
       "    </tr>\n",
       "    <tr>\n",
       "      <th>4</th>\n",
       "      <td>The Music Performance Markup Format and Ecosystem</td>\n",
       "      <td>[Axel Berndt]</td>\n",
       "      <td>2021</td>\n",
       "      <td>50-57</td>\n",
       "      <td>Music Performance Markup (MPM) is a new XML fo...</td>\n",
       "      <td>https://archives.ismir.net/ismir2021/paper/000...</td>\n",
       "      <td>{'takeaway': 'The paper introduces the Music P...</td>\n",
       "      <td>title: The Music Performance Markup Format and...</td>\n",
       "      <td>9c6d8787-a89b-5b14-bd9d-5751b1a4627c</td>\n",
       "    </tr>\n",
       "    <tr>\n",
       "      <th>...</th>\n",
       "      <td>...</td>\n",
       "      <td>...</td>\n",
       "      <td>...</td>\n",
       "      <td>...</td>\n",
       "      <td>...</td>\n",
       "      <td>...</td>\n",
       "      <td>...</td>\n",
       "      <td>...</td>\n",
       "      <td>...</td>\n",
       "    </tr>\n",
       "    <tr>\n",
       "      <th>99</th>\n",
       "      <td>Composer Classification With Cross-Modal Trans...</td>\n",
       "      <td>[Daniel Yang, Timothy Tsai]</td>\n",
       "      <td>2021</td>\n",
       "      <td>802-809</td>\n",
       "      <td>This paper studies composer style classificati...</td>\n",
       "      <td>https://archives.ismir.net/ismir2021/paper/000...</td>\n",
       "      <td>{'takeaway': 'We improve composer classificati...</td>\n",
       "      <td>title: Composer Classification With Cross-Moda...</td>\n",
       "      <td>52dff9f6-8f92-5e1c-87e4-7776c492f701</td>\n",
       "    </tr>\n",
       "    <tr>\n",
       "      <th>100</th>\n",
       "      <td>Aligning Unsynchronized Part Recordings to a F...</td>\n",
       "      <td>[Daniel Yang, Kevin Ji, Timothy Tsai]</td>\n",
       "      <td>2021</td>\n",
       "      <td>810-817</td>\n",
       "      <td>This paper explores an application that would ...</td>\n",
       "      <td>https://archives.ismir.net/ismir2021/paper/000...</td>\n",
       "      <td>{'takeaway': 'We propose a way to align a set ...</td>\n",
       "      <td>title: Aligning Unsynchronized Part Recordings...</td>\n",
       "      <td>ce65817b-bfb7-5e79-818f-1509bf42d5fe</td>\n",
       "    </tr>\n",
       "    <tr>\n",
       "      <th>101</th>\n",
       "      <td>ADTOF: A large dataset of non-synthetic music ...</td>\n",
       "      <td>[Mickael Zehren, Marco Alunno, Paolo Bientinesi]</td>\n",
       "      <td>2021</td>\n",
       "      <td>818-824</td>\n",
       "      <td>The state-of-the-art methods for drum transcri...</td>\n",
       "      <td>https://archives.ismir.net/ismir2021/paper/000...</td>\n",
       "      <td>{'takeaway': 'To fight data paucity in the fie...</td>\n",
       "      <td>title: ADTOF: A large dataset of non-synthetic...</td>\n",
       "      <td>ae41534d-b5c6-5859-9a8d-f7e9e23817eb</td>\n",
       "    </tr>\n",
       "    <tr>\n",
       "      <th>102</th>\n",
       "      <td>Learn by Referencing: Towards Deep Metric Lear...</td>\n",
       "      <td>[Huan Zhang, Yiliang Jiang, Tao Jiang, Hu Peng]</td>\n",
       "      <td>2021</td>\n",
       "      <td>825-832</td>\n",
       "      <td>The excellence of human singing is an importan...</td>\n",
       "      <td>https://archives.ismir.net/ismir2021/paper/000...</td>\n",
       "      <td>{'takeaway': 'We proposed a metric-learning ba...</td>\n",
       "      <td>title: Learn by Referencing: Towards Deep Metr...</td>\n",
       "      <td>296c9dea-6809-5571-b26c-80b80d66b8e2</td>\n",
       "    </tr>\n",
       "    <tr>\n",
       "      <th>103</th>\n",
       "      <td>AccoMontage: Accompaniment Arrangement via Phr...</td>\n",
       "      <td>[Jingwei Zhao, Gus Xia]</td>\n",
       "      <td>2021</td>\n",
       "      <td>833-840</td>\n",
       "      <td>Accompaniment arrangement is a difficult music...</td>\n",
       "      <td>https://archives.ismir.net/ismir2021/paper/000...</td>\n",
       "      <td>{'takeaway': 'leverage rule-based optimization...</td>\n",
       "      <td>title: AccoMontage: Accompaniment Arrangement ...</td>\n",
       "      <td>65f7ed2b-4636-5207-aa76-14dc74caf71d</td>\n",
       "    </tr>\n",
       "  </tbody>\n",
       "</table>\n",
       "<p>104 rows × 9 columns</p>\n",
       "</div>"
      ],
      "text/plain": [
       "                                                 title  \\\n",
       "0    Four-way Classification of Tabla Strokes with ...   \n",
       "1    A Contextual Latent Space Model: Subsequence M...   \n",
       "2    OMR-assisted transcription: a case study with ...   \n",
       "3    Deeper Convolutional Neural Networks and Broad...   \n",
       "4    The Music Performance Markup Format and Ecosystem   \n",
       "..                                                 ...   \n",
       "99   Composer Classification With Cross-Modal Trans...   \n",
       "100  Aligning Unsynchronized Part Recordings to a F...   \n",
       "101  ADTOF: A large dataset of non-synthetic music ...   \n",
       "102  Learn by Referencing: Towards Deep Metric Lear...   \n",
       "103  AccoMontage: Accompaniment Arrangement via Phr...   \n",
       "\n",
       "                                                author  year    pages  \\\n",
       "0     [Rohit M A, Amitrajit Bhattacharjee, Preeti Rao]  2021    19-26   \n",
       "1                                       [Taketo Akama]  2021    27-34   \n",
       "2    [María Alfaro-Contreras, David Rizo, Jose M. I...  2021    35-41   \n",
       "3                                   [Stefan A Baumann]  2021    42-49   \n",
       "4                                        [Axel Berndt]  2021    50-57   \n",
       "..                                                 ...   ...      ...   \n",
       "99                         [Daniel Yang, Timothy Tsai]  2021  802-809   \n",
       "100              [Daniel Yang, Kevin Ji, Timothy Tsai]  2021  810-817   \n",
       "101   [Mickael Zehren, Marco Alunno, Paolo Bientinesi]  2021  818-824   \n",
       "102    [Huan Zhang, Yiliang Jiang, Tao Jiang, Hu Peng]  2021  825-832   \n",
       "103                            [Jingwei Zhao, Gus Xia]  2021  833-840   \n",
       "\n",
       "                                              abstract  \\\n",
       "0    Motivated by musicological applications of the...   \n",
       "1    Some generative models for sequences such as m...   \n",
       "2    Most of the musical heritage is only available...   \n",
       "3    In recent years, complex convolutional neural ...   \n",
       "4    Music Performance Markup (MPM) is a new XML fo...   \n",
       "..                                                 ...   \n",
       "99   This paper studies composer style classificati...   \n",
       "100  This paper explores an application that would ...   \n",
       "101  The state-of-the-art methods for drum transcri...   \n",
       "102  The excellence of human singing is an importan...   \n",
       "103  Accompaniment arrangement is a difficult music...   \n",
       "\n",
       "                                                    ee  \\\n",
       "0    https://archives.ismir.net/ismir2021/paper/000...   \n",
       "1    https://archives.ismir.net/ismir2021/paper/000...   \n",
       "2    https://archives.ismir.net/ismir2021/paper/000...   \n",
       "3    https://archives.ismir.net/ismir2021/paper/000...   \n",
       "4    https://archives.ismir.net/ismir2021/paper/000...   \n",
       "..                                                 ...   \n",
       "99   https://archives.ismir.net/ismir2021/paper/000...   \n",
       "100  https://archives.ismir.net/ismir2021/paper/000...   \n",
       "101  https://archives.ismir.net/ismir2021/paper/000...   \n",
       "102  https://archives.ismir.net/ismir2021/paper/000...   \n",
       "103  https://archives.ismir.net/ismir2021/paper/000...   \n",
       "\n",
       "                                                 extra  \\\n",
       "0    {'takeaway': 'Automatic transcription for data...   \n",
       "1    {'takeaway': 'Latent space models and context ...   \n",
       "2    {'takeaway': 'This paper contributes to a bett...   \n",
       "3    {'takeaway': 'Deeper, more complex Convolution...   \n",
       "4    {'takeaway': 'The paper introduces the Music P...   \n",
       "..                                                 ...   \n",
       "99   {'takeaway': 'We improve composer classificati...   \n",
       "100  {'takeaway': 'We propose a way to align a set ...   \n",
       "101  {'takeaway': 'To fight data paucity in the fie...   \n",
       "102  {'takeaway': 'We proposed a metric-learning ba...   \n",
       "103  {'takeaway': 'leverage rule-based optimization...   \n",
       "\n",
       "                                              combined  \\\n",
       "0    title: Four-way Classification of Tabla Stroke...   \n",
       "1    title: A Contextual Latent Space Model: Subseq...   \n",
       "2    title: OMR-assisted transcription: a case stud...   \n",
       "3    title: Deeper Convolutional Neural Networks an...   \n",
       "4    title: The Music Performance Markup Format and...   \n",
       "..                                                 ...   \n",
       "99   title: Composer Classification With Cross-Moda...   \n",
       "100  title: Aligning Unsynchronized Part Recordings...   \n",
       "101  title: ADTOF: A large dataset of non-synthetic...   \n",
       "102  title: Learn by Referencing: Towards Deep Metr...   \n",
       "103  title: AccoMontage: Accompaniment Arrangement ...   \n",
       "\n",
       "                                     uuid  \n",
       "0    1bea36cc-16a4-592e-880d-0b5569291dae  \n",
       "1    68669618-ff82-5ffd-9793-afda49d690a6  \n",
       "2    2a5f889a-ce76-5629-9a74-8ce9d63c0e09  \n",
       "3    7a44de35-e9d7-5699-9ae2-5bba5d78a199  \n",
       "4    9c6d8787-a89b-5b14-bd9d-5751b1a4627c  \n",
       "..                                    ...  \n",
       "99   52dff9f6-8f92-5e1c-87e4-7776c492f701  \n",
       "100  ce65817b-bfb7-5e79-818f-1509bf42d5fe  \n",
       "101  ae41534d-b5c6-5859-9a8d-f7e9e23817eb  \n",
       "102  296c9dea-6809-5571-b26c-80b80d66b8e2  \n",
       "103  65f7ed2b-4636-5207-aa76-14dc74caf71d  \n",
       "\n",
       "[104 rows x 9 columns]"
      ]
     },
     "execution_count": 6,
     "metadata": {},
     "output_type": "execute_result"
    }
   ],
   "source": [
    "with open(\"../data/ismir2021.json\", \"r\") as f:\n",
    "    ismir_df = pd.read_json(f)\n",
    "\n",
    "ismir_df['combined'] = ismir_df.apply(lambda x: f'title: {x[\"title\"]}, abstract: {x[\"abstract\"]}', axis=1)\n",
    "ismir_df['uuid'] = ismir_df.apply(lambda x: uuid.uuid5(uuid.NAMESPACE_DNS, x['combined']), axis=1)\n",
    "\n",
    "ismir_df"
   ]
  },
  {
   "attachments": {},
   "cell_type": "markdown",
   "metadata": {},
   "source": [
    "# Embedding Model"
   ]
  },
  {
   "cell_type": "markdown",
   "metadata": {},
   "source": [
    "https://huggingface.co/sentence-transformers/all-MiniLM-L6-v2"
   ]
  },
  {
   "cell_type": "code",
   "execution_count": 7,
   "metadata": {},
   "outputs": [],
   "source": [
    "# all-MiniLM-L6-v2\n",
    "\n",
    "def mean_pooling(model_output, attention_mask):\n",
    "    token_embeddings = model_output[0]\n",
    "    input_mask_expanded = attention_mask.unsqueeze(-1).expand(token_embeddings.size()).float()\n",
    "    return torch.sum(token_embeddings * input_mask_expanded, 1) / torch.clamp(input_mask_expanded.sum(1), min=1e-9)\n",
    "\n",
    "model_id = 'sentence-transformers/all-MiniLM-L6-v2'\n",
    "def get_embeddings(input: list[str]):\n",
    "\n",
    "    tokenizer = AutoTokenizer.from_pretrained(model_id)\n",
    "    model = AutoModel.from_pretrained(model_id)\n",
    "\n",
    "    encoded_input = tokenizer(input, padding=True, truncation=True, return_tensors='pt')\n",
    "\n",
    "    with torch.no_grad():\n",
    "        model_output = model(**encoded_input)\n",
    "\n",
    "    sentence_embeddings = mean_pooling(model_output, encoded_input['attention_mask'])\n",
    "    sentence_embeddings = F.normalize(sentence_embeddings, p=2, dim=1)\n",
    "    return sentence_embeddings\n",
    "\n",
    "embeddings = get_embeddings(list(ismir_df['combined']))"
   ]
  },
  {
   "cell_type": "markdown",
   "metadata": {},
   "source": [
    "# Pinecone"
   ]
  },
  {
   "cell_type": "code",
   "execution_count": 8,
   "metadata": {},
   "outputs": [
    {
     "data": {
      "text/plain": [
       "True"
      ]
     },
     "execution_count": 8,
     "metadata": {},
     "output_type": "execute_result"
    }
   ],
   "source": [
    "import os\n",
    "import pinecone\n",
    "import time\n",
    "from tqdm import tqdm\n",
    "from dotenv import load_dotenv\n",
    "load_dotenv()\n"
   ]
  },
  {
   "cell_type": "markdown",
   "metadata": {},
   "source": [
    "### Index Init"
   ]
  },
  {
   "cell_type": "code",
   "execution_count": 9,
   "metadata": {},
   "outputs": [],
   "source": [
    "pinecone.init(\n",
    "    api_key=os.getenv(\"PINECONE_API_KEY\"),\n",
    "    environment=os.getenv(\"PINECONE_ENVIRONMENT\")\n",
    ")"
   ]
  },
  {
   "cell_type": "code",
   "execution_count": 10,
   "metadata": {},
   "outputs": [
    {
     "data": {
      "text/plain": [
       "WhoAmIResponse(username=None, user_label=None, projectname='d66c2c2')"
      ]
     },
     "execution_count": 10,
     "metadata": {},
     "output_type": "execute_result"
    }
   ],
   "source": [
    "pinecone.whoami()"
   ]
  },
  {
   "cell_type": "code",
   "execution_count": 11,
   "metadata": {},
   "outputs": [
    {
     "name": "stdout",
     "output_type": "stream",
     "text": [
      "['ApiAttributeError', 'ApiException', 'ApiKeyError', 'ApiTypeError', 'ApiValueError', 'CollectionDescription', 'Config', 'DeleteRequest', 'DeleteResult', 'DescribeIndexStatsRequest', 'DescribeIndexStatsResponse', 'FetchResponse', 'FetchResult', 'ForbiddenException', 'Index', 'IndexDescription', 'InfoResult', 'NotFoundException', 'OpenApiException', 'PineconeException', 'PineconeProtocolError', 'ProtobufAny', 'QueryRequest', 'QueryResponse', 'QueryResult', 'QueryVector', 'RpcStatus', 'ScoredVector', 'ServiceException', 'SingleQueryResults', 'SparseValues', 'UnauthorizedException', 'UpdateRequest', 'UpsertRequest', 'UpsertResponse', 'UpsertResult', 'Vector', 'VersionResponse', 'WhoAmIResponse', '__builtins__', '__cached__', '__doc__', '__file__', '__loader__', '__name__', '__package__', '__path__', '__spec__', '__version__', 'config', 'configure_index', 'core', 'create_collection', 'create_index', 'delete_collection', 'delete_index', 'describe_collection', 'describe_index', 'exceptions', 'index', 'info', 'init', 'list_collections', 'list_indexes', 'manage', 'scale_index', 'version', 'whoami']\n",
      "['ApiAttributeError', 'ApiException', 'ApiKeyError', 'ApiTypeError', 'ApiValueError', 'CollectionDescription', 'Config', 'DeleteRequest', 'DeleteResult', 'DescribeIndexStatsRequest', 'DescribeIndexStatsResponse', 'FetchResponse', 'FetchResult', 'ForbiddenException', 'Index', 'IndexDescription', 'InfoResult', 'NotFoundException', 'OpenApiException', 'PineconeException', 'PineconeProtocolError', 'ProtobufAny', 'QueryRequest', 'QueryResponse', 'QueryResult', 'QueryVector', 'RpcStatus', 'ScoredVector', 'ServiceException', 'SingleQueryResults', 'SparseValues', 'UnauthorizedException', 'UpdateRequest', 'UpsertRequest', 'UpsertResponse', 'UpsertResult', 'Vector', 'VersionResponse', 'WhoAmIResponse', '__builtins__', '__cached__', '__doc__', '__file__', '__loader__', '__name__', '__package__', '__path__', '__spec__', '__version__', 'config', 'configure_index', 'core', 'create_collection', 'create_index', 'delete_collection', 'delete_index', 'describe_collection', 'describe_index', 'exceptions', 'index', 'info', 'init', 'list_collections', 'list_indexes', 'manage', 'scale_index', 'version', 'whoami']\n",
      "['ApiAttributeError', 'ApiException', 'ApiKeyError', 'ApiTypeError', 'ApiValueError', 'CollectionDescription', 'Config', 'DeleteRequest', 'DeleteResult', 'DescribeIndexStatsRequest', 'DescribeIndexStatsResponse', 'FetchResponse', 'FetchResult', 'ForbiddenException', 'Index', 'IndexDescription', 'InfoResult', 'NotFoundException', 'OpenApiException', 'PineconeException', 'PineconeProtocolError', 'ProtobufAny', 'QueryRequest', 'QueryResponse', 'QueryResult', 'QueryVector', 'RpcStatus', 'ScoredVector', 'ServiceException', 'SingleQueryResults', 'SparseValues', 'UnauthorizedException', 'UpdateRequest', 'UpsertRequest', 'UpsertResponse', 'UpsertResult', 'Vector', 'VersionResponse', 'WhoAmIResponse', '__builtins__', '__cached__', '__doc__', '__file__', '__loader__', '__name__', '__package__', '__path__', '__spec__', '__version__', 'config', 'configure_index', 'core', 'create_collection', 'create_index', 'delete_collection', 'delete_index', 'describe_collection', 'describe_index', 'exceptions', 'index', 'info', 'init', 'list_collections', 'list_indexes', 'manage', 'scale_index', 'version', 'whoami']\n",
      "['ApiAttributeError', 'ApiException', 'ApiKeyError', 'ApiTypeError', 'ApiValueError', 'CollectionDescription', 'Config', 'DeleteRequest', 'DeleteResult', 'DescribeIndexStatsRequest', 'DescribeIndexStatsResponse', 'FetchResponse', 'FetchResult', 'ForbiddenException', 'Index', 'IndexDescription', 'InfoResult', 'NotFoundException', 'OpenApiException', 'PineconeException', 'PineconeProtocolError', 'ProtobufAny', 'QueryRequest', 'QueryResponse', 'QueryResult', 'QueryVector', 'RpcStatus', 'ScoredVector', 'ServiceException', 'SingleQueryResults', 'SparseValues', 'UnauthorizedException', 'UpdateRequest', 'UpsertRequest', 'UpsertResponse', 'UpsertResult', 'Vector', 'VersionResponse', 'WhoAmIResponse', '__builtins__', '__cached__', '__doc__', '__file__', '__loader__', '__name__', '__package__', '__path__', '__spec__', '__version__', 'config', 'configure_index', 'core', 'create_collection', 'create_index', 'delete_collection', 'delete_index', 'describe_collection', 'describe_index', 'exceptions', 'index', 'info', 'init', 'list_collections', 'list_indexes', 'manage', 'scale_index', 'version', 'whoami']\n",
      "['ApiAttributeError', 'ApiException', 'ApiKeyError', 'ApiTypeError', 'ApiValueError', 'CollectionDescription', 'Config', 'DeleteRequest', 'DeleteResult', 'DescribeIndexStatsRequest', 'DescribeIndexStatsResponse', 'FetchResponse', 'FetchResult', 'ForbiddenException', 'Index', 'IndexDescription', 'InfoResult', 'NotFoundException', 'OpenApiException', 'PineconeException', 'PineconeProtocolError', 'ProtobufAny', 'QueryRequest', 'QueryResponse', 'QueryResult', 'QueryVector', 'RpcStatus', 'ScoredVector', 'ServiceException', 'SingleQueryResults', 'SparseValues', 'UnauthorizedException', 'UpdateRequest', 'UpsertRequest', 'UpsertResponse', 'UpsertResult', 'Vector', 'VersionResponse', 'WhoAmIResponse', '__builtins__', '__cached__', '__doc__', '__file__', '__loader__', '__name__', '__package__', '__path__', '__spec__', '__version__', 'config', 'configure_index', 'core', 'create_collection', 'create_index', 'delete_collection', 'delete_index', 'describe_collection', 'describe_index', 'exceptions', 'index', 'info', 'init', 'list_collections', 'list_indexes', 'manage', 'scale_index', 'version', 'whoami']\n",
      "['ApiAttributeError', 'ApiException', 'ApiKeyError', 'ApiTypeError', 'ApiValueError', 'CollectionDescription', 'Config', 'DeleteRequest', 'DeleteResult', 'DescribeIndexStatsRequest', 'DescribeIndexStatsResponse', 'FetchResponse', 'FetchResult', 'ForbiddenException', 'Index', 'IndexDescription', 'InfoResult', 'NotFoundException', 'OpenApiException', 'PineconeException', 'PineconeProtocolError', 'ProtobufAny', 'QueryRequest', 'QueryResponse', 'QueryResult', 'QueryVector', 'RpcStatus', 'ScoredVector', 'ServiceException', 'SingleQueryResults', 'SparseValues', 'UnauthorizedException', 'UpdateRequest', 'UpsertRequest', 'UpsertResponse', 'UpsertResult', 'Vector', 'VersionResponse', 'WhoAmIResponse', '__builtins__', '__cached__', '__doc__', '__file__', '__loader__', '__name__', '__package__', '__path__', '__spec__', '__version__', 'config', 'configure_index', 'core', 'create_collection', 'create_index', 'delete_collection', 'delete_index', 'describe_collection', 'describe_index', 'exceptions', 'index', 'info', 'init', 'list_collections', 'list_indexes', 'manage', 'scale_index', 'version', 'whoami']\n",
      "['ApiAttributeError', 'ApiException', 'ApiKeyError', 'ApiTypeError', 'ApiValueError', 'CollectionDescription', 'Config', 'DeleteRequest', 'DeleteResult', 'DescribeIndexStatsRequest', 'DescribeIndexStatsResponse', 'FetchResponse', 'FetchResult', 'ForbiddenException', 'Index', 'IndexDescription', 'InfoResult', 'NotFoundException', 'OpenApiException', 'PineconeException', 'PineconeProtocolError', 'ProtobufAny', 'QueryRequest', 'QueryResponse', 'QueryResult', 'QueryVector', 'RpcStatus', 'ScoredVector', 'ServiceException', 'SingleQueryResults', 'SparseValues', 'UnauthorizedException', 'UpdateRequest', 'UpsertRequest', 'UpsertResponse', 'UpsertResult', 'Vector', 'VersionResponse', 'WhoAmIResponse', '__builtins__', '__cached__', '__doc__', '__file__', '__loader__', '__name__', '__package__', '__path__', '__spec__', '__version__', 'config', 'configure_index', 'core', 'create_collection', 'create_index', 'delete_collection', 'delete_index', 'describe_collection', 'describe_index', 'exceptions', 'index', 'info', 'init', 'list_collections', 'list_indexes', 'manage', 'scale_index', 'version', 'whoami']\n",
      "['ApiAttributeError', 'ApiException', 'ApiKeyError', 'ApiTypeError', 'ApiValueError', 'CollectionDescription', 'Config', 'DeleteRequest', 'DeleteResult', 'DescribeIndexStatsRequest', 'DescribeIndexStatsResponse', 'FetchResponse', 'FetchResult', 'ForbiddenException', 'Index', 'IndexDescription', 'InfoResult', 'NotFoundException', 'OpenApiException', 'PineconeException', 'PineconeProtocolError', 'ProtobufAny', 'QueryRequest', 'QueryResponse', 'QueryResult', 'QueryVector', 'RpcStatus', 'ScoredVector', 'ServiceException', 'SingleQueryResults', 'SparseValues', 'UnauthorizedException', 'UpdateRequest', 'UpsertRequest', 'UpsertResponse', 'UpsertResult', 'Vector', 'VersionResponse', 'WhoAmIResponse', '__builtins__', '__cached__', '__doc__', '__file__', '__loader__', '__name__', '__package__', '__path__', '__spec__', '__version__', 'config', 'configure_index', 'core', 'create_collection', 'create_index', 'delete_collection', 'delete_index', 'describe_collection', 'describe_index', 'exceptions', 'index', 'info', 'init', 'list_collections', 'list_indexes', 'manage', 'scale_index', 'version', 'whoami']\n",
      "['ApiAttributeError', 'ApiException', 'ApiKeyError', 'ApiTypeError', 'ApiValueError', 'CollectionDescription', 'Config', 'DeleteRequest', 'DeleteResult', 'DescribeIndexStatsRequest', 'DescribeIndexStatsResponse', 'FetchResponse', 'FetchResult', 'ForbiddenException', 'Index', 'IndexDescription', 'InfoResult', 'NotFoundException', 'OpenApiException', 'PineconeException', 'PineconeProtocolError', 'ProtobufAny', 'QueryRequest', 'QueryResponse', 'QueryResult', 'QueryVector', 'RpcStatus', 'ScoredVector', 'ServiceException', 'SingleQueryResults', 'SparseValues', 'UnauthorizedException', 'UpdateRequest', 'UpsertRequest', 'UpsertResponse', 'UpsertResult', 'Vector', 'VersionResponse', 'WhoAmIResponse', '__builtins__', '__cached__', '__doc__', '__file__', '__loader__', '__name__', '__package__', '__path__', '__spec__', '__version__', 'config', 'configure_index', 'core', 'create_collection', 'create_index', 'delete_collection', 'delete_index', 'describe_collection', 'describe_index', 'exceptions', 'index', 'info', 'init', 'list_collections', 'list_indexes', 'manage', 'scale_index', 'version', 'whoami']\n",
      "['ApiAttributeError', 'ApiException', 'ApiKeyError', 'ApiTypeError', 'ApiValueError', 'CollectionDescription', 'Config', 'DeleteRequest', 'DeleteResult', 'DescribeIndexStatsRequest', 'DescribeIndexStatsResponse', 'FetchResponse', 'FetchResult', 'ForbiddenException', 'Index', 'IndexDescription', 'InfoResult', 'NotFoundException', 'OpenApiException', 'PineconeException', 'PineconeProtocolError', 'ProtobufAny', 'QueryRequest', 'QueryResponse', 'QueryResult', 'QueryVector', 'RpcStatus', 'ScoredVector', 'ServiceException', 'SingleQueryResults', 'SparseValues', 'UnauthorizedException', 'UpdateRequest', 'UpsertRequest', 'UpsertResponse', 'UpsertResult', 'Vector', 'VersionResponse', 'WhoAmIResponse', '__builtins__', '__cached__', '__doc__', '__file__', '__loader__', '__name__', '__package__', '__path__', '__spec__', '__version__', 'config', 'configure_index', 'core', 'create_collection', 'create_index', 'delete_collection', 'delete_index', 'describe_collection', 'describe_index', 'exceptions', 'index', 'info', 'init', 'list_collections', 'list_indexes', 'manage', 'scale_index', 'version', 'whoami']\n",
      "['ApiAttributeError', 'ApiException', 'ApiKeyError', 'ApiTypeError', 'ApiValueError', 'CollectionDescription', 'Config', 'DeleteRequest', 'DeleteResult', 'DescribeIndexStatsRequest', 'DescribeIndexStatsResponse', 'FetchResponse', 'FetchResult', 'ForbiddenException', 'Index', 'IndexDescription', 'InfoResult', 'NotFoundException', 'OpenApiException', 'PineconeException', 'PineconeProtocolError', 'ProtobufAny', 'QueryRequest', 'QueryResponse', 'QueryResult', 'QueryVector', 'RpcStatus', 'ScoredVector', 'ServiceException', 'SingleQueryResults', 'SparseValues', 'UnauthorizedException', 'UpdateRequest', 'UpsertRequest', 'UpsertResponse', 'UpsertResult', 'Vector', 'VersionResponse', 'WhoAmIResponse', '__builtins__', '__cached__', '__doc__', '__file__', '__loader__', '__name__', '__package__', '__path__', '__spec__', '__version__', 'config', 'configure_index', 'core', 'create_collection', 'create_index', 'delete_collection', 'delete_index', 'describe_collection', 'describe_index', 'exceptions', 'index', 'info', 'init', 'list_collections', 'list_indexes', 'manage', 'scale_index', 'version', 'whoami']\n",
      "['ApiAttributeError', 'ApiException', 'ApiKeyError', 'ApiTypeError', 'ApiValueError', 'CollectionDescription', 'Config', 'DeleteRequest', 'DeleteResult', 'DescribeIndexStatsRequest', 'DescribeIndexStatsResponse', 'FetchResponse', 'FetchResult', 'ForbiddenException', 'Index', 'IndexDescription', 'InfoResult', 'NotFoundException', 'OpenApiException', 'PineconeException', 'PineconeProtocolError', 'ProtobufAny', 'QueryRequest', 'QueryResponse', 'QueryResult', 'QueryVector', 'RpcStatus', 'ScoredVector', 'ServiceException', 'SingleQueryResults', 'SparseValues', 'UnauthorizedException', 'UpdateRequest', 'UpsertRequest', 'UpsertResponse', 'UpsertResult', 'Vector', 'VersionResponse', 'WhoAmIResponse', '__builtins__', '__cached__', '__doc__', '__file__', '__loader__', '__name__', '__package__', '__path__', '__spec__', '__version__', 'config', 'configure_index', 'core', 'create_collection', 'create_index', 'delete_collection', 'delete_index', 'describe_collection', 'describe_index', 'exceptions', 'index', 'info', 'init', 'list_collections', 'list_indexes', 'manage', 'scale_index', 'version', 'whoami']\n",
      "['ApiAttributeError', 'ApiException', 'ApiKeyError', 'ApiTypeError', 'ApiValueError', 'CollectionDescription', 'Config', 'DeleteRequest', 'DeleteResult', 'DescribeIndexStatsRequest', 'DescribeIndexStatsResponse', 'FetchResponse', 'FetchResult', 'ForbiddenException', 'Index', 'IndexDescription', 'InfoResult', 'NotFoundException', 'OpenApiException', 'PineconeException', 'PineconeProtocolError', 'ProtobufAny', 'QueryRequest', 'QueryResponse', 'QueryResult', 'QueryVector', 'RpcStatus', 'ScoredVector', 'ServiceException', 'SingleQueryResults', 'SparseValues', 'UnauthorizedException', 'UpdateRequest', 'UpsertRequest', 'UpsertResponse', 'UpsertResult', 'Vector', 'VersionResponse', 'WhoAmIResponse', '__builtins__', '__cached__', '__doc__', '__file__', '__loader__', '__name__', '__package__', '__path__', '__spec__', '__version__', 'config', 'configure_index', 'core', 'create_collection', 'create_index', 'delete_collection', 'delete_index', 'describe_collection', 'describe_index', 'exceptions', 'index', 'info', 'init', 'list_collections', 'list_indexes', 'manage', 'scale_index', 'version', 'whoami']\n",
      "['ApiAttributeError', 'ApiException', 'ApiKeyError', 'ApiTypeError', 'ApiValueError', 'CollectionDescription', 'Config', 'DeleteRequest', 'DeleteResult', 'DescribeIndexStatsRequest', 'DescribeIndexStatsResponse', 'FetchResponse', 'FetchResult', 'ForbiddenException', 'Index', 'IndexDescription', 'InfoResult', 'NotFoundException', 'OpenApiException', 'PineconeException', 'PineconeProtocolError', 'ProtobufAny', 'QueryRequest', 'QueryResponse', 'QueryResult', 'QueryVector', 'RpcStatus', 'ScoredVector', 'ServiceException', 'SingleQueryResults', 'SparseValues', 'UnauthorizedException', 'UpdateRequest', 'UpsertRequest', 'UpsertResponse', 'UpsertResult', 'Vector', 'VersionResponse', 'WhoAmIResponse', '__builtins__', '__cached__', '__doc__', '__file__', '__loader__', '__name__', '__package__', '__path__', '__spec__', '__version__', 'config', 'configure_index', 'core', 'create_collection', 'create_index', 'delete_collection', 'delete_index', 'describe_collection', 'describe_index', 'exceptions', 'index', 'info', 'init', 'list_collections', 'list_indexes', 'manage', 'scale_index', 'version', 'whoami']\n",
      "['ApiAttributeError', 'ApiException', 'ApiKeyError', 'ApiTypeError', 'ApiValueError', 'CollectionDescription', 'Config', 'DeleteRequest', 'DeleteResult', 'DescribeIndexStatsRequest', 'DescribeIndexStatsResponse', 'FetchResponse', 'FetchResult', 'ForbiddenException', 'Index', 'IndexDescription', 'InfoResult', 'NotFoundException', 'OpenApiException', 'PineconeException', 'PineconeProtocolError', 'ProtobufAny', 'QueryRequest', 'QueryResponse', 'QueryResult', 'QueryVector', 'RpcStatus', 'ScoredVector', 'ServiceException', 'SingleQueryResults', 'SparseValues', 'UnauthorizedException', 'UpdateRequest', 'UpsertRequest', 'UpsertResponse', 'UpsertResult', 'Vector', 'VersionResponse', 'WhoAmIResponse', '__builtins__', '__cached__', '__doc__', '__file__', '__loader__', '__name__', '__package__', '__path__', '__spec__', '__version__', 'config', 'configure_index', 'core', 'create_collection', 'create_index', 'delete_collection', 'delete_index', 'describe_collection', 'describe_index', 'exceptions', 'index', 'info', 'init', 'list_collections', 'list_indexes', 'manage', 'scale_index', 'version', 'whoami']\n",
      "['ApiAttributeError', 'ApiException', 'ApiKeyError', 'ApiTypeError', 'ApiValueError', 'CollectionDescription', 'Config', 'DeleteRequest', 'DeleteResult', 'DescribeIndexStatsRequest', 'DescribeIndexStatsResponse', 'FetchResponse', 'FetchResult', 'ForbiddenException', 'Index', 'IndexDescription', 'InfoResult', 'NotFoundException', 'OpenApiException', 'PineconeException', 'PineconeProtocolError', 'ProtobufAny', 'QueryRequest', 'QueryResponse', 'QueryResult', 'QueryVector', 'RpcStatus', 'ScoredVector', 'ServiceException', 'SingleQueryResults', 'SparseValues', 'UnauthorizedException', 'UpdateRequest', 'UpsertRequest', 'UpsertResponse', 'UpsertResult', 'Vector', 'VersionResponse', 'WhoAmIResponse', '__builtins__', '__cached__', '__doc__', '__file__', '__loader__', '__name__', '__package__', '__path__', '__spec__', '__version__', 'config', 'configure_index', 'core', 'create_collection', 'create_index', 'delete_collection', 'delete_index', 'describe_collection', 'describe_index', 'exceptions', 'index', 'info', 'init', 'list_collections', 'list_indexes', 'manage', 'scale_index', 'version', 'whoami']\n",
      "['ApiAttributeError', 'ApiException', 'ApiKeyError', 'ApiTypeError', 'ApiValueError', 'CollectionDescription', 'Config', 'DeleteRequest', 'DeleteResult', 'DescribeIndexStatsRequest', 'DescribeIndexStatsResponse', 'FetchResponse', 'FetchResult', 'ForbiddenException', 'Index', 'IndexDescription', 'InfoResult', 'NotFoundException', 'OpenApiException', 'PineconeException', 'PineconeProtocolError', 'ProtobufAny', 'QueryRequest', 'QueryResponse', 'QueryResult', 'QueryVector', 'RpcStatus', 'ScoredVector', 'ServiceException', 'SingleQueryResults', 'SparseValues', 'UnauthorizedException', 'UpdateRequest', 'UpsertRequest', 'UpsertResponse', 'UpsertResult', 'Vector', 'VersionResponse', 'WhoAmIResponse', '__builtins__', '__cached__', '__doc__', '__file__', '__loader__', '__name__', '__package__', '__path__', '__spec__', '__version__', 'config', 'configure_index', 'core', 'create_collection', 'create_index', 'delete_collection', 'delete_index', 'describe_collection', 'describe_index', 'exceptions', 'index', 'info', 'init', 'list_collections', 'list_indexes', 'manage', 'scale_index', 'version', 'whoami']\n",
      "['ApiAttributeError', 'ApiException', 'ApiKeyError', 'ApiTypeError', 'ApiValueError', 'CollectionDescription', 'Config', 'DeleteRequest', 'DeleteResult', 'DescribeIndexStatsRequest', 'DescribeIndexStatsResponse', 'FetchResponse', 'FetchResult', 'ForbiddenException', 'Index', 'IndexDescription', 'InfoResult', 'NotFoundException', 'OpenApiException', 'PineconeException', 'PineconeProtocolError', 'ProtobufAny', 'QueryRequest', 'QueryResponse', 'QueryResult', 'QueryVector', 'RpcStatus', 'ScoredVector', 'ServiceException', 'SingleQueryResults', 'SparseValues', 'UnauthorizedException', 'UpdateRequest', 'UpsertRequest', 'UpsertResponse', 'UpsertResult', 'Vector', 'VersionResponse', 'WhoAmIResponse', '__builtins__', '__cached__', '__doc__', '__file__', '__loader__', '__name__', '__package__', '__path__', '__spec__', '__version__', 'config', 'configure_index', 'core', 'create_collection', 'create_index', 'delete_collection', 'delete_index', 'describe_collection', 'describe_index', 'exceptions', 'index', 'info', 'init', 'list_collections', 'list_indexes', 'manage', 'scale_index', 'version', 'whoami']\n",
      "['ApiAttributeError', 'ApiException', 'ApiKeyError', 'ApiTypeError', 'ApiValueError', 'CollectionDescription', 'Config', 'DeleteRequest', 'DeleteResult', 'DescribeIndexStatsRequest', 'DescribeIndexStatsResponse', 'FetchResponse', 'FetchResult', 'ForbiddenException', 'Index', 'IndexDescription', 'InfoResult', 'NotFoundException', 'OpenApiException', 'PineconeException', 'PineconeProtocolError', 'ProtobufAny', 'QueryRequest', 'QueryResponse', 'QueryResult', 'QueryVector', 'RpcStatus', 'ScoredVector', 'ServiceException', 'SingleQueryResults', 'SparseValues', 'UnauthorizedException', 'UpdateRequest', 'UpsertRequest', 'UpsertResponse', 'UpsertResult', 'Vector', 'VersionResponse', 'WhoAmIResponse', '__builtins__', '__cached__', '__doc__', '__file__', '__loader__', '__name__', '__package__', '__path__', '__spec__', '__version__', 'config', 'configure_index', 'core', 'create_collection', 'create_index', 'delete_collection', 'delete_index', 'describe_collection', 'describe_index', 'exceptions', 'index', 'info', 'init', 'list_collections', 'list_indexes', 'manage', 'scale_index', 'version', 'whoami']\n",
      "['ApiAttributeError', 'ApiException', 'ApiKeyError', 'ApiTypeError', 'ApiValueError', 'CollectionDescription', 'Config', 'DeleteRequest', 'DeleteResult', 'DescribeIndexStatsRequest', 'DescribeIndexStatsResponse', 'FetchResponse', 'FetchResult', 'ForbiddenException', 'Index', 'IndexDescription', 'InfoResult', 'NotFoundException', 'OpenApiException', 'PineconeException', 'PineconeProtocolError', 'ProtobufAny', 'QueryRequest', 'QueryResponse', 'QueryResult', 'QueryVector', 'RpcStatus', 'ScoredVector', 'ServiceException', 'SingleQueryResults', 'SparseValues', 'UnauthorizedException', 'UpdateRequest', 'UpsertRequest', 'UpsertResponse', 'UpsertResult', 'Vector', 'VersionResponse', 'WhoAmIResponse', '__builtins__', '__cached__', '__doc__', '__file__', '__loader__', '__name__', '__package__', '__path__', '__spec__', '__version__', 'config', 'configure_index', 'core', 'create_collection', 'create_index', 'delete_collection', 'delete_index', 'describe_collection', 'describe_index', 'exceptions', 'index', 'info', 'init', 'list_collections', 'list_indexes', 'manage', 'scale_index', 'version', 'whoami']\n",
      "['ApiAttributeError', 'ApiException', 'ApiKeyError', 'ApiTypeError', 'ApiValueError', 'CollectionDescription', 'Config', 'DeleteRequest', 'DeleteResult', 'DescribeIndexStatsRequest', 'DescribeIndexStatsResponse', 'FetchResponse', 'FetchResult', 'ForbiddenException', 'Index', 'IndexDescription', 'InfoResult', 'NotFoundException', 'OpenApiException', 'PineconeException', 'PineconeProtocolError', 'ProtobufAny', 'QueryRequest', 'QueryResponse', 'QueryResult', 'QueryVector', 'RpcStatus', 'ScoredVector', 'ServiceException', 'SingleQueryResults', 'SparseValues', 'UnauthorizedException', 'UpdateRequest', 'UpsertRequest', 'UpsertResponse', 'UpsertResult', 'Vector', 'VersionResponse', 'WhoAmIResponse', '__builtins__', '__cached__', '__doc__', '__file__', '__loader__', '__name__', '__package__', '__path__', '__spec__', '__version__', 'config', 'configure_index', 'core', 'create_collection', 'create_index', 'delete_collection', 'delete_index', 'describe_collection', 'describe_index', 'exceptions', 'index', 'info', 'init', 'list_collections', 'list_indexes', 'manage', 'scale_index', 'version', 'whoami']\n",
      "['ApiAttributeError', 'ApiException', 'ApiKeyError', 'ApiTypeError', 'ApiValueError', 'CollectionDescription', 'Config', 'DeleteRequest', 'DeleteResult', 'DescribeIndexStatsRequest', 'DescribeIndexStatsResponse', 'FetchResponse', 'FetchResult', 'ForbiddenException', 'Index', 'IndexDescription', 'InfoResult', 'NotFoundException', 'OpenApiException', 'PineconeException', 'PineconeProtocolError', 'ProtobufAny', 'QueryRequest', 'QueryResponse', 'QueryResult', 'QueryVector', 'RpcStatus', 'ScoredVector', 'ServiceException', 'SingleQueryResults', 'SparseValues', 'UnauthorizedException', 'UpdateRequest', 'UpsertRequest', 'UpsertResponse', 'UpsertResult', 'Vector', 'VersionResponse', 'WhoAmIResponse', '__builtins__', '__cached__', '__doc__', '__file__', '__loader__', '__name__', '__package__', '__path__', '__spec__', '__version__', 'config', 'configure_index', 'core', 'create_collection', 'create_index', 'delete_collection', 'delete_index', 'describe_collection', 'describe_index', 'exceptions', 'index', 'info', 'init', 'list_collections', 'list_indexes', 'manage', 'scale_index', 'version', 'whoami']\n",
      "['ApiAttributeError', 'ApiException', 'ApiKeyError', 'ApiTypeError', 'ApiValueError', 'CollectionDescription', 'Config', 'DeleteRequest', 'DeleteResult', 'DescribeIndexStatsRequest', 'DescribeIndexStatsResponse', 'FetchResponse', 'FetchResult', 'ForbiddenException', 'Index', 'IndexDescription', 'InfoResult', 'NotFoundException', 'OpenApiException', 'PineconeException', 'PineconeProtocolError', 'ProtobufAny', 'QueryRequest', 'QueryResponse', 'QueryResult', 'QueryVector', 'RpcStatus', 'ScoredVector', 'ServiceException', 'SingleQueryResults', 'SparseValues', 'UnauthorizedException', 'UpdateRequest', 'UpsertRequest', 'UpsertResponse', 'UpsertResult', 'Vector', 'VersionResponse', 'WhoAmIResponse', '__builtins__', '__cached__', '__doc__', '__file__', '__loader__', '__name__', '__package__', '__path__', '__spec__', '__version__', 'config', 'configure_index', 'core', 'create_collection', 'create_index', 'delete_collection', 'delete_index', 'describe_collection', 'describe_index', 'exceptions', 'index', 'info', 'init', 'list_collections', 'list_indexes', 'manage', 'scale_index', 'version', 'whoami']\n",
      "['ApiAttributeError', 'ApiException', 'ApiKeyError', 'ApiTypeError', 'ApiValueError', 'CollectionDescription', 'Config', 'DeleteRequest', 'DeleteResult', 'DescribeIndexStatsRequest', 'DescribeIndexStatsResponse', 'FetchResponse', 'FetchResult', 'ForbiddenException', 'Index', 'IndexDescription', 'InfoResult', 'NotFoundException', 'OpenApiException', 'PineconeException', 'PineconeProtocolError', 'ProtobufAny', 'QueryRequest', 'QueryResponse', 'QueryResult', 'QueryVector', 'RpcStatus', 'ScoredVector', 'ServiceException', 'SingleQueryResults', 'SparseValues', 'UnauthorizedException', 'UpdateRequest', 'UpsertRequest', 'UpsertResponse', 'UpsertResult', 'Vector', 'VersionResponse', 'WhoAmIResponse', '__builtins__', '__cached__', '__doc__', '__file__', '__loader__', '__name__', '__package__', '__path__', '__spec__', '__version__', 'config', 'configure_index', 'core', 'create_collection', 'create_index', 'delete_collection', 'delete_index', 'describe_collection', 'describe_index', 'exceptions', 'index', 'info', 'init', 'list_collections', 'list_indexes', 'manage', 'scale_index', 'version', 'whoami']\n",
      "['ApiAttributeError', 'ApiException', 'ApiKeyError', 'ApiTypeError', 'ApiValueError', 'CollectionDescription', 'Config', 'DeleteRequest', 'DeleteResult', 'DescribeIndexStatsRequest', 'DescribeIndexStatsResponse', 'FetchResponse', 'FetchResult', 'ForbiddenException', 'Index', 'IndexDescription', 'InfoResult', 'NotFoundException', 'OpenApiException', 'PineconeException', 'PineconeProtocolError', 'ProtobufAny', 'QueryRequest', 'QueryResponse', 'QueryResult', 'QueryVector', 'RpcStatus', 'ScoredVector', 'ServiceException', 'SingleQueryResults', 'SparseValues', 'UnauthorizedException', 'UpdateRequest', 'UpsertRequest', 'UpsertResponse', 'UpsertResult', 'Vector', 'VersionResponse', 'WhoAmIResponse', '__builtins__', '__cached__', '__doc__', '__file__', '__loader__', '__name__', '__package__', '__path__', '__spec__', '__version__', 'config', 'configure_index', 'core', 'create_collection', 'create_index', 'delete_collection', 'delete_index', 'describe_collection', 'describe_index', 'exceptions', 'index', 'info', 'init', 'list_collections', 'list_indexes', 'manage', 'scale_index', 'version', 'whoami']\n",
      "['ApiAttributeError', 'ApiException', 'ApiKeyError', 'ApiTypeError', 'ApiValueError', 'CollectionDescription', 'Config', 'DeleteRequest', 'DeleteResult', 'DescribeIndexStatsRequest', 'DescribeIndexStatsResponse', 'FetchResponse', 'FetchResult', 'ForbiddenException', 'Index', 'IndexDescription', 'InfoResult', 'NotFoundException', 'OpenApiException', 'PineconeException', 'PineconeProtocolError', 'ProtobufAny', 'QueryRequest', 'QueryResponse', 'QueryResult', 'QueryVector', 'RpcStatus', 'ScoredVector', 'ServiceException', 'SingleQueryResults', 'SparseValues', 'UnauthorizedException', 'UpdateRequest', 'UpsertRequest', 'UpsertResponse', 'UpsertResult', 'Vector', 'VersionResponse', 'WhoAmIResponse', '__builtins__', '__cached__', '__doc__', '__file__', '__loader__', '__name__', '__package__', '__path__', '__spec__', '__version__', 'config', 'configure_index', 'core', 'create_collection', 'create_index', 'delete_collection', 'delete_index', 'describe_collection', 'describe_index', 'exceptions', 'index', 'info', 'init', 'list_collections', 'list_indexes', 'manage', 'scale_index', 'version', 'whoami']\n",
      "['ApiAttributeError', 'ApiException', 'ApiKeyError', 'ApiTypeError', 'ApiValueError', 'CollectionDescription', 'Config', 'DeleteRequest', 'DeleteResult', 'DescribeIndexStatsRequest', 'DescribeIndexStatsResponse', 'FetchResponse', 'FetchResult', 'ForbiddenException', 'Index', 'IndexDescription', 'InfoResult', 'NotFoundException', 'OpenApiException', 'PineconeException', 'PineconeProtocolError', 'ProtobufAny', 'QueryRequest', 'QueryResponse', 'QueryResult', 'QueryVector', 'RpcStatus', 'ScoredVector', 'ServiceException', 'SingleQueryResults', 'SparseValues', 'UnauthorizedException', 'UpdateRequest', 'UpsertRequest', 'UpsertResponse', 'UpsertResult', 'Vector', 'VersionResponse', 'WhoAmIResponse', '__builtins__', '__cached__', '__doc__', '__file__', '__loader__', '__name__', '__package__', '__path__', '__spec__', '__version__', 'config', 'configure_index', 'core', 'create_collection', 'create_index', 'delete_collection', 'delete_index', 'describe_collection', 'describe_index', 'exceptions', 'index', 'info', 'init', 'list_collections', 'list_indexes', 'manage', 'scale_index', 'version', 'whoami']\n",
      "['ApiAttributeError', 'ApiException', 'ApiKeyError', 'ApiTypeError', 'ApiValueError', 'CollectionDescription', 'Config', 'DeleteRequest', 'DeleteResult', 'DescribeIndexStatsRequest', 'DescribeIndexStatsResponse', 'FetchResponse', 'FetchResult', 'ForbiddenException', 'Index', 'IndexDescription', 'InfoResult', 'NotFoundException', 'OpenApiException', 'PineconeException', 'PineconeProtocolError', 'ProtobufAny', 'QueryRequest', 'QueryResponse', 'QueryResult', 'QueryVector', 'RpcStatus', 'ScoredVector', 'ServiceException', 'SingleQueryResults', 'SparseValues', 'UnauthorizedException', 'UpdateRequest', 'UpsertRequest', 'UpsertResponse', 'UpsertResult', 'Vector', 'VersionResponse', 'WhoAmIResponse', '__builtins__', '__cached__', '__doc__', '__file__', '__loader__', '__name__', '__package__', '__path__', '__spec__', '__version__', 'config', 'configure_index', 'core', 'create_collection', 'create_index', 'delete_collection', 'delete_index', 'describe_collection', 'describe_index', 'exceptions', 'index', 'info', 'init', 'list_collections', 'list_indexes', 'manage', 'scale_index', 'version', 'whoami']\n",
      "['ApiAttributeError', 'ApiException', 'ApiKeyError', 'ApiTypeError', 'ApiValueError', 'CollectionDescription', 'Config', 'DeleteRequest', 'DeleteResult', 'DescribeIndexStatsRequest', 'DescribeIndexStatsResponse', 'FetchResponse', 'FetchResult', 'ForbiddenException', 'Index', 'IndexDescription', 'InfoResult', 'NotFoundException', 'OpenApiException', 'PineconeException', 'PineconeProtocolError', 'ProtobufAny', 'QueryRequest', 'QueryResponse', 'QueryResult', 'QueryVector', 'RpcStatus', 'ScoredVector', 'ServiceException', 'SingleQueryResults', 'SparseValues', 'UnauthorizedException', 'UpdateRequest', 'UpsertRequest', 'UpsertResponse', 'UpsertResult', 'Vector', 'VersionResponse', 'WhoAmIResponse', '__builtins__', '__cached__', '__doc__', '__file__', '__loader__', '__name__', '__package__', '__path__', '__spec__', '__version__', 'config', 'configure_index', 'core', 'create_collection', 'create_index', 'delete_collection', 'delete_index', 'describe_collection', 'describe_index', 'exceptions', 'index', 'info', 'init', 'list_collections', 'list_indexes', 'manage', 'scale_index', 'version', 'whoami']\n",
      "['ApiAttributeError', 'ApiException', 'ApiKeyError', 'ApiTypeError', 'ApiValueError', 'CollectionDescription', 'Config', 'DeleteRequest', 'DeleteResult', 'DescribeIndexStatsRequest', 'DescribeIndexStatsResponse', 'FetchResponse', 'FetchResult', 'ForbiddenException', 'Index', 'IndexDescription', 'InfoResult', 'NotFoundException', 'OpenApiException', 'PineconeException', 'PineconeProtocolError', 'ProtobufAny', 'QueryRequest', 'QueryResponse', 'QueryResult', 'QueryVector', 'RpcStatus', 'ScoredVector', 'ServiceException', 'SingleQueryResults', 'SparseValues', 'UnauthorizedException', 'UpdateRequest', 'UpsertRequest', 'UpsertResponse', 'UpsertResult', 'Vector', 'VersionResponse', 'WhoAmIResponse', '__builtins__', '__cached__', '__doc__', '__file__', '__loader__', '__name__', '__package__', '__path__', '__spec__', '__version__', 'config', 'configure_index', 'core', 'create_collection', 'create_index', 'delete_collection', 'delete_index', 'describe_collection', 'describe_index', 'exceptions', 'index', 'info', 'init', 'list_collections', 'list_indexes', 'manage', 'scale_index', 'version', 'whoami']\n",
      "['ApiAttributeError', 'ApiException', 'ApiKeyError', 'ApiTypeError', 'ApiValueError', 'CollectionDescription', 'Config', 'DeleteRequest', 'DeleteResult', 'DescribeIndexStatsRequest', 'DescribeIndexStatsResponse', 'FetchResponse', 'FetchResult', 'ForbiddenException', 'Index', 'IndexDescription', 'InfoResult', 'NotFoundException', 'OpenApiException', 'PineconeException', 'PineconeProtocolError', 'ProtobufAny', 'QueryRequest', 'QueryResponse', 'QueryResult', 'QueryVector', 'RpcStatus', 'ScoredVector', 'ServiceException', 'SingleQueryResults', 'SparseValues', 'UnauthorizedException', 'UpdateRequest', 'UpsertRequest', 'UpsertResponse', 'UpsertResult', 'Vector', 'VersionResponse', 'WhoAmIResponse', '__builtins__', '__cached__', '__doc__', '__file__', '__loader__', '__name__', '__package__', '__path__', '__spec__', '__version__', 'config', 'configure_index', 'core', 'create_collection', 'create_index', 'delete_collection', 'delete_index', 'describe_collection', 'describe_index', 'exceptions', 'index', 'info', 'init', 'list_collections', 'list_indexes', 'manage', 'scale_index', 'version', 'whoami']\n",
      "['ApiAttributeError', 'ApiException', 'ApiKeyError', 'ApiTypeError', 'ApiValueError', 'CollectionDescription', 'Config', 'DeleteRequest', 'DeleteResult', 'DescribeIndexStatsRequest', 'DescribeIndexStatsResponse', 'FetchResponse', 'FetchResult', 'ForbiddenException', 'Index', 'IndexDescription', 'InfoResult', 'NotFoundException', 'OpenApiException', 'PineconeException', 'PineconeProtocolError', 'ProtobufAny', 'QueryRequest', 'QueryResponse', 'QueryResult', 'QueryVector', 'RpcStatus', 'ScoredVector', 'ServiceException', 'SingleQueryResults', 'SparseValues', 'UnauthorizedException', 'UpdateRequest', 'UpsertRequest', 'UpsertResponse', 'UpsertResult', 'Vector', 'VersionResponse', 'WhoAmIResponse', '__builtins__', '__cached__', '__doc__', '__file__', '__loader__', '__name__', '__package__', '__path__', '__spec__', '__version__', 'config', 'configure_index', 'core', 'create_collection', 'create_index', 'delete_collection', 'delete_index', 'describe_collection', 'describe_index', 'exceptions', 'index', 'info', 'init', 'list_collections', 'list_indexes', 'manage', 'scale_index', 'version', 'whoami']\n",
      "['ApiAttributeError', 'ApiException', 'ApiKeyError', 'ApiTypeError', 'ApiValueError', 'CollectionDescription', 'Config', 'DeleteRequest', 'DeleteResult', 'DescribeIndexStatsRequest', 'DescribeIndexStatsResponse', 'FetchResponse', 'FetchResult', 'ForbiddenException', 'Index', 'IndexDescription', 'InfoResult', 'NotFoundException', 'OpenApiException', 'PineconeException', 'PineconeProtocolError', 'ProtobufAny', 'QueryRequest', 'QueryResponse', 'QueryResult', 'QueryVector', 'RpcStatus', 'ScoredVector', 'ServiceException', 'SingleQueryResults', 'SparseValues', 'UnauthorizedException', 'UpdateRequest', 'UpsertRequest', 'UpsertResponse', 'UpsertResult', 'Vector', 'VersionResponse', 'WhoAmIResponse', '__builtins__', '__cached__', '__doc__', '__file__', '__loader__', '__name__', '__package__', '__path__', '__spec__', '__version__', 'config', 'configure_index', 'core', 'create_collection', 'create_index', 'delete_collection', 'delete_index', 'describe_collection', 'describe_index', 'exceptions', 'index', 'info', 'init', 'list_collections', 'list_indexes', 'manage', 'scale_index', 'version', 'whoami']\n",
      "['ApiAttributeError', 'ApiException', 'ApiKeyError', 'ApiTypeError', 'ApiValueError', 'CollectionDescription', 'Config', 'DeleteRequest', 'DeleteResult', 'DescribeIndexStatsRequest', 'DescribeIndexStatsResponse', 'FetchResponse', 'FetchResult', 'ForbiddenException', 'Index', 'IndexDescription', 'InfoResult', 'NotFoundException', 'OpenApiException', 'PineconeException', 'PineconeProtocolError', 'ProtobufAny', 'QueryRequest', 'QueryResponse', 'QueryResult', 'QueryVector', 'RpcStatus', 'ScoredVector', 'ServiceException', 'SingleQueryResults', 'SparseValues', 'UnauthorizedException', 'UpdateRequest', 'UpsertRequest', 'UpsertResponse', 'UpsertResult', 'Vector', 'VersionResponse', 'WhoAmIResponse', '__builtins__', '__cached__', '__doc__', '__file__', '__loader__', '__name__', '__package__', '__path__', '__spec__', '__version__', 'config', 'configure_index', 'core', 'create_collection', 'create_index', 'delete_collection', 'delete_index', 'describe_collection', 'describe_index', 'exceptions', 'index', 'info', 'init', 'list_collections', 'list_indexes', 'manage', 'scale_index', 'version', 'whoami']\n",
      "['ApiAttributeError', 'ApiException', 'ApiKeyError', 'ApiTypeError', 'ApiValueError', 'CollectionDescription', 'Config', 'DeleteRequest', 'DeleteResult', 'DescribeIndexStatsRequest', 'DescribeIndexStatsResponse', 'FetchResponse', 'FetchResult', 'ForbiddenException', 'Index', 'IndexDescription', 'InfoResult', 'NotFoundException', 'OpenApiException', 'PineconeException', 'PineconeProtocolError', 'ProtobufAny', 'QueryRequest', 'QueryResponse', 'QueryResult', 'QueryVector', 'RpcStatus', 'ScoredVector', 'ServiceException', 'SingleQueryResults', 'SparseValues', 'UnauthorizedException', 'UpdateRequest', 'UpsertRequest', 'UpsertResponse', 'UpsertResult', 'Vector', 'VersionResponse', 'WhoAmIResponse', '__builtins__', '__cached__', '__doc__', '__file__', '__loader__', '__name__', '__package__', '__path__', '__spec__', '__version__', 'config', 'configure_index', 'core', 'create_collection', 'create_index', 'delete_collection', 'delete_index', 'describe_collection', 'describe_index', 'exceptions', 'index', 'info', 'init', 'list_collections', 'list_indexes', 'manage', 'scale_index', 'version', 'whoami']\n",
      "['ApiAttributeError', 'ApiException', 'ApiKeyError', 'ApiTypeError', 'ApiValueError', 'CollectionDescription', 'Config', 'DeleteRequest', 'DeleteResult', 'DescribeIndexStatsRequest', 'DescribeIndexStatsResponse', 'FetchResponse', 'FetchResult', 'ForbiddenException', 'Index', 'IndexDescription', 'InfoResult', 'NotFoundException', 'OpenApiException', 'PineconeException', 'PineconeProtocolError', 'ProtobufAny', 'QueryRequest', 'QueryResponse', 'QueryResult', 'QueryVector', 'RpcStatus', 'ScoredVector', 'ServiceException', 'SingleQueryResults', 'SparseValues', 'UnauthorizedException', 'UpdateRequest', 'UpsertRequest', 'UpsertResponse', 'UpsertResult', 'Vector', 'VersionResponse', 'WhoAmIResponse', '__builtins__', '__cached__', '__doc__', '__file__', '__loader__', '__name__', '__package__', '__path__', '__spec__', '__version__', 'config', 'configure_index', 'core', 'create_collection', 'create_index', 'delete_collection', 'delete_index', 'describe_collection', 'describe_index', 'exceptions', 'index', 'info', 'init', 'list_collections', 'list_indexes', 'manage', 'scale_index', 'version', 'whoami']\n",
      "['ApiAttributeError', 'ApiException', 'ApiKeyError', 'ApiTypeError', 'ApiValueError', 'CollectionDescription', 'Config', 'DeleteRequest', 'DeleteResult', 'DescribeIndexStatsRequest', 'DescribeIndexStatsResponse', 'FetchResponse', 'FetchResult', 'ForbiddenException', 'Index', 'IndexDescription', 'InfoResult', 'NotFoundException', 'OpenApiException', 'PineconeException', 'PineconeProtocolError', 'ProtobufAny', 'QueryRequest', 'QueryResponse', 'QueryResult', 'QueryVector', 'RpcStatus', 'ScoredVector', 'ServiceException', 'SingleQueryResults', 'SparseValues', 'UnauthorizedException', 'UpdateRequest', 'UpsertRequest', 'UpsertResponse', 'UpsertResult', 'Vector', 'VersionResponse', 'WhoAmIResponse', '__builtins__', '__cached__', '__doc__', '__file__', '__loader__', '__name__', '__package__', '__path__', '__spec__', '__version__', 'config', 'configure_index', 'core', 'create_collection', 'create_index', 'delete_collection', 'delete_index', 'describe_collection', 'describe_index', 'exceptions', 'index', 'info', 'init', 'list_collections', 'list_indexes', 'manage', 'scale_index', 'version', 'whoami']\n",
      "['ApiAttributeError', 'ApiException', 'ApiKeyError', 'ApiTypeError', 'ApiValueError', 'CollectionDescription', 'Config', 'DeleteRequest', 'DeleteResult', 'DescribeIndexStatsRequest', 'DescribeIndexStatsResponse', 'FetchResponse', 'FetchResult', 'ForbiddenException', 'Index', 'IndexDescription', 'InfoResult', 'NotFoundException', 'OpenApiException', 'PineconeException', 'PineconeProtocolError', 'ProtobufAny', 'QueryRequest', 'QueryResponse', 'QueryResult', 'QueryVector', 'RpcStatus', 'ScoredVector', 'ServiceException', 'SingleQueryResults', 'SparseValues', 'UnauthorizedException', 'UpdateRequest', 'UpsertRequest', 'UpsertResponse', 'UpsertResult', 'Vector', 'VersionResponse', 'WhoAmIResponse', '__builtins__', '__cached__', '__doc__', '__file__', '__loader__', '__name__', '__package__', '__path__', '__spec__', '__version__', 'config', 'configure_index', 'core', 'create_collection', 'create_index', 'delete_collection', 'delete_index', 'describe_collection', 'describe_index', 'exceptions', 'index', 'info', 'init', 'list_collections', 'list_indexes', 'manage', 'scale_index', 'version', 'whoami']\n",
      "['ApiAttributeError', 'ApiException', 'ApiKeyError', 'ApiTypeError', 'ApiValueError', 'CollectionDescription', 'Config', 'DeleteRequest', 'DeleteResult', 'DescribeIndexStatsRequest', 'DescribeIndexStatsResponse', 'FetchResponse', 'FetchResult', 'ForbiddenException', 'Index', 'IndexDescription', 'InfoResult', 'NotFoundException', 'OpenApiException', 'PineconeException', 'PineconeProtocolError', 'ProtobufAny', 'QueryRequest', 'QueryResponse', 'QueryResult', 'QueryVector', 'RpcStatus', 'ScoredVector', 'ServiceException', 'SingleQueryResults', 'SparseValues', 'UnauthorizedException', 'UpdateRequest', 'UpsertRequest', 'UpsertResponse', 'UpsertResult', 'Vector', 'VersionResponse', 'WhoAmIResponse', '__builtins__', '__cached__', '__doc__', '__file__', '__loader__', '__name__', '__package__', '__path__', '__spec__', '__version__', 'config', 'configure_index', 'core', 'create_collection', 'create_index', 'delete_collection', 'delete_index', 'describe_collection', 'describe_index', 'exceptions', 'index', 'info', 'init', 'list_collections', 'list_indexes', 'manage', 'scale_index', 'version', 'whoami']\n",
      "['ApiAttributeError', 'ApiException', 'ApiKeyError', 'ApiTypeError', 'ApiValueError', 'CollectionDescription', 'Config', 'DeleteRequest', 'DeleteResult', 'DescribeIndexStatsRequest', 'DescribeIndexStatsResponse', 'FetchResponse', 'FetchResult', 'ForbiddenException', 'Index', 'IndexDescription', 'InfoResult', 'NotFoundException', 'OpenApiException', 'PineconeException', 'PineconeProtocolError', 'ProtobufAny', 'QueryRequest', 'QueryResponse', 'QueryResult', 'QueryVector', 'RpcStatus', 'ScoredVector', 'ServiceException', 'SingleQueryResults', 'SparseValues', 'UnauthorizedException', 'UpdateRequest', 'UpsertRequest', 'UpsertResponse', 'UpsertResult', 'Vector', 'VersionResponse', 'WhoAmIResponse', '__builtins__', '__cached__', '__doc__', '__file__', '__loader__', '__name__', '__package__', '__path__', '__spec__', '__version__', 'config', 'configure_index', 'core', 'create_collection', 'create_index', 'delete_collection', 'delete_index', 'describe_collection', 'describe_index', 'exceptions', 'index', 'info', 'init', 'list_collections', 'list_indexes', 'manage', 'scale_index', 'version', 'whoami']\n",
      "['ApiAttributeError', 'ApiException', 'ApiKeyError', 'ApiTypeError', 'ApiValueError', 'CollectionDescription', 'Config', 'DeleteRequest', 'DeleteResult', 'DescribeIndexStatsRequest', 'DescribeIndexStatsResponse', 'FetchResponse', 'FetchResult', 'ForbiddenException', 'Index', 'IndexDescription', 'InfoResult', 'NotFoundException', 'OpenApiException', 'PineconeException', 'PineconeProtocolError', 'ProtobufAny', 'QueryRequest', 'QueryResponse', 'QueryResult', 'QueryVector', 'RpcStatus', 'ScoredVector', 'ServiceException', 'SingleQueryResults', 'SparseValues', 'UnauthorizedException', 'UpdateRequest', 'UpsertRequest', 'UpsertResponse', 'UpsertResult', 'Vector', 'VersionResponse', 'WhoAmIResponse', '__builtins__', '__cached__', '__doc__', '__file__', '__loader__', '__name__', '__package__', '__path__', '__spec__', '__version__', 'config', 'configure_index', 'core', 'create_collection', 'create_index', 'delete_collection', 'delete_index', 'describe_collection', 'describe_index', 'exceptions', 'index', 'info', 'init', 'list_collections', 'list_indexes', 'manage', 'scale_index', 'version', 'whoami']\n",
      "['ApiAttributeError', 'ApiException', 'ApiKeyError', 'ApiTypeError', 'ApiValueError', 'CollectionDescription', 'Config', 'DeleteRequest', 'DeleteResult', 'DescribeIndexStatsRequest', 'DescribeIndexStatsResponse', 'FetchResponse', 'FetchResult', 'ForbiddenException', 'Index', 'IndexDescription', 'InfoResult', 'NotFoundException', 'OpenApiException', 'PineconeException', 'PineconeProtocolError', 'ProtobufAny', 'QueryRequest', 'QueryResponse', 'QueryResult', 'QueryVector', 'RpcStatus', 'ScoredVector', 'ServiceException', 'SingleQueryResults', 'SparseValues', 'UnauthorizedException', 'UpdateRequest', 'UpsertRequest', 'UpsertResponse', 'UpsertResult', 'Vector', 'VersionResponse', 'WhoAmIResponse', '__builtins__', '__cached__', '__doc__', '__file__', '__loader__', '__name__', '__package__', '__path__', '__spec__', '__version__', 'config', 'configure_index', 'core', 'create_collection', 'create_index', 'delete_collection', 'delete_index', 'describe_collection', 'describe_index', 'exceptions', 'index', 'info', 'init', 'list_collections', 'list_indexes', 'manage', 'scale_index', 'version', 'whoami']\n",
      "['ApiAttributeError', 'ApiException', 'ApiKeyError', 'ApiTypeError', 'ApiValueError', 'CollectionDescription', 'Config', 'DeleteRequest', 'DeleteResult', 'DescribeIndexStatsRequest', 'DescribeIndexStatsResponse', 'FetchResponse', 'FetchResult', 'ForbiddenException', 'Index', 'IndexDescription', 'InfoResult', 'NotFoundException', 'OpenApiException', 'PineconeException', 'PineconeProtocolError', 'ProtobufAny', 'QueryRequest', 'QueryResponse', 'QueryResult', 'QueryVector', 'RpcStatus', 'ScoredVector', 'ServiceException', 'SingleQueryResults', 'SparseValues', 'UnauthorizedException', 'UpdateRequest', 'UpsertRequest', 'UpsertResponse', 'UpsertResult', 'Vector', 'VersionResponse', 'WhoAmIResponse', '__builtins__', '__cached__', '__doc__', '__file__', '__loader__', '__name__', '__package__', '__path__', '__spec__', '__version__', 'config', 'configure_index', 'core', 'create_collection', 'create_index', 'delete_collection', 'delete_index', 'describe_collection', 'describe_index', 'exceptions', 'index', 'info', 'init', 'list_collections', 'list_indexes', 'manage', 'scale_index', 'version', 'whoami']\n",
      "['ApiAttributeError', 'ApiException', 'ApiKeyError', 'ApiTypeError', 'ApiValueError', 'CollectionDescription', 'Config', 'DeleteRequest', 'DeleteResult', 'DescribeIndexStatsRequest', 'DescribeIndexStatsResponse', 'FetchResponse', 'FetchResult', 'ForbiddenException', 'Index', 'IndexDescription', 'InfoResult', 'NotFoundException', 'OpenApiException', 'PineconeException', 'PineconeProtocolError', 'ProtobufAny', 'QueryRequest', 'QueryResponse', 'QueryResult', 'QueryVector', 'RpcStatus', 'ScoredVector', 'ServiceException', 'SingleQueryResults', 'SparseValues', 'UnauthorizedException', 'UpdateRequest', 'UpsertRequest', 'UpsertResponse', 'UpsertResult', 'Vector', 'VersionResponse', 'WhoAmIResponse', '__builtins__', '__cached__', '__doc__', '__file__', '__loader__', '__name__', '__package__', '__path__', '__spec__', '__version__', 'config', 'configure_index', 'core', 'create_collection', 'create_index', 'delete_collection', 'delete_index', 'describe_collection', 'describe_index', 'exceptions', 'index', 'info', 'init', 'list_collections', 'list_indexes', 'manage', 'scale_index', 'version', 'whoami']\n",
      "['ApiAttributeError', 'ApiException', 'ApiKeyError', 'ApiTypeError', 'ApiValueError', 'CollectionDescription', 'Config', 'DeleteRequest', 'DeleteResult', 'DescribeIndexStatsRequest', 'DescribeIndexStatsResponse', 'FetchResponse', 'FetchResult', 'ForbiddenException', 'Index', 'IndexDescription', 'InfoResult', 'NotFoundException', 'OpenApiException', 'PineconeException', 'PineconeProtocolError', 'ProtobufAny', 'QueryRequest', 'QueryResponse', 'QueryResult', 'QueryVector', 'RpcStatus', 'ScoredVector', 'ServiceException', 'SingleQueryResults', 'SparseValues', 'UnauthorizedException', 'UpdateRequest', 'UpsertRequest', 'UpsertResponse', 'UpsertResult', 'Vector', 'VersionResponse', 'WhoAmIResponse', '__builtins__', '__cached__', '__doc__', '__file__', '__loader__', '__name__', '__package__', '__path__', '__spec__', '__version__', 'config', 'configure_index', 'core', 'create_collection', 'create_index', 'delete_collection', 'delete_index', 'describe_collection', 'describe_index', 'exceptions', 'index', 'info', 'init', 'list_collections', 'list_indexes', 'manage', 'scale_index', 'version', 'whoami']\n",
      "['ApiAttributeError', 'ApiException', 'ApiKeyError', 'ApiTypeError', 'ApiValueError', 'CollectionDescription', 'Config', 'DeleteRequest', 'DeleteResult', 'DescribeIndexStatsRequest', 'DescribeIndexStatsResponse', 'FetchResponse', 'FetchResult', 'ForbiddenException', 'Index', 'IndexDescription', 'InfoResult', 'NotFoundException', 'OpenApiException', 'PineconeException', 'PineconeProtocolError', 'ProtobufAny', 'QueryRequest', 'QueryResponse', 'QueryResult', 'QueryVector', 'RpcStatus', 'ScoredVector', 'ServiceException', 'SingleQueryResults', 'SparseValues', 'UnauthorizedException', 'UpdateRequest', 'UpsertRequest', 'UpsertResponse', 'UpsertResult', 'Vector', 'VersionResponse', 'WhoAmIResponse', '__builtins__', '__cached__', '__doc__', '__file__', '__loader__', '__name__', '__package__', '__path__', '__spec__', '__version__', 'config', 'configure_index', 'core', 'create_collection', 'create_index', 'delete_collection', 'delete_index', 'describe_collection', 'describe_index', 'exceptions', 'index', 'info', 'init', 'list_collections', 'list_indexes', 'manage', 'scale_index', 'version', 'whoami']\n",
      "['ApiAttributeError', 'ApiException', 'ApiKeyError', 'ApiTypeError', 'ApiValueError', 'CollectionDescription', 'Config', 'DeleteRequest', 'DeleteResult', 'DescribeIndexStatsRequest', 'DescribeIndexStatsResponse', 'FetchResponse', 'FetchResult', 'ForbiddenException', 'Index', 'IndexDescription', 'InfoResult', 'NotFoundException', 'OpenApiException', 'PineconeException', 'PineconeProtocolError', 'ProtobufAny', 'QueryRequest', 'QueryResponse', 'QueryResult', 'QueryVector', 'RpcStatus', 'ScoredVector', 'ServiceException', 'SingleQueryResults', 'SparseValues', 'UnauthorizedException', 'UpdateRequest', 'UpsertRequest', 'UpsertResponse', 'UpsertResult', 'Vector', 'VersionResponse', 'WhoAmIResponse', '__builtins__', '__cached__', '__doc__', '__file__', '__loader__', '__name__', '__package__', '__path__', '__spec__', '__version__', 'config', 'configure_index', 'core', 'create_collection', 'create_index', 'delete_collection', 'delete_index', 'describe_collection', 'describe_index', 'exceptions', 'index', 'info', 'init', 'list_collections', 'list_indexes', 'manage', 'scale_index', 'version', 'whoami']\n",
      "['ApiAttributeError', 'ApiException', 'ApiKeyError', 'ApiTypeError', 'ApiValueError', 'CollectionDescription', 'Config', 'DeleteRequest', 'DeleteResult', 'DescribeIndexStatsRequest', 'DescribeIndexStatsResponse', 'FetchResponse', 'FetchResult', 'ForbiddenException', 'Index', 'IndexDescription', 'InfoResult', 'NotFoundException', 'OpenApiException', 'PineconeException', 'PineconeProtocolError', 'ProtobufAny', 'QueryRequest', 'QueryResponse', 'QueryResult', 'QueryVector', 'RpcStatus', 'ScoredVector', 'ServiceException', 'SingleQueryResults', 'SparseValues', 'UnauthorizedException', 'UpdateRequest', 'UpsertRequest', 'UpsertResponse', 'UpsertResult', 'Vector', 'VersionResponse', 'WhoAmIResponse', '__builtins__', '__cached__', '__doc__', '__file__', '__loader__', '__name__', '__package__', '__path__', '__spec__', '__version__', 'config', 'configure_index', 'core', 'create_collection', 'create_index', 'delete_collection', 'delete_index', 'describe_collection', 'describe_index', 'exceptions', 'index', 'info', 'init', 'list_collections', 'list_indexes', 'manage', 'scale_index', 'version', 'whoami']\n",
      "['ApiAttributeError', 'ApiException', 'ApiKeyError', 'ApiTypeError', 'ApiValueError', 'CollectionDescription', 'Config', 'DeleteRequest', 'DeleteResult', 'DescribeIndexStatsRequest', 'DescribeIndexStatsResponse', 'FetchResponse', 'FetchResult', 'ForbiddenException', 'Index', 'IndexDescription', 'InfoResult', 'NotFoundException', 'OpenApiException', 'PineconeException', 'PineconeProtocolError', 'ProtobufAny', 'QueryRequest', 'QueryResponse', 'QueryResult', 'QueryVector', 'RpcStatus', 'ScoredVector', 'ServiceException', 'SingleQueryResults', 'SparseValues', 'UnauthorizedException', 'UpdateRequest', 'UpsertRequest', 'UpsertResponse', 'UpsertResult', 'Vector', 'VersionResponse', 'WhoAmIResponse', '__builtins__', '__cached__', '__doc__', '__file__', '__loader__', '__name__', '__package__', '__path__', '__spec__', '__version__', 'config', 'configure_index', 'core', 'create_collection', 'create_index', 'delete_collection', 'delete_index', 'describe_collection', 'describe_index', 'exceptions', 'index', 'info', 'init', 'list_collections', 'list_indexes', 'manage', 'scale_index', 'version', 'whoami']\n",
      "['ApiAttributeError', 'ApiException', 'ApiKeyError', 'ApiTypeError', 'ApiValueError', 'CollectionDescription', 'Config', 'DeleteRequest', 'DeleteResult', 'DescribeIndexStatsRequest', 'DescribeIndexStatsResponse', 'FetchResponse', 'FetchResult', 'ForbiddenException', 'Index', 'IndexDescription', 'InfoResult', 'NotFoundException', 'OpenApiException', 'PineconeException', 'PineconeProtocolError', 'ProtobufAny', 'QueryRequest', 'QueryResponse', 'QueryResult', 'QueryVector', 'RpcStatus', 'ScoredVector', 'ServiceException', 'SingleQueryResults', 'SparseValues', 'UnauthorizedException', 'UpdateRequest', 'UpsertRequest', 'UpsertResponse', 'UpsertResult', 'Vector', 'VersionResponse', 'WhoAmIResponse', '__builtins__', '__cached__', '__doc__', '__file__', '__loader__', '__name__', '__package__', '__path__', '__spec__', '__version__', 'config', 'configure_index', 'core', 'create_collection', 'create_index', 'delete_collection', 'delete_index', 'describe_collection', 'describe_index', 'exceptions', 'index', 'info', 'init', 'list_collections', 'list_indexes', 'manage', 'scale_index', 'version', 'whoami']\n",
      "['ApiAttributeError', 'ApiException', 'ApiKeyError', 'ApiTypeError', 'ApiValueError', 'CollectionDescription', 'Config', 'DeleteRequest', 'DeleteResult', 'DescribeIndexStatsRequest', 'DescribeIndexStatsResponse', 'FetchResponse', 'FetchResult', 'ForbiddenException', 'Index', 'IndexDescription', 'InfoResult', 'NotFoundException', 'OpenApiException', 'PineconeException', 'PineconeProtocolError', 'ProtobufAny', 'QueryRequest', 'QueryResponse', 'QueryResult', 'QueryVector', 'RpcStatus', 'ScoredVector', 'ServiceException', 'SingleQueryResults', 'SparseValues', 'UnauthorizedException', 'UpdateRequest', 'UpsertRequest', 'UpsertResponse', 'UpsertResult', 'Vector', 'VersionResponse', 'WhoAmIResponse', '__builtins__', '__cached__', '__doc__', '__file__', '__loader__', '__name__', '__package__', '__path__', '__spec__', '__version__', 'config', 'configure_index', 'core', 'create_collection', 'create_index', 'delete_collection', 'delete_index', 'describe_collection', 'describe_index', 'exceptions', 'index', 'info', 'init', 'list_collections', 'list_indexes', 'manage', 'scale_index', 'version', 'whoami']\n",
      "['ApiAttributeError', 'ApiException', 'ApiKeyError', 'ApiTypeError', 'ApiValueError', 'CollectionDescription', 'Config', 'DeleteRequest', 'DeleteResult', 'DescribeIndexStatsRequest', 'DescribeIndexStatsResponse', 'FetchResponse', 'FetchResult', 'ForbiddenException', 'Index', 'IndexDescription', 'InfoResult', 'NotFoundException', 'OpenApiException', 'PineconeException', 'PineconeProtocolError', 'ProtobufAny', 'QueryRequest', 'QueryResponse', 'QueryResult', 'QueryVector', 'RpcStatus', 'ScoredVector', 'ServiceException', 'SingleQueryResults', 'SparseValues', 'UnauthorizedException', 'UpdateRequest', 'UpsertRequest', 'UpsertResponse', 'UpsertResult', 'Vector', 'VersionResponse', 'WhoAmIResponse', '__builtins__', '__cached__', '__doc__', '__file__', '__loader__', '__name__', '__package__', '__path__', '__spec__', '__version__', 'config', 'configure_index', 'core', 'create_collection', 'create_index', 'delete_collection', 'delete_index', 'describe_collection', 'describe_index', 'exceptions', 'index', 'info', 'init', 'list_collections', 'list_indexes', 'manage', 'scale_index', 'version', 'whoami']\n",
      "['ApiAttributeError', 'ApiException', 'ApiKeyError', 'ApiTypeError', 'ApiValueError', 'CollectionDescription', 'Config', 'DeleteRequest', 'DeleteResult', 'DescribeIndexStatsRequest', 'DescribeIndexStatsResponse', 'FetchResponse', 'FetchResult', 'ForbiddenException', 'Index', 'IndexDescription', 'InfoResult', 'NotFoundException', 'OpenApiException', 'PineconeException', 'PineconeProtocolError', 'ProtobufAny', 'QueryRequest', 'QueryResponse', 'QueryResult', 'QueryVector', 'RpcStatus', 'ScoredVector', 'ServiceException', 'SingleQueryResults', 'SparseValues', 'UnauthorizedException', 'UpdateRequest', 'UpsertRequest', 'UpsertResponse', 'UpsertResult', 'Vector', 'VersionResponse', 'WhoAmIResponse', '__builtins__', '__cached__', '__doc__', '__file__', '__loader__', '__name__', '__package__', '__path__', '__spec__', '__version__', 'config', 'configure_index', 'core', 'create_collection', 'create_index', 'delete_collection', 'delete_index', 'describe_collection', 'describe_index', 'exceptions', 'index', 'info', 'init', 'list_collections', 'list_indexes', 'manage', 'scale_index', 'version', 'whoami']\n",
      "['ApiAttributeError', 'ApiException', 'ApiKeyError', 'ApiTypeError', 'ApiValueError', 'CollectionDescription', 'Config', 'DeleteRequest', 'DeleteResult', 'DescribeIndexStatsRequest', 'DescribeIndexStatsResponse', 'FetchResponse', 'FetchResult', 'ForbiddenException', 'Index', 'IndexDescription', 'InfoResult', 'NotFoundException', 'OpenApiException', 'PineconeException', 'PineconeProtocolError', 'ProtobufAny', 'QueryRequest', 'QueryResponse', 'QueryResult', 'QueryVector', 'RpcStatus', 'ScoredVector', 'ServiceException', 'SingleQueryResults', 'SparseValues', 'UnauthorizedException', 'UpdateRequest', 'UpsertRequest', 'UpsertResponse', 'UpsertResult', 'Vector', 'VersionResponse', 'WhoAmIResponse', '__builtins__', '__cached__', '__doc__', '__file__', '__loader__', '__name__', '__package__', '__path__', '__spec__', '__version__', 'config', 'configure_index', 'core', 'create_collection', 'create_index', 'delete_collection', 'delete_index', 'describe_collection', 'describe_index', 'exceptions', 'index', 'info', 'init', 'list_collections', 'list_indexes', 'manage', 'scale_index', 'version', 'whoami']\n",
      "['ApiAttributeError', 'ApiException', 'ApiKeyError', 'ApiTypeError', 'ApiValueError', 'CollectionDescription', 'Config', 'DeleteRequest', 'DeleteResult', 'DescribeIndexStatsRequest', 'DescribeIndexStatsResponse', 'FetchResponse', 'FetchResult', 'ForbiddenException', 'Index', 'IndexDescription', 'InfoResult', 'NotFoundException', 'OpenApiException', 'PineconeException', 'PineconeProtocolError', 'ProtobufAny', 'QueryRequest', 'QueryResponse', 'QueryResult', 'QueryVector', 'RpcStatus', 'ScoredVector', 'ServiceException', 'SingleQueryResults', 'SparseValues', 'UnauthorizedException', 'UpdateRequest', 'UpsertRequest', 'UpsertResponse', 'UpsertResult', 'Vector', 'VersionResponse', 'WhoAmIResponse', '__builtins__', '__cached__', '__doc__', '__file__', '__loader__', '__name__', '__package__', '__path__', '__spec__', '__version__', 'config', 'configure_index', 'core', 'create_collection', 'create_index', 'delete_collection', 'delete_index', 'describe_collection', 'describe_index', 'exceptions', 'index', 'info', 'init', 'list_collections', 'list_indexes', 'manage', 'scale_index', 'version', 'whoami']\n",
      "['ApiAttributeError', 'ApiException', 'ApiKeyError', 'ApiTypeError', 'ApiValueError', 'CollectionDescription', 'Config', 'DeleteRequest', 'DeleteResult', 'DescribeIndexStatsRequest', 'DescribeIndexStatsResponse', 'FetchResponse', 'FetchResult', 'ForbiddenException', 'Index', 'IndexDescription', 'InfoResult', 'NotFoundException', 'OpenApiException', 'PineconeException', 'PineconeProtocolError', 'ProtobufAny', 'QueryRequest', 'QueryResponse', 'QueryResult', 'QueryVector', 'RpcStatus', 'ScoredVector', 'ServiceException', 'SingleQueryResults', 'SparseValues', 'UnauthorizedException', 'UpdateRequest', 'UpsertRequest', 'UpsertResponse', 'UpsertResult', 'Vector', 'VersionResponse', 'WhoAmIResponse', '__builtins__', '__cached__', '__doc__', '__file__', '__loader__', '__name__', '__package__', '__path__', '__spec__', '__version__', 'config', 'configure_index', 'core', 'create_collection', 'create_index', 'delete_collection', 'delete_index', 'describe_collection', 'describe_index', 'exceptions', 'index', 'info', 'init', 'list_collections', 'list_indexes', 'manage', 'scale_index', 'version', 'whoami']\n",
      "['ApiAttributeError', 'ApiException', 'ApiKeyError', 'ApiTypeError', 'ApiValueError', 'CollectionDescription', 'Config', 'DeleteRequest', 'DeleteResult', 'DescribeIndexStatsRequest', 'DescribeIndexStatsResponse', 'FetchResponse', 'FetchResult', 'ForbiddenException', 'Index', 'IndexDescription', 'InfoResult', 'NotFoundException', 'OpenApiException', 'PineconeException', 'PineconeProtocolError', 'ProtobufAny', 'QueryRequest', 'QueryResponse', 'QueryResult', 'QueryVector', 'RpcStatus', 'ScoredVector', 'ServiceException', 'SingleQueryResults', 'SparseValues', 'UnauthorizedException', 'UpdateRequest', 'UpsertRequest', 'UpsertResponse', 'UpsertResult', 'Vector', 'VersionResponse', 'WhoAmIResponse', '__builtins__', '__cached__', '__doc__', '__file__', '__loader__', '__name__', '__package__', '__path__', '__spec__', '__version__', 'config', 'configure_index', 'core', 'create_collection', 'create_index', 'delete_collection', 'delete_index', 'describe_collection', 'describe_index', 'exceptions', 'index', 'info', 'init', 'list_collections', 'list_indexes', 'manage', 'scale_index', 'version', 'whoami']\n",
      "['ApiAttributeError', 'ApiException', 'ApiKeyError', 'ApiTypeError', 'ApiValueError', 'CollectionDescription', 'Config', 'DeleteRequest', 'DeleteResult', 'DescribeIndexStatsRequest', 'DescribeIndexStatsResponse', 'FetchResponse', 'FetchResult', 'ForbiddenException', 'Index', 'IndexDescription', 'InfoResult', 'NotFoundException', 'OpenApiException', 'PineconeException', 'PineconeProtocolError', 'ProtobufAny', 'QueryRequest', 'QueryResponse', 'QueryResult', 'QueryVector', 'RpcStatus', 'ScoredVector', 'ServiceException', 'SingleQueryResults', 'SparseValues', 'UnauthorizedException', 'UpdateRequest', 'UpsertRequest', 'UpsertResponse', 'UpsertResult', 'Vector', 'VersionResponse', 'WhoAmIResponse', '__builtins__', '__cached__', '__doc__', '__file__', '__loader__', '__name__', '__package__', '__path__', '__spec__', '__version__', 'config', 'configure_index', 'core', 'create_collection', 'create_index', 'delete_collection', 'delete_index', 'describe_collection', 'describe_index', 'exceptions', 'index', 'info', 'init', 'list_collections', 'list_indexes', 'manage', 'scale_index', 'version', 'whoami']\n",
      "['ApiAttributeError', 'ApiException', 'ApiKeyError', 'ApiTypeError', 'ApiValueError', 'CollectionDescription', 'Config', 'DeleteRequest', 'DeleteResult', 'DescribeIndexStatsRequest', 'DescribeIndexStatsResponse', 'FetchResponse', 'FetchResult', 'ForbiddenException', 'Index', 'IndexDescription', 'InfoResult', 'NotFoundException', 'OpenApiException', 'PineconeException', 'PineconeProtocolError', 'ProtobufAny', 'QueryRequest', 'QueryResponse', 'QueryResult', 'QueryVector', 'RpcStatus', 'ScoredVector', 'ServiceException', 'SingleQueryResults', 'SparseValues', 'UnauthorizedException', 'UpdateRequest', 'UpsertRequest', 'UpsertResponse', 'UpsertResult', 'Vector', 'VersionResponse', 'WhoAmIResponse', '__builtins__', '__cached__', '__doc__', '__file__', '__loader__', '__name__', '__package__', '__path__', '__spec__', '__version__', 'config', 'configure_index', 'core', 'create_collection', 'create_index', 'delete_collection', 'delete_index', 'describe_collection', 'describe_index', 'exceptions', 'index', 'info', 'init', 'list_collections', 'list_indexes', 'manage', 'scale_index', 'version', 'whoami']\n",
      "['ApiAttributeError', 'ApiException', 'ApiKeyError', 'ApiTypeError', 'ApiValueError', 'CollectionDescription', 'Config', 'DeleteRequest', 'DeleteResult', 'DescribeIndexStatsRequest', 'DescribeIndexStatsResponse', 'FetchResponse', 'FetchResult', 'ForbiddenException', 'Index', 'IndexDescription', 'InfoResult', 'NotFoundException', 'OpenApiException', 'PineconeException', 'PineconeProtocolError', 'ProtobufAny', 'QueryRequest', 'QueryResponse', 'QueryResult', 'QueryVector', 'RpcStatus', 'ScoredVector', 'ServiceException', 'SingleQueryResults', 'SparseValues', 'UnauthorizedException', 'UpdateRequest', 'UpsertRequest', 'UpsertResponse', 'UpsertResult', 'Vector', 'VersionResponse', 'WhoAmIResponse', '__builtins__', '__cached__', '__doc__', '__file__', '__loader__', '__name__', '__package__', '__path__', '__spec__', '__version__', 'config', 'configure_index', 'core', 'create_collection', 'create_index', 'delete_collection', 'delete_index', 'describe_collection', 'describe_index', 'exceptions', 'index', 'info', 'init', 'list_collections', 'list_indexes', 'manage', 'scale_index', 'version', 'whoami']\n",
      "['ApiAttributeError', 'ApiException', 'ApiKeyError', 'ApiTypeError', 'ApiValueError', 'CollectionDescription', 'Config', 'DeleteRequest', 'DeleteResult', 'DescribeIndexStatsRequest', 'DescribeIndexStatsResponse', 'FetchResponse', 'FetchResult', 'ForbiddenException', 'Index', 'IndexDescription', 'InfoResult', 'NotFoundException', 'OpenApiException', 'PineconeException', 'PineconeProtocolError', 'ProtobufAny', 'QueryRequest', 'QueryResponse', 'QueryResult', 'QueryVector', 'RpcStatus', 'ScoredVector', 'ServiceException', 'SingleQueryResults', 'SparseValues', 'UnauthorizedException', 'UpdateRequest', 'UpsertRequest', 'UpsertResponse', 'UpsertResult', 'Vector', 'VersionResponse', 'WhoAmIResponse', '__builtins__', '__cached__', '__doc__', '__file__', '__loader__', '__name__', '__package__', '__path__', '__spec__', '__version__', 'config', 'configure_index', 'core', 'create_collection', 'create_index', 'delete_collection', 'delete_index', 'describe_collection', 'describe_index', 'exceptions', 'index', 'info', 'init', 'list_collections', 'list_indexes', 'manage', 'scale_index', 'version', 'whoami']\n",
      "['ApiAttributeError', 'ApiException', 'ApiKeyError', 'ApiTypeError', 'ApiValueError', 'CollectionDescription', 'Config', 'DeleteRequest', 'DeleteResult', 'DescribeIndexStatsRequest', 'DescribeIndexStatsResponse', 'FetchResponse', 'FetchResult', 'ForbiddenException', 'Index', 'IndexDescription', 'InfoResult', 'NotFoundException', 'OpenApiException', 'PineconeException', 'PineconeProtocolError', 'ProtobufAny', 'QueryRequest', 'QueryResponse', 'QueryResult', 'QueryVector', 'RpcStatus', 'ScoredVector', 'ServiceException', 'SingleQueryResults', 'SparseValues', 'UnauthorizedException', 'UpdateRequest', 'UpsertRequest', 'UpsertResponse', 'UpsertResult', 'Vector', 'VersionResponse', 'WhoAmIResponse', '__builtins__', '__cached__', '__doc__', '__file__', '__loader__', '__name__', '__package__', '__path__', '__spec__', '__version__', 'config', 'configure_index', 'core', 'create_collection', 'create_index', 'delete_collection', 'delete_index', 'describe_collection', 'describe_index', 'exceptions', 'index', 'info', 'init', 'list_collections', 'list_indexes', 'manage', 'scale_index', 'version', 'whoami']\n",
      "['ApiAttributeError', 'ApiException', 'ApiKeyError', 'ApiTypeError', 'ApiValueError', 'CollectionDescription', 'Config', 'DeleteRequest', 'DeleteResult', 'DescribeIndexStatsRequest', 'DescribeIndexStatsResponse', 'FetchResponse', 'FetchResult', 'ForbiddenException', 'Index', 'IndexDescription', 'InfoResult', 'NotFoundException', 'OpenApiException', 'PineconeException', 'PineconeProtocolError', 'ProtobufAny', 'QueryRequest', 'QueryResponse', 'QueryResult', 'QueryVector', 'RpcStatus', 'ScoredVector', 'ServiceException', 'SingleQueryResults', 'SparseValues', 'UnauthorizedException', 'UpdateRequest', 'UpsertRequest', 'UpsertResponse', 'UpsertResult', 'Vector', 'VersionResponse', 'WhoAmIResponse', '__builtins__', '__cached__', '__doc__', '__file__', '__loader__', '__name__', '__package__', '__path__', '__spec__', '__version__', 'config', 'configure_index', 'core', 'create_collection', 'create_index', 'delete_collection', 'delete_index', 'describe_collection', 'describe_index', 'exceptions', 'index', 'info', 'init', 'list_collections', 'list_indexes', 'manage', 'scale_index', 'version', 'whoami']\n",
      "['ApiAttributeError', 'ApiException', 'ApiKeyError', 'ApiTypeError', 'ApiValueError', 'CollectionDescription', 'Config', 'DeleteRequest', 'DeleteResult', 'DescribeIndexStatsRequest', 'DescribeIndexStatsResponse', 'FetchResponse', 'FetchResult', 'ForbiddenException', 'Index', 'IndexDescription', 'InfoResult', 'NotFoundException', 'OpenApiException', 'PineconeException', 'PineconeProtocolError', 'ProtobufAny', 'QueryRequest', 'QueryResponse', 'QueryResult', 'QueryVector', 'RpcStatus', 'ScoredVector', 'ServiceException', 'SingleQueryResults', 'SparseValues', 'UnauthorizedException', 'UpdateRequest', 'UpsertRequest', 'UpsertResponse', 'UpsertResult', 'Vector', 'VersionResponse', 'WhoAmIResponse', '__builtins__', '__cached__', '__doc__', '__file__', '__loader__', '__name__', '__package__', '__path__', '__spec__', '__version__', 'config', 'configure_index', 'core', 'create_collection', 'create_index', 'delete_collection', 'delete_index', 'describe_collection', 'describe_index', 'exceptions', 'index', 'info', 'init', 'list_collections', 'list_indexes', 'manage', 'scale_index', 'version', 'whoami']\n",
      "['ApiAttributeError', 'ApiException', 'ApiKeyError', 'ApiTypeError', 'ApiValueError', 'CollectionDescription', 'Config', 'DeleteRequest', 'DeleteResult', 'DescribeIndexStatsRequest', 'DescribeIndexStatsResponse', 'FetchResponse', 'FetchResult', 'ForbiddenException', 'Index', 'IndexDescription', 'InfoResult', 'NotFoundException', 'OpenApiException', 'PineconeException', 'PineconeProtocolError', 'ProtobufAny', 'QueryRequest', 'QueryResponse', 'QueryResult', 'QueryVector', 'RpcStatus', 'ScoredVector', 'ServiceException', 'SingleQueryResults', 'SparseValues', 'UnauthorizedException', 'UpdateRequest', 'UpsertRequest', 'UpsertResponse', 'UpsertResult', 'Vector', 'VersionResponse', 'WhoAmIResponse', '__builtins__', '__cached__', '__doc__', '__file__', '__loader__', '__name__', '__package__', '__path__', '__spec__', '__version__', 'config', 'configure_index', 'core', 'create_collection', 'create_index', 'delete_collection', 'delete_index', 'describe_collection', 'describe_index', 'exceptions', 'index', 'info', 'init', 'list_collections', 'list_indexes', 'manage', 'scale_index', 'version', 'whoami']\n",
      "['ApiAttributeError', 'ApiException', 'ApiKeyError', 'ApiTypeError', 'ApiValueError', 'CollectionDescription', 'Config', 'DeleteRequest', 'DeleteResult', 'DescribeIndexStatsRequest', 'DescribeIndexStatsResponse', 'FetchResponse', 'FetchResult', 'ForbiddenException', 'Index', 'IndexDescription', 'InfoResult', 'NotFoundException', 'OpenApiException', 'PineconeException', 'PineconeProtocolError', 'ProtobufAny', 'QueryRequest', 'QueryResponse', 'QueryResult', 'QueryVector', 'RpcStatus', 'ScoredVector', 'ServiceException', 'SingleQueryResults', 'SparseValues', 'UnauthorizedException', 'UpdateRequest', 'UpsertRequest', 'UpsertResponse', 'UpsertResult', 'Vector', 'VersionResponse', 'WhoAmIResponse', '__builtins__', '__cached__', '__doc__', '__file__', '__loader__', '__name__', '__package__', '__path__', '__spec__', '__version__', 'config', 'configure_index', 'core', 'create_collection', 'create_index', 'delete_collection', 'delete_index', 'describe_collection', 'describe_index', 'exceptions', 'index', 'info', 'init', 'list_collections', 'list_indexes', 'manage', 'scale_index', 'version', 'whoami']\n",
      "['ApiAttributeError', 'ApiException', 'ApiKeyError', 'ApiTypeError', 'ApiValueError', 'CollectionDescription', 'Config', 'DeleteRequest', 'DeleteResult', 'DescribeIndexStatsRequest', 'DescribeIndexStatsResponse', 'FetchResponse', 'FetchResult', 'ForbiddenException', 'Index', 'IndexDescription', 'InfoResult', 'NotFoundException', 'OpenApiException', 'PineconeException', 'PineconeProtocolError', 'ProtobufAny', 'QueryRequest', 'QueryResponse', 'QueryResult', 'QueryVector', 'RpcStatus', 'ScoredVector', 'ServiceException', 'SingleQueryResults', 'SparseValues', 'UnauthorizedException', 'UpdateRequest', 'UpsertRequest', 'UpsertResponse', 'UpsertResult', 'Vector', 'VersionResponse', 'WhoAmIResponse', '__builtins__', '__cached__', '__doc__', '__file__', '__loader__', '__name__', '__package__', '__path__', '__spec__', '__version__', 'config', 'configure_index', 'core', 'create_collection', 'create_index', 'delete_collection', 'delete_index', 'describe_collection', 'describe_index', 'exceptions', 'index', 'info', 'init', 'list_collections', 'list_indexes', 'manage', 'scale_index', 'version', 'whoami']\n",
      "['ApiAttributeError', 'ApiException', 'ApiKeyError', 'ApiTypeError', 'ApiValueError', 'CollectionDescription', 'Config', 'DeleteRequest', 'DeleteResult', 'DescribeIndexStatsRequest', 'DescribeIndexStatsResponse', 'FetchResponse', 'FetchResult', 'ForbiddenException', 'Index', 'IndexDescription', 'InfoResult', 'NotFoundException', 'OpenApiException', 'PineconeException', 'PineconeProtocolError', 'ProtobufAny', 'QueryRequest', 'QueryResponse', 'QueryResult', 'QueryVector', 'RpcStatus', 'ScoredVector', 'ServiceException', 'SingleQueryResults', 'SparseValues', 'UnauthorizedException', 'UpdateRequest', 'UpsertRequest', 'UpsertResponse', 'UpsertResult', 'Vector', 'VersionResponse', 'WhoAmIResponse', '__builtins__', '__cached__', '__doc__', '__file__', '__loader__', '__name__', '__package__', '__path__', '__spec__', '__version__', 'config', 'configure_index', 'core', 'create_collection', 'create_index', 'delete_collection', 'delete_index', 'describe_collection', 'describe_index', 'exceptions', 'index', 'info', 'init', 'list_collections', 'list_indexes', 'manage', 'scale_index', 'version', 'whoami']\n"
     ]
    }
   ],
   "source": [
    "x = dir(pinecone)\n",
    "for a in x:\n",
    "    print(x)"
   ]
  },
  {
   "cell_type": "code",
   "execution_count": 18,
   "metadata": {},
   "outputs": [],
   "source": [
    "index_name = 'ismir2021'\n",
    "\n",
    "if index_name not in pinecone.list_indexes():\n",
    "    pinecone.create_index(\n",
    "        index_name,\n",
    "        dimension=len(embeddings[0]),\n",
    "        metric='cosine' # dependent on model\n",
    "    )\n",
    "    while not pinecone.describe_index(index_name).status['ready']:\n",
    "        time.sleep(1)"
   ]
  },
  {
   "cell_type": "code",
   "execution_count": 19,
   "metadata": {},
   "outputs": [
    {
     "data": {
      "text/plain": [
       "<pinecone.index.Index at 0x16911d510>"
      ]
     },
     "execution_count": 19,
     "metadata": {},
     "output_type": "execute_result"
    }
   ],
   "source": [
    "index = pinecone.Index(index_name)\n",
    "index.describe_index_stats()\n",
    "index"
   ]
  },
  {
   "cell_type": "markdown",
   "metadata": {},
   "source": [
    "### Upsert"
   ]
  },
  {
   "cell_type": "code",
   "execution_count": 20,
   "metadata": {},
   "outputs": [
    {
     "name": "stderr",
     "output_type": "stream",
     "text": [
      "  0%|          | 0/4 [00:00<?, ?it/s]"
     ]
    },
    {
     "name": "stderr",
     "output_type": "stream",
     "text": [
      "100%|██████████| 4/4 [00:04<00:00,  1.00s/it]\n"
     ]
    }
   ],
   "source": [
    "batch_size = 32\n",
    "\n",
    "for i in tqdm(range(0, len(ismir_df), batch_size)):\n",
    "    i_end = min(len(ismir_df), i+batch_size)\n",
    "    batch = ismir_df.iloc[i:i_end]\n",
    "    \n",
    "    ids = [f\"{x['uuid']}\" for _, x in batch.iterrows()]\n",
    "    values = [x for x in embeddings[i:i_end]]\n",
    "    metadata = [\n",
    "        {\n",
    "            'combined': x['combined'],\n",
    "            'title': x['title'],\n",
    "            'authors': x['author'],\n",
    "            'year': x['year'],\n",
    "            'abstract': x['abstract'],\n",
    "            'ee': x['ee'],\n",
    "            'takeaway': x['extra']['takeaway'],\n",
    "            'best_paper_candidate_bool': x['extra']['best_paper_candidate'],\n",
    "            'subject_area_primary': x['extra']['subject_area_primary']\n",
    "        } for _, x in batch.iterrows()]\n",
    "    \n",
    "    index.upsert(\n",
    "        vectors=[\n",
    "            {\n",
    "                'id': ids[i],\n",
    "                'values': values[i].numpy().tolist(), # embeddings\n",
    "                'metadata': metadata[i]\n",
    "            } for i in range(len(ids))]\n",
    "        )\n",
    "    "
   ]
  },
  {
   "cell_type": "code",
   "execution_count": 21,
   "metadata": {},
   "outputs": [
    {
     "data": {
      "text/plain": [
       "{'dimension': 384,\n",
       " 'index_fullness': 0.00104,\n",
       " 'namespaces': {'': {'vector_count': 104}},\n",
       " 'total_vector_count': 104}"
      ]
     },
     "execution_count": 21,
     "metadata": {},
     "output_type": "execute_result"
    }
   ],
   "source": [
    "index.describe_index_stats()"
   ]
  },
  {
   "cell_type": "markdown",
   "metadata": {},
   "source": [
    "# Query Test"
   ]
  },
  {
   "cell_type": "code",
   "execution_count": 23,
   "metadata": {},
   "outputs": [
    {
     "data": {
      "text/plain": [
       "{'matches': [{'id': '1bea36cc-16a4-592e-880d-0b5569291dae',\n",
       "              'score': 0.934879959,\n",
       "              'values': []},\n",
       "             {'id': 'fb484b14-3a12-5ec0-b691-303a56a8de17',\n",
       "              'score': 0.62498337,\n",
       "              'values': []},\n",
       "             {'id': '52dff9f6-8f92-5e1c-87e4-7776c492f701',\n",
       "              'score': 0.614866853,\n",
       "              'values': []}],\n",
       " 'namespace': ''}"
      ]
     },
     "execution_count": 23,
     "metadata": {},
     "output_type": "execute_result"
    }
   ],
   "source": [
    "queries = [\"This study investigates automatic classification methods for tabla strokes, motivated by musicological applications and the acoustic correspondence with Western drum types. The study compares transfer learning on a pre-trained multiclass CNN drums model with 1-way models trained separately for each tabla stroke class. The 1-way models perform better overall, while adapted 3-way models show improved performance for the scarcest target class, and data augmentation strategies are explored for enhanced model robustness.\"]\n",
    "q_embeddings = get_embeddings(queries)\n",
    "\n",
    "index.query(\n",
    "    vector=q_embeddings[0].numpy().tolist(),\n",
    "    top_k=3,\n",
    "    filter={}\n",
    ")"
   ]
  }
 ],
 "metadata": {
  "kernelspec": {
   "display_name": "loci",
   "language": "python",
   "name": "python3"
  },
  "language_info": {
   "codemirror_mode": {
    "name": "ipython",
    "version": 3
   },
   "file_extension": ".py",
   "mimetype": "text/x-python",
   "name": "python",
   "nbconvert_exporter": "python",
   "pygments_lexer": "ipython3",
   "version": "3.11.5"
  },
  "orig_nbformat": 4
 },
 "nbformat": 4,
 "nbformat_minor": 2
}

{
 "cells": [
  {
   "cell_type": "code",
   "execution_count": 1,
   "metadata": {},
   "outputs": [
    {
     "name": "stdout",
     "output_type": "stream",
     "text": [
      "[Taichi] version 1.7.1, llvm 15.0.7, commit 0f143b2f, osx, python 3.11.8\n"
     ]
    },
    {
     "name": "stderr",
     "output_type": "stream",
     "text": [
      "[I 05/27/24 18:32:23.466 4962603] [shell.py:_shell_pop_print@23] Graphical python shell detected, using wrapped sys.stdout\n"
     ]
    },
    {
     "name": "stdout",
     "output_type": "stream",
     "text": [
      "[Taichi] Starting on arch=metal\n"
     ]
    }
   ],
   "source": [
    "import ast\n",
    "import pandas as pd\n",
    "\n",
    "import src.edge_constructors as edge\n",
    "import src.clustering as clu\n",
    "import src.metrics_fr as fr\n",
    "import src.utils as utils"
   ]
  },
  {
   "cell_type": "markdown",
   "metadata": {},
   "source": [
    "# Thesis Evaluation\n",
    "\n",
    "## Helper Functions"
   ]
  },
  {
   "cell_type": "code",
   "execution_count": 2,
   "metadata": {},
   "outputs": [],
   "source": [
    "def load_data(filepath, n=None):\n",
    "    assert filepath[-4:] == \".csv\", \"Must be a .csv file\"\n",
    "    data = pd.read_csv(filepath)\n",
    "    if n:\n",
    "        data = data.head(n)\n",
    "\n",
    "    attrs = {\n",
    "        \"titles\": data[\"title\"].tolist(),\n",
    "        \"text\": data[\"text\"].tolist(),\n",
    "        \"tags\": data[\"tags\"].apply(ast.literal_eval).tolist(),\n",
    "        \"ids\": data.index.tolist()\n",
    "    }\n",
    "\n",
    "    if \"simplified_tags\" in data.columns:\n",
    "        attrs[\"simplified_tags\"] = data[\"simplified_tags\"].apply(ast.literal_eval).tolist()\n",
    "\n",
    "    return attrs\n",
    "\n",
    "def load_embeddings(dataset_name, model_names):\n",
    "    embeddings = []\n",
    "    for name in model_names:\n",
    "        embeddings.append(utils.load_from_pickle(f\"embeddings/{dataset_name}_{name}_n10000.pickle\"))\n",
    "    return embeddings"
   ]
  },
  {
   "cell_type": "markdown",
   "metadata": {},
   "source": [
    "## Data: interview_prep.csv"
   ]
  },
  {
   "cell_type": "code",
   "execution_count": 3,
   "metadata": {},
   "outputs": [],
   "source": [
    "data_name = \"interview_prep\"\n",
    "data = load_data(f\"data/{data_name}.csv\")"
   ]
  },
  {
   "cell_type": "markdown",
   "metadata": {},
   "source": [
    "### Embedding and Similarity Scores"
   ]
  },
  {
   "cell_type": "code",
   "execution_count": 4,
   "metadata": {},
   "outputs": [
    {
     "name": "stderr",
     "output_type": "stream",
     "text": [
      "Calculating cosine similarities: 100%|██████████| 1/1 [00:00<00:00, 165.34it/s]\n",
      "Calculating soft_cosine similarities: 100%|██████████| 1/1 [00:00<00:00, 64.78it/s]\n",
      "Calculating euclidean similarities: 100%|██████████| 1/1 [00:00<00:00, 102.42it/s]\n",
      "Calculating cosine similarities: 100%|██████████| 1/1 [00:00<00:00, 515.71it/s]\n",
      "Calculating soft_cosine similarities: 100%|██████████| 1/1 [00:00<00:00, 45.88it/s]\n",
      "Calculating euclidean similarities: 100%|██████████| 1/1 [00:00<00:00, 289.74it/s]\n",
      "Calculating cosine similarities: 100%|██████████| 1/1 [00:00<00:00, 1032.06it/s]\n",
      "Calculating soft_cosine similarities: 100%|██████████| 1/1 [00:00<00:00, 47.52it/s]\n",
      "Calculating euclidean similarities: 100%|██████████| 1/1 [00:00<00:00, 1897.88it/s]\n",
      "Calculating cosine similarities: 100%|██████████| 1/1 [00:00<00:00, 382.13it/s]\n",
      "Calculating soft_cosine similarities: 100%|██████████| 1/1 [00:00<00:00, 53.91it/s]\n",
      "Calculating euclidean similarities: 100%|██████████| 1/1 [00:00<00:00, 2746.76it/s]\n",
      "Calculating cosine similarities: 100%|██████████| 1/1 [00:00<00:00, 948.08it/s]\n",
      "Calculating soft_cosine similarities: 100%|██████████| 1/1 [00:00<00:00, 58.54it/s]\n",
      "Calculating euclidean similarities: 100%|██████████| 1/1 [00:00<00:00, 2695.57it/s]\n",
      "Calculating cosine similarities: 100%|██████████| 1/1 [00:00<00:00, 1536.38it/s]\n",
      "Calculating soft_cosine similarities: 100%|██████████| 1/1 [00:00<00:00, 119.27it/s]\n",
      "Calculating euclidean similarities: 100%|██████████| 1/1 [00:00<00:00, 2659.67it/s]\n"
     ]
    },
    {
     "data": {
      "text/html": [
       "<div>\n",
       "<style scoped>\n",
       "    .dataframe tbody tr th:only-of-type {\n",
       "        vertical-align: middle;\n",
       "    }\n",
       "\n",
       "    .dataframe tbody tr th {\n",
       "        vertical-align: top;\n",
       "    }\n",
       "\n",
       "    .dataframe thead th {\n",
       "        text-align: right;\n",
       "    }\n",
       "</style>\n",
       "<table border=\"1\" class=\"dataframe\">\n",
       "  <thead>\n",
       "    <tr style=\"text-align: right;\">\n",
       "      <th></th>\n",
       "      <th>data_source</th>\n",
       "      <th>embedding_model</th>\n",
       "      <th>agg_method</th>\n",
       "      <th>metric_name</th>\n",
       "      <th>metric</th>\n",
       "      <th>between_all_nodes</th>\n",
       "      <th>between_shared_tags</th>\n",
       "    </tr>\n",
       "  </thead>\n",
       "  <tbody>\n",
       "    <tr>\n",
       "      <th>0</th>\n",
       "      <td>interview_prep</td>\n",
       "      <td>minilm</td>\n",
       "      <td>mean</td>\n",
       "      <td>cosine</td>\n",
       "      <td>mean</td>\n",
       "      <td>0.684910</td>\n",
       "      <td>0.706979</td>\n",
       "    </tr>\n",
       "    <tr>\n",
       "      <th>1</th>\n",
       "      <td>interview_prep</td>\n",
       "      <td>minilm</td>\n",
       "      <td>mean</td>\n",
       "      <td>cosine</td>\n",
       "      <td>median</td>\n",
       "      <td>0.674775</td>\n",
       "      <td>0.715765</td>\n",
       "    </tr>\n",
       "    <tr>\n",
       "      <th>2</th>\n",
       "      <td>interview_prep</td>\n",
       "      <td>minilm</td>\n",
       "      <td>mean</td>\n",
       "      <td>cosine</td>\n",
       "      <td>std_dev</td>\n",
       "      <td>0.069721</td>\n",
       "      <td>0.070315</td>\n",
       "    </tr>\n",
       "    <tr>\n",
       "      <th>3</th>\n",
       "      <td>interview_prep</td>\n",
       "      <td>minilm</td>\n",
       "      <td>mean</td>\n",
       "      <td>soft_cosine</td>\n",
       "      <td>mean</td>\n",
       "      <td>0.641387</td>\n",
       "      <td>0.656642</td>\n",
       "    </tr>\n",
       "    <tr>\n",
       "      <th>4</th>\n",
       "      <td>interview_prep</td>\n",
       "      <td>minilm</td>\n",
       "      <td>mean</td>\n",
       "      <td>soft_cosine</td>\n",
       "      <td>median</td>\n",
       "      <td>0.644162</td>\n",
       "      <td>0.661419</td>\n",
       "    </tr>\n",
       "    <tr>\n",
       "      <th>5</th>\n",
       "      <td>interview_prep</td>\n",
       "      <td>minilm</td>\n",
       "      <td>mean</td>\n",
       "      <td>soft_cosine</td>\n",
       "      <td>std_dev</td>\n",
       "      <td>0.126290</td>\n",
       "      <td>0.134193</td>\n",
       "    </tr>\n",
       "    <tr>\n",
       "      <th>6</th>\n",
       "      <td>interview_prep</td>\n",
       "      <td>minilm</td>\n",
       "      <td>mean</td>\n",
       "      <td>euclidean</td>\n",
       "      <td>mean</td>\n",
       "      <td>0.537721</td>\n",
       "      <td>0.561980</td>\n",
       "    </tr>\n",
       "    <tr>\n",
       "      <th>7</th>\n",
       "      <td>interview_prep</td>\n",
       "      <td>minilm</td>\n",
       "      <td>mean</td>\n",
       "      <td>euclidean</td>\n",
       "      <td>median</td>\n",
       "      <td>0.521811</td>\n",
       "      <td>0.566406</td>\n",
       "    </tr>\n",
       "    <tr>\n",
       "      <th>8</th>\n",
       "      <td>interview_prep</td>\n",
       "      <td>minilm</td>\n",
       "      <td>mean</td>\n",
       "      <td>euclidean</td>\n",
       "      <td>std_dev</td>\n",
       "      <td>0.075639</td>\n",
       "      <td>0.077599</td>\n",
       "    </tr>\n",
       "    <tr>\n",
       "      <th>0</th>\n",
       "      <td>interview_prep</td>\n",
       "      <td>mpnet</td>\n",
       "      <td>mean</td>\n",
       "      <td>cosine</td>\n",
       "      <td>mean</td>\n",
       "      <td>0.707133</td>\n",
       "      <td>0.725702</td>\n",
       "    </tr>\n",
       "  </tbody>\n",
       "</table>\n",
       "</div>"
      ],
      "text/plain": [
       "      data_source embedding_model agg_method  metric_name   metric  \\\n",
       "0  interview_prep          minilm       mean       cosine     mean   \n",
       "1  interview_prep          minilm       mean       cosine   median   \n",
       "2  interview_prep          minilm       mean       cosine  std_dev   \n",
       "3  interview_prep          minilm       mean  soft_cosine     mean   \n",
       "4  interview_prep          minilm       mean  soft_cosine   median   \n",
       "5  interview_prep          minilm       mean  soft_cosine  std_dev   \n",
       "6  interview_prep          minilm       mean    euclidean     mean   \n",
       "7  interview_prep          minilm       mean    euclidean   median   \n",
       "8  interview_prep          minilm       mean    euclidean  std_dev   \n",
       "0  interview_prep           mpnet       mean       cosine     mean   \n",
       "\n",
       "   between_all_nodes  between_shared_tags  \n",
       "0           0.684910             0.706979  \n",
       "1           0.674775             0.715765  \n",
       "2           0.069721             0.070315  \n",
       "3           0.641387             0.656642  \n",
       "4           0.644162             0.661419  \n",
       "5           0.126290             0.134193  \n",
       "6           0.537721             0.561980  \n",
       "7           0.521811             0.566406  \n",
       "8           0.075639             0.077599  \n",
       "0           0.707133             0.725702  "
      ]
     },
     "execution_count": 4,
     "metadata": {},
     "output_type": "execute_result"
    }
   ],
   "source": [
    "df1 = fr.get_embedding_similarity_metrics_per_dataset(\"interview_prep\", data[\"tags\"],\n",
    "                                             [\"minilm\", \"mpnet\", \"nomic\", \"bert\", \"specter\", \"word2vec\"],\n",
    "                                             [\"mean\"])\n",
    "df1.to_csv(\"analysis/metric1_interview.csv\")\n",
    "df1.head(10)"
   ]
  },
  {
   "cell_type": "markdown",
   "metadata": {},
   "source": [
    "### Cluster Purity, Homogeneity, and Completeness"
   ]
  },
  {
   "cell_type": "code",
   "execution_count": 5,
   "metadata": {},
   "outputs": [
    {
     "data": {
      "text/html": [
       "<div>\n",
       "<style scoped>\n",
       "    .dataframe tbody tr th:only-of-type {\n",
       "        vertical-align: middle;\n",
       "    }\n",
       "\n",
       "    .dataframe tbody tr th {\n",
       "        vertical-align: top;\n",
       "    }\n",
       "\n",
       "    .dataframe thead th {\n",
       "        text-align: right;\n",
       "    }\n",
       "</style>\n",
       "<table border=\"1\" class=\"dataframe\">\n",
       "  <thead>\n",
       "    <tr style=\"text-align: right;\">\n",
       "      <th></th>\n",
       "      <th>embedding_model</th>\n",
       "      <th>agg_method</th>\n",
       "      <th>clusterer</th>\n",
       "      <th>homogeneity</th>\n",
       "      <th>completeness</th>\n",
       "      <th>tag_concentration_purity</th>\n",
       "      <th>cluster_tag_purity</th>\n",
       "    </tr>\n",
       "  </thead>\n",
       "  <tbody>\n",
       "    <tr>\n",
       "      <th>0</th>\n",
       "      <td>minilm</td>\n",
       "      <td>mean</td>\n",
       "      <td>kmeans5</td>\n",
       "      <td>0.285</td>\n",
       "      <td>0.133</td>\n",
       "      <td>{'haha': 0.833, 'hehe': 0.667}</td>\n",
       "      <td>{'haha': 0.357, 'hehe': 0.143}</td>\n",
       "    </tr>\n",
       "    <tr>\n",
       "      <th>1</th>\n",
       "      <td>minilm</td>\n",
       "      <td>mean</td>\n",
       "      <td>kmeans2</td>\n",
       "      <td>0.205</td>\n",
       "      <td>0.223</td>\n",
       "      <td>{'haha': 0.8, 'hehe': 0.75}</td>\n",
       "      <td>{'haha': 0.571, 'hehe': 0.214}</td>\n",
       "    </tr>\n",
       "    <tr>\n",
       "      <th>2</th>\n",
       "      <td>mpnet</td>\n",
       "      <td>mean</td>\n",
       "      <td>kmeans5</td>\n",
       "      <td>0.335</td>\n",
       "      <td>0.139</td>\n",
       "      <td>{'haha': 0.75, 'hehe': 0.667}</td>\n",
       "      <td>{'haha': 0.214, 'hehe': 0.143}</td>\n",
       "    </tr>\n",
       "    <tr>\n",
       "      <th>3</th>\n",
       "      <td>mpnet</td>\n",
       "      <td>mean</td>\n",
       "      <td>kmeans2</td>\n",
       "      <td>0.084</td>\n",
       "      <td>0.106</td>\n",
       "      <td>{'haha': 0.727, 'hehe': 0.273}</td>\n",
       "      <td>{'haha': 0.571, 'hehe': 0.214}</td>\n",
       "    </tr>\n",
       "    <tr>\n",
       "      <th>4</th>\n",
       "      <td>nomic</td>\n",
       "      <td>mean</td>\n",
       "      <td>kmeans5</td>\n",
       "      <td>0.430</td>\n",
       "      <td>0.178</td>\n",
       "      <td>{'haha': 1.0, 'hehe': 0.667}</td>\n",
       "      <td>{'haha': 0.286, 'hehe': 0.143}</td>\n",
       "    </tr>\n",
       "    <tr>\n",
       "      <th>5</th>\n",
       "      <td>nomic</td>\n",
       "      <td>mean</td>\n",
       "      <td>kmeans2</td>\n",
       "      <td>0.084</td>\n",
       "      <td>0.106</td>\n",
       "      <td>{'haha': 0.727, 'hehe': 0.273}</td>\n",
       "      <td>{'haha': 0.571, 'hehe': 0.214}</td>\n",
       "    </tr>\n",
       "    <tr>\n",
       "      <th>6</th>\n",
       "      <td>bert</td>\n",
       "      <td>mean</td>\n",
       "      <td>kmeans5</td>\n",
       "      <td>0.191</td>\n",
       "      <td>0.086</td>\n",
       "      <td>{'haha': 0.833, 'hehe': 0.5}</td>\n",
       "      <td>{'haha': 0.357, 'hehe': 0.071}</td>\n",
       "    </tr>\n",
       "    <tr>\n",
       "      <th>7</th>\n",
       "      <td>bert</td>\n",
       "      <td>mean</td>\n",
       "      <td>kmeans2</td>\n",
       "      <td>0.121</td>\n",
       "      <td>0.305</td>\n",
       "      <td>{'haha': 0.692, 'hehe': 0.308}</td>\n",
       "      <td>{'haha': 0.643, 'hehe': 0.286}</td>\n",
       "    </tr>\n",
       "    <tr>\n",
       "      <th>8</th>\n",
       "      <td>specter</td>\n",
       "      <td>mean</td>\n",
       "      <td>kmeans5</td>\n",
       "      <td>0.544</td>\n",
       "      <td>0.247</td>\n",
       "      <td>{'haha': 0.75, 'hehe': 0.5}</td>\n",
       "      <td>{'haha': 0.214, 'hehe': 0.214}</td>\n",
       "    </tr>\n",
       "    <tr>\n",
       "      <th>9</th>\n",
       "      <td>specter</td>\n",
       "      <td>mean</td>\n",
       "      <td>kmeans2</td>\n",
       "      <td>0.084</td>\n",
       "      <td>0.106</td>\n",
       "      <td>{'haha': 0.727, 'hehe': 0.273}</td>\n",
       "      <td>{'haha': 0.571, 'hehe': 0.214}</td>\n",
       "    </tr>\n",
       "  </tbody>\n",
       "</table>\n",
       "</div>"
      ],
      "text/plain": [
       "  embedding_model agg_method clusterer  homogeneity  completeness  \\\n",
       "0          minilm       mean   kmeans5        0.285         0.133   \n",
       "1          minilm       mean   kmeans2        0.205         0.223   \n",
       "2           mpnet       mean   kmeans5        0.335         0.139   \n",
       "3           mpnet       mean   kmeans2        0.084         0.106   \n",
       "4           nomic       mean   kmeans5        0.430         0.178   \n",
       "5           nomic       mean   kmeans2        0.084         0.106   \n",
       "6            bert       mean   kmeans5        0.191         0.086   \n",
       "7            bert       mean   kmeans2        0.121         0.305   \n",
       "8         specter       mean   kmeans5        0.544         0.247   \n",
       "9         specter       mean   kmeans2        0.084         0.106   \n",
       "\n",
       "         tag_concentration_purity              cluster_tag_purity  \n",
       "0  {'haha': 0.833, 'hehe': 0.667}  {'haha': 0.357, 'hehe': 0.143}  \n",
       "1     {'haha': 0.8, 'hehe': 0.75}  {'haha': 0.571, 'hehe': 0.214}  \n",
       "2   {'haha': 0.75, 'hehe': 0.667}  {'haha': 0.214, 'hehe': 0.143}  \n",
       "3  {'haha': 0.727, 'hehe': 0.273}  {'haha': 0.571, 'hehe': 0.214}  \n",
       "4    {'haha': 1.0, 'hehe': 0.667}  {'haha': 0.286, 'hehe': 0.143}  \n",
       "5  {'haha': 0.727, 'hehe': 0.273}  {'haha': 0.571, 'hehe': 0.214}  \n",
       "6    {'haha': 0.833, 'hehe': 0.5}  {'haha': 0.357, 'hehe': 0.071}  \n",
       "7  {'haha': 0.692, 'hehe': 0.308}  {'haha': 0.643, 'hehe': 0.286}  \n",
       "8     {'haha': 0.75, 'hehe': 0.5}  {'haha': 0.214, 'hehe': 0.214}  \n",
       "9  {'haha': 0.727, 'hehe': 0.273}  {'haha': 0.571, 'hehe': 0.214}  "
      ]
     },
     "execution_count": 5,
     "metadata": {},
     "output_type": "execute_result"
    }
   ],
   "source": [
    "df2 = fr.compare_cluster_metrics(\"interview_prep\",\n",
    "                                    [\"minilm\", \"mpnet\", \"nomic\", \"bert\", \"specter\", \"word2vec\"],\n",
    "                                    [\"mean\"],\n",
    "                                    {\n",
    "                                        \"kmeans5\": lambda x: clu.kmeans(x),\n",
    "                                        \"kmeans2\": lambda x: clu.kmeans(x, 2)\n",
    "                                    }, data[\"ids\"], data[\"tags\"], k=2)\n",
    "df2.to_csv(\"analysis/metric2_interview.csv\")\n",
    "df2.head(10)"
   ]
  },
  {
   "cell_type": "markdown",
   "metadata": {},
   "source": [
    "### Edge Assignment Evaluation: Tag Connectivity and Degree of Separation"
   ]
  },
  {
   "cell_type": "code",
   "execution_count": 6,
   "metadata": {},
   "outputs": [
    {
     "name": "stderr",
     "output_type": "stream",
     "text": [
      "Calculating cosine similarities: 100%|██████████| 1/1 [00:00<00:00, 263.76it/s]\n",
      "Calculating soft_cosine similarities: 100%|██████████| 1/1 [00:00<00:00, 108.79it/s]\n",
      "Calculating euclidean similarities: 100%|██████████| 1/1 [00:00<00:00, 628.93it/s]\n"
     ]
    },
    {
     "name": "stdout",
     "output_type": "stream",
     "text": [
      "graphs/interview_prep_minilm_cosine_mean_knn3_kmeans5\n"
     ]
    },
    {
     "name": "stderr",
     "output_type": "stream",
     "text": [
      "Calculating cosine similarities: 100%|██████████| 1/1 [00:00<00:00, 1786.33it/s]\n",
      "Calculating cosine similarities: 100%|██████████| 1/1 [00:00<00:00, 2748.56it/s]\n",
      "Calculating cosine similarities: 100%|██████████| 1/1 [00:00<00:00, 1842.03it/s]\n",
      "Calculating cosine similarities: 100%|██████████| 1/1 [00:00<00:00, 2579.52it/s]\n",
      "Calculating cosine similarities: 100%|██████████| 1/1 [00:00<00:00, 4481.09it/s]\n",
      "Calculating cosine similarities: 100%|██████████| 1/1 [00:00<00:00, 2841.67it/s]\n"
     ]
    },
    {
     "name": "stdout",
     "output_type": "stream",
     "text": [
      "graphs/interview_prep_minilm_cosine_mean_knn3_kmeans2\n"
     ]
    },
    {
     "name": "stderr",
     "output_type": "stream",
     "text": [
      "Calculating cosine similarities: 100%|██████████| 1/1 [00:00<00:00, 1675.04it/s]\n",
      "Calculating cosine similarities: 100%|██████████| 1/1 [00:00<00:00, 2807.43it/s]\n",
      "Calculating cosine similarities: 100%|██████████| 1/1 [00:00<00:00, 2513.06it/s]\n"
     ]
    },
    {
     "name": "stdout",
     "output_type": "stream",
     "text": [
      "graphs/interview_prep_minilm_cosine_mean_knn5_kmeans5\n"
     ]
    },
    {
     "name": "stderr",
     "output_type": "stream",
     "text": [
      "Calculating cosine similarities: 100%|██████████| 1/1 [00:00<00:00, 2799.94it/s]\n",
      "Calculating cosine similarities: 100%|██████████| 1/1 [00:00<00:00, 4032.98it/s]\n",
      "Calculating cosine similarities: 100%|██████████| 1/1 [00:00<00:00, 2182.26it/s]\n",
      "Calculating cosine similarities: 100%|██████████| 1/1 [00:00<00:00, 2501.08it/s]\n",
      "Calculating cosine similarities: 100%|██████████| 1/1 [00:00<00:00, 4328.49it/s]\n",
      "Calculating cosine similarities: 100%|██████████| 1/1 [00:00<00:00, 2336.66it/s]\n"
     ]
    },
    {
     "name": "stdout",
     "output_type": "stream",
     "text": [
      "graphs/interview_prep_minilm_cosine_mean_knn5_kmeans2\n"
     ]
    },
    {
     "name": "stderr",
     "output_type": "stream",
     "text": [
      "Calculating cosine similarities: 100%|██████████| 1/1 [00:00<00:00, 1550.00it/s]\n",
      "Calculating cosine similarities: 100%|██████████| 1/1 [00:00<00:00, 4332.96it/s]\n",
      "Calculating cosine similarities: 100%|██████████| 1/1 [00:00<00:00, 1420.35it/s]"
     ]
    },
    {
     "name": "stdout",
     "output_type": "stream",
     "text": [
      "graphs/interview_prep_minilm_soft_cosine_mean_knn3_kmeans5\n"
     ]
    },
    {
     "name": "stderr",
     "output_type": "stream",
     "text": [
      "\n",
      "Calculating soft_cosine similarities: 100%|██████████| 1/1 [00:00<00:00, 1481.56it/s]\n",
      "Calculating soft_cosine similarities: 100%|██████████| 1/1 [00:00<00:00, 1054.91it/s]\n",
      "Calculating soft_cosine similarities: 100%|██████████| 1/1 [00:00<00:00, 485.17it/s]\n",
      "Calculating soft_cosine similarities: 100%|██████████| 1/1 [00:00<00:00, 1094.26it/s]\n",
      "Calculating soft_cosine similarities: 100%|██████████| 1/1 [00:00<00:00, 1515.28it/s]\n",
      "Calculating soft_cosine similarities: 100%|██████████| 1/1 [00:00<00:00, 477.06it/s]\n"
     ]
    },
    {
     "name": "stdout",
     "output_type": "stream",
     "text": [
      "graphs/interview_prep_minilm_soft_cosine_mean_knn3_kmeans2\n"
     ]
    },
    {
     "name": "stderr",
     "output_type": "stream",
     "text": [
      "Calculating soft_cosine similarities: 100%|██████████| 1/1 [00:00<00:00, 241.96it/s]\n",
      "Calculating soft_cosine similarities: 100%|██████████| 1/1 [00:00<00:00, 796.79it/s]\n",
      "Calculating soft_cosine similarities: 100%|██████████| 1/1 [00:00<00:00, 1031.05it/s]"
     ]
    },
    {
     "name": "stdout",
     "output_type": "stream",
     "text": [
      "graphs/interview_prep_minilm_soft_cosine_mean_knn5_kmeans5\n"
     ]
    },
    {
     "name": "stderr",
     "output_type": "stream",
     "text": [
      "\n",
      "Calculating soft_cosine similarities: 100%|██████████| 1/1 [00:00<00:00, 948.72it/s]\n",
      "Calculating soft_cosine similarities: 100%|██████████| 1/1 [00:00<00:00, 1187.85it/s]\n",
      "Calculating soft_cosine similarities: 100%|██████████| 1/1 [00:00<00:00, 549.78it/s]\n",
      "Calculating soft_cosine similarities: 100%|██████████| 1/1 [00:00<00:00, 944.24it/s]\n",
      "Calculating soft_cosine similarities: 100%|██████████| 1/1 [00:00<00:00, 1451.32it/s]\n",
      "Calculating soft_cosine similarities: 100%|██████████| 1/1 [00:00<00:00, 551.59it/s]"
     ]
    },
    {
     "name": "stdout",
     "output_type": "stream",
     "text": [
      "graphs/interview_prep_minilm_soft_cosine_mean_knn5_kmeans2"
     ]
    },
    {
     "name": "stderr",
     "output_type": "stream",
     "text": [
      "\n"
     ]
    },
    {
     "name": "stdout",
     "output_type": "stream",
     "text": [
      "\n"
     ]
    },
    {
     "name": "stderr",
     "output_type": "stream",
     "text": [
      "Calculating soft_cosine similarities: 100%|██████████| 1/1 [00:00<00:00, 185.01it/s]\n",
      "Calculating soft_cosine similarities: 100%|██████████| 1/1 [00:00<00:00, 327.88it/s]\n",
      "Calculating soft_cosine similarities: 100%|██████████| 1/1 [00:00<00:00, 1001.98it/s]"
     ]
    },
    {
     "name": "stdout",
     "output_type": "stream",
     "text": [
      "graphs/interview_prep_minilm_euclidean_mean_knn3_kmeans5"
     ]
    },
    {
     "name": "stderr",
     "output_type": "stream",
     "text": [
      "\n"
     ]
    },
    {
     "name": "stdout",
     "output_type": "stream",
     "text": [
      "\n"
     ]
    },
    {
     "name": "stderr",
     "output_type": "stream",
     "text": [
      "Calculating euclidean similarities: 100%|██████████| 1/1 [00:00<00:00, 3077.26it/s]\n",
      "Calculating euclidean similarities: 100%|██████████| 1/1 [00:00<00:00, 2206.37it/s]\n",
      "Calculating euclidean similarities: 100%|██████████| 1/1 [00:00<00:00, 4048.56it/s]\n",
      "Calculating euclidean similarities: 100%|██████████| 1/1 [00:00<00:00, 2468.69it/s]\n",
      "Calculating euclidean similarities: 100%|██████████| 1/1 [00:00<00:00, 3637.73it/s]\n",
      "Calculating euclidean similarities: 100%|██████████| 1/1 [00:00<00:00, 1726.76it/s]\n"
     ]
    },
    {
     "name": "stdout",
     "output_type": "stream",
     "text": [
      "graphs/interview_prep_minilm_euclidean_mean_knn3_kmeans2\n"
     ]
    },
    {
     "name": "stderr",
     "output_type": "stream",
     "text": [
      "Calculating euclidean similarities: 100%|██████████| 1/1 [00:00<00:00, 2142.14it/s]\n",
      "Calculating euclidean similarities: 100%|██████████| 1/1 [00:00<00:00, 1483.66it/s]\n",
      "Calculating euclidean similarities: 100%|██████████| 1/1 [00:00<00:00, 2924.90it/s]"
     ]
    },
    {
     "name": "stdout",
     "output_type": "stream",
     "text": [
      "graphs/interview_prep_minilm_euclidean_mean_knn5_kmeans5\n"
     ]
    },
    {
     "name": "stderr",
     "output_type": "stream",
     "text": [
      "\n",
      "Calculating euclidean similarities: 100%|██████████| 1/1 [00:00<00:00, 326.91it/s]\n",
      "Calculating euclidean similarities: 100%|██████████| 1/1 [00:00<00:00, 170.29it/s]\n",
      "Calculating euclidean similarities: 100%|██████████| 1/1 [00:00<00:00, 889.00it/s]\n",
      "Calculating euclidean similarities: 100%|██████████| 1/1 [00:00<00:00, 1272.16it/s]\n",
      "Calculating euclidean similarities: 100%|██████████| 1/1 [00:00<00:00, 2968.37it/s]\n",
      "Calculating euclidean similarities: 100%|██████████| 1/1 [00:00<00:00, 1485.76it/s]\n"
     ]
    },
    {
     "name": "stdout",
     "output_type": "stream",
     "text": [
      "graphs/interview_prep_minilm_euclidean_mean_knn5_kmeans2\n"
     ]
    },
    {
     "name": "stderr",
     "output_type": "stream",
     "text": [
      "Calculating euclidean similarities: 100%|██████████| 1/1 [00:00<00:00, 2590.68it/s]\n",
      "Calculating euclidean similarities: 100%|██████████| 1/1 [00:00<00:00, 1166.70it/s]\n",
      "Calculating euclidean similarities: 100%|██████████| 1/1 [00:00<00:00, 1785.57it/s]\n",
      "Calculating cosine similarities: 100%|██████████| 1/1 [00:00<00:00, 784.42it/s]\n",
      "Calculating soft_cosine similarities: 100%|██████████| 1/1 [00:00<00:00, 60.93it/s]\n",
      "Calculating euclidean similarities: 100%|██████████| 1/1 [00:00<00:00, 972.71it/s]"
     ]
    },
    {
     "name": "stdout",
     "output_type": "stream",
     "text": [
      "graphs/interview_prep_mpnet_cosine_mean_knn3_kmeans5\n"
     ]
    },
    {
     "name": "stderr",
     "output_type": "stream",
     "text": [
      "\n",
      "Calculating cosine similarities: 100%|██████████| 1/1 [00:00<00:00, 3204.20it/s]\n",
      "Calculating cosine similarities: 100%|██████████| 1/1 [00:00<00:00, 1400.44it/s]\n",
      "Calculating cosine similarities: 100%|██████████| 1/1 [00:00<00:00, 1462.45it/s]\n",
      "Calculating cosine similarities: 100%|██████████| 1/1 [00:00<00:00, 3679.21it/s]\n",
      "Calculating cosine similarities: 100%|██████████| 1/1 [00:00<00:00, 1831.57it/s]\n",
      "Calculating cosine similarities: 100%|██████████| 1/1 [00:00<00:00, 2294.48it/s]"
     ]
    },
    {
     "name": "stdout",
     "output_type": "stream",
     "text": [
      "graphs/interview_prep_mpnet_cosine_mean_knn3_kmeans2\n"
     ]
    },
    {
     "name": "stderr",
     "output_type": "stream",
     "text": [
      "\n",
      "Calculating cosine similarities: 100%|██████████| 1/1 [00:00<00:00, 1060.51it/s]\n",
      "Calculating cosine similarities: 100%|██████████| 1/1 [00:00<00:00, 6364.65it/s]\n",
      "Calculating cosine similarities: 100%|██████████| 1/1 [00:00<00:00, 1521.88it/s]\n"
     ]
    },
    {
     "name": "stdout",
     "output_type": "stream",
     "text": [
      "graphs/interview_prep_mpnet_cosine_mean_knn5_kmeans5\n"
     ]
    },
    {
     "name": "stderr",
     "output_type": "stream",
     "text": [
      "Calculating cosine similarities: 100%|██████████| 1/1 [00:00<00:00, 2974.68it/s]\n",
      "Calculating cosine similarities: 100%|██████████| 1/1 [00:00<00:00, 1927.53it/s]\n",
      "Calculating cosine similarities: 100%|██████████| 1/1 [00:00<00:00, 1368.01it/s]\n",
      "Calculating cosine similarities: 100%|██████████| 1/1 [00:00<00:00, 785.01it/s]\n",
      "Calculating cosine similarities: 100%|██████████| 1/1 [00:00<00:00, 3002.37it/s]\n",
      "Calculating cosine similarities: 100%|██████████| 1/1 [00:00<00:00, 1873.29it/s]"
     ]
    },
    {
     "name": "stdout",
     "output_type": "stream",
     "text": [
      "graphs/interview_prep_mpnet_cosine_mean_knn5_kmeans2\n"
     ]
    },
    {
     "name": "stderr",
     "output_type": "stream",
     "text": [
      "\n",
      "Calculating cosine similarities: 100%|██████████| 1/1 [00:00<00:00, 970.01it/s]\n",
      "Calculating cosine similarities: 100%|██████████| 1/1 [00:00<00:00, 2087.76it/s]\n",
      "Calculating cosine similarities: 100%|██████████| 1/1 [00:00<00:00, 5882.61it/s]"
     ]
    },
    {
     "name": "stdout",
     "output_type": "stream",
     "text": [
      "graphs/interview_prep_mpnet_soft_cosine_mean_knn3_kmeans5\n"
     ]
    },
    {
     "name": "stderr",
     "output_type": "stream",
     "text": [
      "\n",
      "Calculating soft_cosine similarities: 100%|██████████| 1/1 [00:00<00:00, 998.88it/s]\n",
      "Calculating soft_cosine similarities: 100%|██████████| 1/1 [00:00<00:00, 207.59it/s]\n",
      "Calculating soft_cosine similarities: 100%|██████████| 1/1 [00:00<00:00, 400.33it/s]\n",
      "Calculating soft_cosine similarities: 100%|██████████| 1/1 [00:00<00:00, 639.86it/s]\n",
      "Calculating soft_cosine similarities: 100%|██████████| 1/1 [00:00<00:00, 268.56it/s]\n",
      "Calculating soft_cosine similarities: 100%|██████████| 1/1 [00:00<00:00, 171.11it/s]"
     ]
    },
    {
     "name": "stdout",
     "output_type": "stream",
     "text": [
      "graphs/interview_prep_mpnet_soft_cosine_mean_knn3_kmeans2\n"
     ]
    },
    {
     "name": "stderr",
     "output_type": "stream",
     "text": [
      "\n",
      "Calculating soft_cosine similarities: 100%|██████████| 1/1 [00:00<00:00, 63.76it/s]\n",
      "Calculating soft_cosine similarities: 100%|██████████| 1/1 [00:00<00:00, 162.94it/s]\n",
      "Calculating soft_cosine similarities: 100%|██████████| 1/1 [00:00<00:00, 275.63it/s]"
     ]
    },
    {
     "name": "stdout",
     "output_type": "stream",
     "text": [
      "graphs/interview_prep_mpnet_soft_cosine_mean_knn5_kmeans5\n"
     ]
    },
    {
     "name": "stderr",
     "output_type": "stream",
     "text": [
      "\n",
      "Calculating soft_cosine similarities: 100%|██████████| 1/1 [00:00<00:00, 358.64it/s]\n",
      "Calculating soft_cosine similarities: 100%|██████████| 1/1 [00:00<00:00, 327.86it/s]\n",
      "Calculating soft_cosine similarities: 100%|██████████| 1/1 [00:00<00:00, 1022.75it/s]\n",
      "Calculating soft_cosine similarities: 100%|██████████| 1/1 [00:00<00:00, 566.87it/s]\n",
      "Calculating soft_cosine similarities: 100%|██████████| 1/1 [00:00<00:00, 265.66it/s]\n",
      "Calculating soft_cosine similarities: 100%|██████████| 1/1 [00:00<00:00, 289.02it/s]\n"
     ]
    },
    {
     "name": "stdout",
     "output_type": "stream",
     "text": [
      "graphs/interview_prep_mpnet_soft_cosine_mean_knn5_kmeans2\n"
     ]
    },
    {
     "name": "stderr",
     "output_type": "stream",
     "text": [
      "Calculating soft_cosine similarities: 100%|██████████| 1/1 [00:00<00:00, 77.23it/s]\n",
      "Calculating soft_cosine similarities: 100%|██████████| 1/1 [00:00<00:00, 561.19it/s]\n",
      "Calculating soft_cosine similarities: 100%|██████████| 1/1 [00:00<00:00, 663.55it/s]\n"
     ]
    },
    {
     "name": "stdout",
     "output_type": "stream",
     "text": [
      "graphs/interview_prep_mpnet_euclidean_mean_knn3_kmeans5\n"
     ]
    },
    {
     "name": "stderr",
     "output_type": "stream",
     "text": [
      "Calculating euclidean similarities: 100%|██████████| 1/1 [00:00<00:00, 593.51it/s]\n",
      "Calculating euclidean similarities: 100%|██████████| 1/1 [00:00<00:00, 2666.44it/s]\n",
      "Calculating euclidean similarities: 100%|██████████| 1/1 [00:00<00:00, 1451.82it/s]\n",
      "Calculating euclidean similarities: 100%|██████████| 1/1 [00:00<00:00, 1260.69it/s]\n",
      "Calculating euclidean similarities: 100%|██████████| 1/1 [00:00<00:00, 598.42it/s]\n",
      "Calculating euclidean similarities: 100%|██████████| 1/1 [00:00<00:00, 703.86it/s]"
     ]
    },
    {
     "name": "stdout",
     "output_type": "stream",
     "text": [
      "graphs/interview_prep_mpnet_euclidean_mean_knn3_kmeans2\n"
     ]
    },
    {
     "name": "stderr",
     "output_type": "stream",
     "text": [
      "\n",
      "Calculating euclidean similarities: 100%|██████████| 1/1 [00:00<00:00, 2770.35it/s]\n",
      "Calculating euclidean similarities: 100%|██████████| 1/1 [00:00<00:00, 681.56it/s]\n",
      "Calculating euclidean similarities: 100%|██████████| 1/1 [00:00<00:00, 3070.50it/s]\n"
     ]
    },
    {
     "name": "stdout",
     "output_type": "stream",
     "text": [
      "graphs/interview_prep_mpnet_euclidean_mean_knn5_kmeans5\n"
     ]
    },
    {
     "name": "stderr",
     "output_type": "stream",
     "text": [
      "Calculating euclidean similarities: 100%|██████████| 1/1 [00:00<00:00, 1343.90it/s]\n",
      "Calculating euclidean similarities: 100%|██████████| 1/1 [00:00<00:00, 2325.00it/s]\n",
      "Calculating euclidean similarities: 100%|██████████| 1/1 [00:00<00:00, 364.31it/s]\n",
      "Calculating euclidean similarities: 100%|██████████| 1/1 [00:00<00:00, 1253.15it/s]\n",
      "Calculating euclidean similarities: 100%|██████████| 1/1 [00:00<00:00, 479.84it/s]\n",
      "Calculating euclidean similarities: 100%|██████████| 1/1 [00:00<00:00, 1727.47it/s]\n"
     ]
    },
    {
     "name": "stdout",
     "output_type": "stream",
     "text": [
      "graphs/interview_prep_mpnet_euclidean_mean_knn5_kmeans2\n"
     ]
    },
    {
     "name": "stderr",
     "output_type": "stream",
     "text": [
      "Calculating euclidean similarities: 100%|██████████| 1/1 [00:00<00:00, 476.63it/s]\n",
      "Calculating euclidean similarities: 100%|██████████| 1/1 [00:00<00:00, 382.55it/s]\n",
      "Calculating euclidean similarities: 100%|██████████| 1/1 [00:00<00:00, 1779.51it/s]\n",
      "Calculating cosine similarities: 100%|██████████| 1/1 [00:00<00:00, 185.94it/s]\n",
      "Calculating soft_cosine similarities: 100%|██████████| 1/1 [00:00<00:00, 49.32it/s]\n",
      "Calculating euclidean similarities: 100%|██████████| 1/1 [00:00<00:00, 1221.05it/s]"
     ]
    },
    {
     "name": "stdout",
     "output_type": "stream",
     "text": [
      "graphs/interview_prep_nomic_cosine_mean_knn3_kmeans5\n"
     ]
    },
    {
     "name": "stderr",
     "output_type": "stream",
     "text": [
      "\n",
      "Calculating cosine similarities: 100%|██████████| 1/1 [00:00<00:00, 2202.89it/s]\n",
      "Calculating cosine similarities: 100%|██████████| 1/1 [00:00<00:00, 196.15it/s]\n",
      "Calculating cosine similarities: 100%|██████████| 1/1 [00:00<00:00, 3095.43it/s]\n",
      "Calculating cosine similarities: 100%|██████████| 1/1 [00:00<00:00, 1153.23it/s]\n",
      "Calculating cosine similarities: 100%|██████████| 1/1 [00:00<00:00, 1567.38it/s]\n",
      "Calculating cosine similarities: 100%|██████████| 1/1 [00:00<00:00, 1937.32it/s]"
     ]
    },
    {
     "name": "stdout",
     "output_type": "stream",
     "text": [
      "graphs/interview_prep_nomic_cosine_mean_knn3_kmeans2\n"
     ]
    },
    {
     "name": "stderr",
     "output_type": "stream",
     "text": [
      "\n",
      "Calculating cosine similarities: 100%|██████████| 1/1 [00:00<00:00, 787.96it/s]\n",
      "Calculating cosine similarities: 100%|██████████| 1/1 [00:00<00:00, 1138.83it/s]\n",
      "Calculating cosine similarities: 100%|██████████| 1/1 [00:00<00:00, 2251.37it/s]\n"
     ]
    },
    {
     "name": "stdout",
     "output_type": "stream",
     "text": [
      "graphs/interview_prep_nomic_cosine_mean_knn5_kmeans5\n"
     ]
    },
    {
     "name": "stderr",
     "output_type": "stream",
     "text": [
      "Calculating cosine similarities: 100%|██████████| 1/1 [00:00<00:00, 1135.13it/s]\n",
      "Calculating cosine similarities: 100%|██████████| 1/1 [00:00<00:00, 1372.03it/s]\n",
      "Calculating cosine similarities: 100%|██████████| 1/1 [00:00<00:00, 2092.97it/s]\n",
      "Calculating cosine similarities: 100%|██████████| 1/1 [00:00<00:00, 4760.84it/s]\n",
      "Calculating cosine similarities: 100%|██████████| 1/1 [00:00<00:00, 2576.35it/s]\n",
      "Calculating cosine similarities: 100%|██████████| 1/1 [00:00<00:00, 1272.16it/s]\n"
     ]
    },
    {
     "name": "stdout",
     "output_type": "stream",
     "text": [
      "graphs/interview_prep_nomic_cosine_mean_knn5_kmeans2\n"
     ]
    },
    {
     "name": "stderr",
     "output_type": "stream",
     "text": [
      "Calculating cosine similarities: 100%|██████████| 1/1 [00:00<00:00, 1307.04it/s]\n",
      "Calculating cosine similarities: 100%|██████████| 1/1 [00:00<00:00, 1336.62it/s]\n",
      "Calculating cosine similarities: 100%|██████████| 1/1 [00:00<00:00, 1686.49it/s]\n"
     ]
    },
    {
     "name": "stdout",
     "output_type": "stream",
     "text": [
      "graphs/interview_prep_nomic_soft_cosine_mean_knn3_kmeans5\n"
     ]
    },
    {
     "name": "stderr",
     "output_type": "stream",
     "text": [
      "Calculating soft_cosine similarities: 100%|██████████| 1/1 [00:00<00:00, 629.30it/s]\n",
      "Calculating soft_cosine similarities: 100%|██████████| 1/1 [00:00<00:00, 819.68it/s]\n",
      "Calculating soft_cosine similarities: 100%|██████████| 1/1 [00:00<00:00, 343.43it/s]\n",
      "Calculating soft_cosine similarities: 100%|██████████| 1/1 [00:00<00:00, 248.99it/s]\n",
      "Calculating soft_cosine similarities: 100%|██████████| 1/1 [00:00<00:00, 493.62it/s]\n",
      "Calculating soft_cosine similarities: 100%|██████████| 1/1 [00:00<00:00, 210.61it/s]\n"
     ]
    },
    {
     "name": "stdout",
     "output_type": "stream",
     "text": [
      "graphs/interview_prep_nomic_soft_cosine_mean_knn3_kmeans2\n"
     ]
    },
    {
     "name": "stderr",
     "output_type": "stream",
     "text": [
      "Calculating soft_cosine similarities: 100%|██████████| 1/1 [00:00<00:00, 104.13it/s]\n",
      "Calculating soft_cosine similarities: 100%|██████████| 1/1 [00:00<00:00, 583.76it/s]\n",
      "Calculating soft_cosine similarities: 100%|██████████| 1/1 [00:00<00:00, 313.38it/s]"
     ]
    },
    {
     "name": "stdout",
     "output_type": "stream",
     "text": [
      "graphs/interview_prep_nomic_soft_cosine_mean_knn5_kmeans5"
     ]
    },
    {
     "name": "stderr",
     "output_type": "stream",
     "text": [
      "\n"
     ]
    },
    {
     "name": "stdout",
     "output_type": "stream",
     "text": [
      "\n"
     ]
    },
    {
     "name": "stderr",
     "output_type": "stream",
     "text": [
      "Calculating soft_cosine similarities: 100%|██████████| 1/1 [00:00<00:00, 321.62it/s]\n",
      "Calculating soft_cosine similarities: 100%|██████████| 1/1 [00:00<00:00, 177.79it/s]\n",
      "Calculating soft_cosine similarities: 100%|██████████| 1/1 [00:00<00:00, 197.94it/s]\n",
      "Calculating soft_cosine similarities: 100%|██████████| 1/1 [00:00<00:00, 660.10it/s]\n",
      "Calculating soft_cosine similarities: 100%|██████████| 1/1 [00:00<00:00, 889.57it/s]\n",
      "Calculating soft_cosine similarities: 100%|██████████| 1/1 [00:00<00:00, 170.56it/s]"
     ]
    },
    {
     "name": "stdout",
     "output_type": "stream",
     "text": [
      "graphs/interview_prep_nomic_soft_cosine_mean_knn5_kmeans2\n"
     ]
    },
    {
     "name": "stderr",
     "output_type": "stream",
     "text": [
      "\n",
      "Calculating soft_cosine similarities: 100%|██████████| 1/1 [00:00<00:00, 35.52it/s]\n",
      "Calculating soft_cosine similarities: 100%|██████████| 1/1 [00:00<00:00, 216.26it/s]\n",
      "Calculating soft_cosine similarities: 100%|██████████| 1/1 [00:00<00:00, 340.47it/s]"
     ]
    },
    {
     "name": "stdout",
     "output_type": "stream",
     "text": [
      "graphs/interview_prep_nomic_euclidean_mean_knn3_kmeans5\n"
     ]
    },
    {
     "name": "stderr",
     "output_type": "stream",
     "text": [
      "\n",
      "Calculating euclidean similarities: 100%|██████████| 1/1 [00:00<00:00, 865.70it/s]\n",
      "Calculating euclidean similarities: 100%|██████████| 1/1 [00:00<00:00, 393.39it/s]\n",
      "Calculating euclidean similarities: 100%|██████████| 1/1 [00:00<00:00, 1506.57it/s]\n",
      "Calculating euclidean similarities: 100%|██████████| 1/1 [00:00<00:00, 894.31it/s]\n",
      "Calculating euclidean similarities: 100%|██████████| 1/1 [00:00<00:00, 620.37it/s]\n",
      "Calculating euclidean similarities: 100%|██████████| 1/1 [00:00<00:00, 2577.94it/s]\n"
     ]
    },
    {
     "name": "stdout",
     "output_type": "stream",
     "text": [
      "graphs/interview_prep_nomic_euclidean_mean_knn3_kmeans2\n"
     ]
    },
    {
     "name": "stderr",
     "output_type": "stream",
     "text": [
      "Calculating euclidean similarities: 100%|██████████| 1/1 [00:00<00:00, 1262.58it/s]\n",
      "Calculating euclidean similarities: 100%|██████████| 1/1 [00:00<00:00, 2232.20it/s]\n",
      "Calculating euclidean similarities: 100%|██████████| 1/1 [00:00<00:00, 1639.68it/s]\n"
     ]
    },
    {
     "name": "stdout",
     "output_type": "stream",
     "text": [
      "graphs/interview_prep_nomic_euclidean_mean_knn5_kmeans5\n"
     ]
    },
    {
     "name": "stderr",
     "output_type": "stream",
     "text": [
      "Calculating euclidean similarities: 100%|██████████| 1/1 [00:00<00:00, 1230.00it/s]\n",
      "Calculating euclidean similarities: 100%|██████████| 1/1 [00:00<00:00, 1536.38it/s]\n",
      "Calculating euclidean similarities: 100%|██████████| 1/1 [00:00<00:00, 2785.06it/s]\n",
      "Calculating euclidean similarities: 100%|██████████| 1/1 [00:00<00:00, 1372.03it/s]\n",
      "Calculating euclidean similarities: 100%|██████████| 1/1 [00:00<00:00, 1104.93it/s]\n",
      "Calculating euclidean similarities: 100%|██████████| 1/1 [00:00<00:00, 530.19it/s]"
     ]
    },
    {
     "name": "stdout",
     "output_type": "stream",
     "text": [
      "graphs/interview_prep_nomic_euclidean_mean_knn5_kmeans2"
     ]
    },
    {
     "name": "stderr",
     "output_type": "stream",
     "text": [
      "\n"
     ]
    },
    {
     "name": "stdout",
     "output_type": "stream",
     "text": [
      "\n"
     ]
    },
    {
     "name": "stderr",
     "output_type": "stream",
     "text": [
      "Calculating euclidean similarities: 100%|██████████| 1/1 [00:00<00:00, 1358.70it/s]\n",
      "Calculating euclidean similarities: 100%|██████████| 1/1 [00:00<00:00, 1189.20it/s]\n",
      "Calculating euclidean similarities: 100%|██████████| 1/1 [00:00<00:00, 739.61it/s]\n",
      "Calculating cosine similarities: 100%|██████████| 1/1 [00:00<00:00, 471.01it/s]\n",
      "Calculating soft_cosine similarities: 100%|██████████| 1/1 [00:00<00:00, 58.69it/s]\n",
      "Calculating euclidean similarities: 100%|██████████| 1/1 [00:00<00:00, 231.92it/s]\n"
     ]
    },
    {
     "name": "stdout",
     "output_type": "stream",
     "text": [
      "graphs/interview_prep_bert_cosine_mean_knn3_kmeans5\n"
     ]
    },
    {
     "name": "stderr",
     "output_type": "stream",
     "text": [
      "Calculating cosine similarities: 100%|██████████| 1/1 [00:00<00:00, 2293.22it/s]\n",
      "Calculating cosine similarities: 100%|██████████| 1/1 [00:00<00:00, 1565.04it/s]\n",
      "Calculating cosine similarities: 100%|██████████| 1/1 [00:00<00:00, 648.57it/s]\n",
      "Calculating cosine similarities: 100%|██████████| 1/1 [00:00<00:00, 659.17it/s]\n",
      "Calculating cosine similarities: 100%|██████████| 1/1 [00:00<00:00, 1685.81it/s]\n",
      "Calculating cosine similarities: 100%|██████████| 1/1 [00:00<00:00, 645.97it/s]\n"
     ]
    },
    {
     "name": "stdout",
     "output_type": "stream",
     "text": [
      "graphs/interview_prep_bert_cosine_mean_knn3_kmeans2\n"
     ]
    },
    {
     "name": "stderr",
     "output_type": "stream",
     "text": [
      "Calculating cosine similarities: 100%|██████████| 1/1 [00:00<00:00, 1111.07it/s]\n",
      "Calculating cosine similarities: 100%|██████████| 1/1 [00:00<00:00, 1519.68it/s]\n",
      "Calculating cosine similarities: 100%|██████████| 1/1 [00:00<00:00, 2452.81it/s]\n"
     ]
    },
    {
     "name": "stdout",
     "output_type": "stream",
     "text": [
      "graphs/interview_prep_bert_cosine_mean_knn5_kmeans5\n"
     ]
    },
    {
     "name": "stderr",
     "output_type": "stream",
     "text": [
      "Calculating cosine similarities: 100%|██████████| 1/1 [00:00<00:00, 240.66it/s]\n",
      "Calculating cosine similarities: 100%|██████████| 1/1 [00:00<00:00, 2584.29it/s]\n",
      "Calculating cosine similarities: 100%|██████████| 1/1 [00:00<00:00, 891.27it/s]\n",
      "Calculating cosine similarities: 100%|██████████| 1/1 [00:00<00:00, 1952.66it/s]\n",
      "Calculating cosine similarities: 100%|██████████| 1/1 [00:00<00:00, 2114.06it/s]\n",
      "Calculating cosine similarities: 100%|██████████| 1/1 [00:00<00:00, 1927.53it/s]"
     ]
    },
    {
     "name": "stdout",
     "output_type": "stream",
     "text": [
      "graphs/interview_prep_bert_cosine_mean_knn5_kmeans2\n"
     ]
    },
    {
     "name": "stderr",
     "output_type": "stream",
     "text": [
      "\n",
      "Calculating cosine similarities: 100%|██████████| 1/1 [00:00<00:00, 1683.78it/s]\n",
      "Calculating cosine similarities: 100%|██████████| 1/1 [00:00<00:00, 4032.98it/s]\n",
      "Calculating cosine similarities: 100%|██████████| 1/1 [00:00<00:00, 1302.17it/s]\n"
     ]
    },
    {
     "name": "stdout",
     "output_type": "stream",
     "text": [
      "graphs/interview_prep_bert_soft_cosine_mean_knn3_kmeans5\n"
     ]
    },
    {
     "name": "stderr",
     "output_type": "stream",
     "text": [
      "Calculating soft_cosine similarities: 100%|██████████| 1/1 [00:00<00:00, 271.90it/s]\n",
      "Calculating soft_cosine similarities: 100%|██████████| 1/1 [00:00<00:00, 497.01it/s]\n",
      "Calculating soft_cosine similarities: 100%|██████████| 1/1 [00:00<00:00, 266.95it/s]\n",
      "Calculating soft_cosine similarities: 100%|██████████| 1/1 [00:00<00:00, 267.51it/s]\n",
      "Calculating soft_cosine similarities: 100%|██████████| 1/1 [00:00<00:00, 438.41it/s]\n",
      "Calculating soft_cosine similarities: 100%|██████████| 1/1 [00:00<00:00, 236.85it/s]\n"
     ]
    },
    {
     "name": "stdout",
     "output_type": "stream",
     "text": [
      "graphs/interview_prep_bert_soft_cosine_mean_knn3_kmeans2\n"
     ]
    },
    {
     "name": "stderr",
     "output_type": "stream",
     "text": [
      "Calculating soft_cosine similarities: 100%|██████████| 1/1 [00:00<00:00, 67.57it/s]\n",
      "Calculating soft_cosine similarities: 100%|██████████| 1/1 [00:00<00:00, 67.66it/s]\n",
      "Calculating soft_cosine similarities: 100%|██████████| 1/1 [00:00<00:00, 376.64it/s]\n"
     ]
    },
    {
     "name": "stdout",
     "output_type": "stream",
     "text": [
      "graphs/interview_prep_bert_soft_cosine_mean_knn5_kmeans5\n"
     ]
    },
    {
     "name": "stderr",
     "output_type": "stream",
     "text": [
      "Calculating soft_cosine similarities: 100%|██████████| 1/1 [00:00<00:00, 175.78it/s]\n",
      "Calculating soft_cosine similarities: 100%|██████████| 1/1 [00:00<00:00, 768.61it/s]\n",
      "Calculating soft_cosine similarities: 100%|██████████| 1/1 [00:00<00:00, 466.60it/s]\n",
      "Calculating soft_cosine similarities: 100%|██████████| 1/1 [00:00<00:00, 265.97it/s]\n",
      "Calculating soft_cosine similarities: 100%|██████████| 1/1 [00:00<00:00, 424.65it/s]\n",
      "Calculating soft_cosine similarities: 100%|██████████| 1/1 [00:00<00:00, 301.57it/s]\n"
     ]
    },
    {
     "name": "stdout",
     "output_type": "stream",
     "text": [
      "graphs/interview_prep_bert_soft_cosine_mean_knn5_kmeans2\n"
     ]
    },
    {
     "name": "stderr",
     "output_type": "stream",
     "text": [
      "Calculating soft_cosine similarities: 100%|██████████| 1/1 [00:00<00:00, 69.25it/s]\n",
      "Calculating soft_cosine similarities: 100%|██████████| 1/1 [00:00<00:00, 1007.28it/s]\n",
      "Calculating soft_cosine similarities: 100%|██████████| 1/1 [00:00<00:00, 719.31it/s]\n"
     ]
    },
    {
     "name": "stdout",
     "output_type": "stream",
     "text": [
      "graphs/interview_prep_bert_euclidean_mean_knn3_kmeans5\n"
     ]
    },
    {
     "name": "stderr",
     "output_type": "stream",
     "text": [
      "Calculating euclidean similarities: 100%|██████████| 1/1 [00:00<00:00, 1703.62it/s]\n",
      "Calculating euclidean similarities: 100%|██████████| 1/1 [00:00<00:00, 1912.59it/s]\n",
      "Calculating euclidean similarities: 100%|██████████| 1/1 [00:00<00:00, 2888.64it/s]\n",
      "Calculating euclidean similarities: 100%|██████████| 1/1 [00:00<00:00, 628.55it/s]\n",
      "Calculating euclidean similarities: 100%|██████████| 1/1 [00:00<00:00, 949.58it/s]\n",
      "Calculating euclidean similarities: 100%|██████████| 1/1 [00:00<00:00, 702.92it/s]\n"
     ]
    },
    {
     "name": "stdout",
     "output_type": "stream",
     "text": [
      "graphs/interview_prep_bert_euclidean_mean_knn3_kmeans2\n"
     ]
    },
    {
     "name": "stderr",
     "output_type": "stream",
     "text": [
      "Calculating euclidean similarities: 100%|██████████| 1/1 [00:00<00:00, 1176.19it/s]\n",
      "Calculating euclidean similarities: 100%|██████████| 1/1 [00:00<00:00, 1457.37it/s]\n",
      "Calculating euclidean similarities: 100%|██████████| 1/1 [00:00<00:00, 1398.57it/s]\n"
     ]
    },
    {
     "name": "stdout",
     "output_type": "stream",
     "text": [
      "graphs/interview_prep_bert_euclidean_mean_knn5_kmeans5\n"
     ]
    },
    {
     "name": "stderr",
     "output_type": "stream",
     "text": [
      "Calculating euclidean similarities: 100%|██████████| 1/1 [00:00<00:00, 2666.44it/s]\n",
      "Calculating euclidean similarities: 100%|██████████| 1/1 [00:00<00:00, 3813.00it/s]\n",
      "Calculating euclidean similarities: 100%|██████████| 1/1 [00:00<00:00, 1445.31it/s]\n",
      "Calculating euclidean similarities: 100%|██████████| 1/1 [00:00<00:00, 2263.52it/s]\n",
      "Calculating euclidean similarities: 100%|██████████| 1/1 [00:00<00:00, 1194.62it/s]\n",
      "Calculating euclidean similarities: 100%|██████████| 1/1 [00:00<00:00, 1186.17it/s]\n"
     ]
    },
    {
     "name": "stdout",
     "output_type": "stream",
     "text": [
      "graphs/interview_prep_bert_euclidean_mean_knn5_kmeans2\n"
     ]
    },
    {
     "name": "stderr",
     "output_type": "stream",
     "text": [
      "Calculating euclidean similarities: 100%|██████████| 1/1 [00:00<00:00, 1257.66it/s]\n",
      "Calculating euclidean similarities: 100%|██████████| 1/1 [00:00<00:00, 2644.58it/s]\n",
      "Calculating euclidean similarities: 100%|██████████| 1/1 [00:00<00:00, 2067.18it/s]\n",
      "Calculating cosine similarities: 100%|██████████| 1/1 [00:00<00:00, 290.71it/s]\n",
      "Calculating soft_cosine similarities: 100%|██████████| 1/1 [00:00<00:00, 63.85it/s]\n",
      "Calculating euclidean similarities: 100%|██████████| 1/1 [00:00<00:00, 742.35it/s]\n"
     ]
    },
    {
     "name": "stdout",
     "output_type": "stream",
     "text": [
      "graphs/interview_prep_specter_cosine_mean_knn3_kmeans5\n"
     ]
    },
    {
     "name": "stderr",
     "output_type": "stream",
     "text": [
      "Calculating cosine similarities: 100%|██████████| 1/1 [00:00<00:00, 2114.06it/s]\n",
      "Calculating cosine similarities: 100%|██████████| 1/1 [00:00<00:00, 714.17it/s]\n",
      "Calculating cosine similarities: 100%|██████████| 1/1 [00:00<00:00, 1291.75it/s]\n",
      "Calculating cosine similarities: 100%|██████████| 1/1 [00:00<00:00, 2381.77it/s]\n",
      "Calculating cosine similarities: 100%|██████████| 1/1 [00:00<00:00, 1964.55it/s]\n",
      "Calculating cosine similarities: 100%|██████████| 1/1 [00:00<00:00, 1804.78it/s]"
     ]
    },
    {
     "name": "stdout",
     "output_type": "stream",
     "text": [
      "graphs/interview_prep_specter_cosine_mean_knn3_kmeans2"
     ]
    },
    {
     "name": "stderr",
     "output_type": "stream",
     "text": [
      "\n"
     ]
    },
    {
     "name": "stdout",
     "output_type": "stream",
     "text": [
      "\n"
     ]
    },
    {
     "name": "stderr",
     "output_type": "stream",
     "text": [
      "Calculating cosine similarities: 100%|██████████| 1/1 [00:00<00:00, 335.92it/s]\n",
      "Calculating cosine similarities: 100%|██████████| 1/1 [00:00<00:00, 750.32it/s]\n",
      "Calculating cosine similarities: 100%|██████████| 1/1 [00:00<00:00, 1399.97it/s]"
     ]
    },
    {
     "name": "stdout",
     "output_type": "stream",
     "text": [
      "graphs/interview_prep_specter_cosine_mean_knn5_kmeans5\n"
     ]
    },
    {
     "name": "stderr",
     "output_type": "stream",
     "text": [
      "\n",
      "Calculating cosine similarities: 100%|██████████| 1/1 [00:00<00:00, 936.23it/s]\n",
      "Calculating cosine similarities: 100%|██████████| 1/1 [00:00<00:00, 6288.31it/s]\n",
      "Calculating cosine similarities: 100%|██████████| 1/1 [00:00<00:00, 2381.77it/s]\n",
      "Calculating cosine similarities: 100%|██████████| 1/1 [00:00<00:00, 1560.38it/s]\n",
      "Calculating cosine similarities: 100%|██████████| 1/1 [00:00<00:00, 1555.75it/s]\n",
      "Calculating cosine similarities: 100%|██████████| 1/1 [00:00<00:00, 3938.31it/s]\n"
     ]
    },
    {
     "name": "stdout",
     "output_type": "stream",
     "text": [
      "graphs/interview_prep_specter_cosine_mean_knn5_kmeans2\n"
     ]
    },
    {
     "name": "stderr",
     "output_type": "stream",
     "text": [
      "Calculating cosine similarities: 100%|██████████| 1/1 [00:00<00:00, 969.78it/s]\n",
      "Calculating cosine similarities: 100%|██████████| 1/1 [00:00<00:00, 936.23it/s]\n",
      "Calculating cosine similarities: 100%|██████████| 1/1 [00:00<00:00, 1647.41it/s]\n"
     ]
    },
    {
     "name": "stdout",
     "output_type": "stream",
     "text": [
      "graphs/interview_prep_specter_soft_cosine_mean_knn3_kmeans5\n"
     ]
    },
    {
     "name": "stderr",
     "output_type": "stream",
     "text": [
      "Calculating soft_cosine similarities: 100%|██████████| 1/1 [00:00<00:00, 449.26it/s]\n",
      "Calculating soft_cosine similarities: 100%|██████████| 1/1 [00:00<00:00, 158.99it/s]\n",
      "Calculating soft_cosine similarities: 100%|██████████| 1/1 [00:00<00:00, 528.45it/s]\n",
      "Calculating soft_cosine similarities: 100%|██████████| 1/1 [00:00<00:00, 1463.98it/s]\n",
      "Calculating soft_cosine similarities: 100%|██████████| 1/1 [00:00<00:00, 182.61it/s]\n",
      "Calculating soft_cosine similarities: 100%|██████████| 1/1 [00:00<00:00, 109.89it/s]\n"
     ]
    },
    {
     "name": "stdout",
     "output_type": "stream",
     "text": [
      "graphs/interview_prep_specter_soft_cosine_mean_knn3_kmeans2\n"
     ]
    },
    {
     "name": "stderr",
     "output_type": "stream",
     "text": [
      "Calculating soft_cosine similarities: 100%|██████████| 1/1 [00:00<00:00, 42.75it/s]\n",
      "Calculating soft_cosine similarities: 100%|██████████| 1/1 [00:00<00:00, 765.10it/s]\n",
      "Calculating soft_cosine similarities: 100%|██████████| 1/1 [00:00<00:00, 346.15it/s]\n"
     ]
    },
    {
     "name": "stdout",
     "output_type": "stream",
     "text": [
      "graphs/interview_prep_specter_soft_cosine_mean_knn5_kmeans5\n"
     ]
    },
    {
     "name": "stderr",
     "output_type": "stream",
     "text": [
      "Calculating soft_cosine similarities: 100%|██████████| 1/1 [00:00<00:00, 384.76it/s]\n",
      "Calculating soft_cosine similarities: 100%|██████████| 1/1 [00:00<00:00, 715.87it/s]\n",
      "Calculating soft_cosine similarities: 100%|██████████| 1/1 [00:00<00:00, 786.78it/s]\n",
      "Calculating soft_cosine similarities: 100%|██████████| 1/1 [00:00<00:00, 406.78it/s]\n",
      "Calculating soft_cosine similarities: 100%|██████████| 1/1 [00:00<00:00, 152.72it/s]\n",
      "Calculating soft_cosine similarities: 100%|██████████| 1/1 [00:00<00:00, 190.88it/s]"
     ]
    },
    {
     "name": "stdout",
     "output_type": "stream",
     "text": [
      "graphs/interview_prep_specter_soft_cosine_mean_knn5_kmeans2\n"
     ]
    },
    {
     "name": "stderr",
     "output_type": "stream",
     "text": [
      "\n",
      "Calculating soft_cosine similarities: 100%|██████████| 1/1 [00:00<00:00, 64.03it/s]\n",
      "Calculating soft_cosine similarities: 100%|██████████| 1/1 [00:00<00:00, 722.53it/s]\n",
      "Calculating soft_cosine similarities: 100%|██████████| 1/1 [00:00<00:00, 682.00it/s]\n"
     ]
    },
    {
     "name": "stdout",
     "output_type": "stream",
     "text": [
      "graphs/interview_prep_specter_euclidean_mean_knn3_kmeans5\n"
     ]
    },
    {
     "name": "stderr",
     "output_type": "stream",
     "text": [
      "Calculating euclidean similarities: 100%|██████████| 1/1 [00:00<00:00, 1213.63it/s]\n",
      "Calculating euclidean similarities: 100%|██████████| 1/1 [00:00<00:00, 3097.71it/s]\n",
      "Calculating euclidean similarities: 100%|██████████| 1/1 [00:00<00:00, 1582.76it/s]\n",
      "Calculating euclidean similarities: 100%|██████████| 1/1 [00:00<00:00, 4116.10it/s]\n",
      "Calculating euclidean similarities: 100%|██████████| 1/1 [00:00<00:00, 2101.35it/s]\n",
      "Calculating euclidean similarities: 100%|██████████| 1/1 [00:00<00:00, 1133.90it/s]\n"
     ]
    },
    {
     "name": "stdout",
     "output_type": "stream",
     "text": [
      "graphs/interview_prep_specter_euclidean_mean_knn3_kmeans2\n"
     ]
    },
    {
     "name": "stderr",
     "output_type": "stream",
     "text": [
      "Calculating euclidean similarities: 100%|██████████| 1/1 [00:00<00:00, 1729.61it/s]\n",
      "Calculating euclidean similarities: 100%|██████████| 1/1 [00:00<00:00, 1168.33it/s]\n",
      "Calculating euclidean similarities: 100%|██████████| 1/1 [00:00<00:00, 2000.14it/s]\n"
     ]
    },
    {
     "name": "stdout",
     "output_type": "stream",
     "text": [
      "graphs/interview_prep_specter_euclidean_mean_knn5_kmeans5\n"
     ]
    },
    {
     "name": "stderr",
     "output_type": "stream",
     "text": [
      "Calculating euclidean similarities: 100%|██████████| 1/1 [00:00<00:00, 2212.19it/s]\n",
      "Calculating euclidean similarities: 100%|██████████| 1/1 [00:00<00:00, 2531.26it/s]\n",
      "Calculating euclidean similarities: 100%|██████████| 1/1 [00:00<00:00, 982.27it/s]\n",
      "Calculating euclidean similarities: 100%|██████████| 1/1 [00:00<00:00, 1351.26it/s]\n",
      "Calculating euclidean similarities: 100%|██████████| 1/1 [00:00<00:00, 2666.44it/s]\n",
      "Calculating euclidean similarities: 100%|██████████| 1/1 [00:00<00:00, 2624.72it/s]\n"
     ]
    },
    {
     "name": "stdout",
     "output_type": "stream",
     "text": [
      "graphs/interview_prep_specter_euclidean_mean_knn5_kmeans2\n"
     ]
    },
    {
     "name": "stderr",
     "output_type": "stream",
     "text": [
      "Calculating euclidean similarities: 100%|██████████| 1/1 [00:00<00:00, 2993.79it/s]\n",
      "Calculating euclidean similarities: 100%|██████████| 1/1 [00:00<00:00, 592.50it/s]\n",
      "Calculating euclidean similarities: 100%|██████████| 1/1 [00:00<00:00, 1527.42it/s]\n",
      "Calculating cosine similarities: 100%|██████████| 1/1 [00:00<00:00, 551.81it/s]\n",
      "Calculating soft_cosine similarities: 100%|██████████| 1/1 [00:00<00:00, 94.45it/s]\n",
      "Calculating euclidean similarities: 100%|██████████| 1/1 [00:00<00:00, 1584.55it/s]"
     ]
    },
    {
     "name": "stdout",
     "output_type": "stream",
     "text": [
      "graphs/interview_prep_word2vec_cosine_mean_knn3_kmeans5\n"
     ]
    },
    {
     "name": "stderr",
     "output_type": "stream",
     "text": [
      "\n",
      "Calculating cosine similarities: 100%|██████████| 1/1 [00:00<00:00, 1845.27it/s]\n",
      "Calculating cosine similarities: 100%|██████████| 1/1 [00:00<00:00, 1781.78it/s]\n",
      "Calculating cosine similarities: 100%|██████████| 1/1 [00:00<00:00, 3625.15it/s]\n",
      "Calculating cosine similarities: 100%|██████████| 1/1 [00:00<00:00, 1524.09it/s]\n",
      "Calculating cosine similarities: 100%|██████████| 1/1 [00:00<00:00, 3647.22it/s]\n",
      "Calculating cosine similarities: 100%|██████████| 1/1 [00:00<00:00, 3498.17it/s]"
     ]
    },
    {
     "name": "stdout",
     "output_type": "stream",
     "text": [
      "graphs/interview_prep_word2vec_cosine_mean_knn3_kmeans2"
     ]
    },
    {
     "name": "stderr",
     "output_type": "stream",
     "text": [
      "\n"
     ]
    },
    {
     "name": "stdout",
     "output_type": "stream",
     "text": [
      "\n"
     ]
    },
    {
     "name": "stderr",
     "output_type": "stream",
     "text": [
      "Calculating cosine similarities: 100%|██████████| 1/1 [00:00<00:00, 2246.55it/s]\n",
      "Calculating cosine similarities: 100%|██████████| 1/1 [00:00<00:00, 1685.81it/s]\n",
      "Calculating cosine similarities: 100%|██████████| 1/1 [00:00<00:00, 2024.28it/s]"
     ]
    },
    {
     "name": "stdout",
     "output_type": "stream",
     "text": [
      "graphs/interview_prep_word2vec_cosine_mean_knn5_kmeans5\n"
     ]
    },
    {
     "name": "stderr",
     "output_type": "stream",
     "text": [
      "\n",
      "Calculating cosine similarities: 100%|██████████| 1/1 [00:00<00:00, 1218.21it/s]\n",
      "Calculating cosine similarities: 100%|██████████| 1/1 [00:00<00:00, 4466.78it/s]\n",
      "Calculating cosine similarities: 100%|██████████| 1/1 [00:00<00:00, 1703.62it/s]\n",
      "Calculating cosine similarities: 100%|██████████| 1/1 [00:00<00:00, 2132.34it/s]\n",
      "Calculating cosine similarities: 100%|██████████| 1/1 [00:00<00:00, 4369.07it/s]\n",
      "Calculating cosine similarities: 100%|██████████| 1/1 [00:00<00:00, 2012.62it/s]\n"
     ]
    },
    {
     "name": "stdout",
     "output_type": "stream",
     "text": [
      "graphs/interview_prep_word2vec_cosine_mean_knn5_kmeans2\n"
     ]
    },
    {
     "name": "stderr",
     "output_type": "stream",
     "text": [
      "Calculating cosine similarities: 100%|██████████| 1/1 [00:00<00:00, 3289.65it/s]\n",
      "Calculating cosine similarities: 100%|██████████| 1/1 [00:00<00:00, 1848.53it/s]\n",
      "Calculating cosine similarities: 100%|██████████| 1/1 [00:00<00:00, 3758.34it/s]\n"
     ]
    },
    {
     "name": "stdout",
     "output_type": "stream",
     "text": [
      "graphs/interview_prep_word2vec_soft_cosine_mean_knn3_kmeans5\n"
     ]
    },
    {
     "name": "stderr",
     "output_type": "stream",
     "text": [
      "Calculating soft_cosine similarities: 100%|██████████| 1/1 [00:00<00:00, 238.03it/s]\n",
      "Calculating soft_cosine similarities: 100%|██████████| 1/1 [00:00<00:00, 86.80it/s]\n",
      "Calculating soft_cosine similarities: 100%|██████████| 1/1 [00:00<00:00, 536.49it/s]\n",
      "Calculating soft_cosine similarities: 100%|██████████| 1/1 [00:00<00:00, 1552.87it/s]\n",
      "Calculating soft_cosine similarities: 100%|██████████| 1/1 [00:00<00:00, 705.76it/s]\n",
      "Calculating soft_cosine similarities: 100%|██████████| 1/1 [00:00<00:00, 484.55it/s]\n"
     ]
    },
    {
     "name": "stdout",
     "output_type": "stream",
     "text": [
      "graphs/interview_prep_word2vec_soft_cosine_mean_knn3_kmeans2\n"
     ]
    },
    {
     "name": "stderr",
     "output_type": "stream",
     "text": [
      "Calculating soft_cosine similarities: 100%|██████████| 1/1 [00:00<00:00, 173.50it/s]\n",
      "Calculating soft_cosine similarities: 100%|██████████| 1/1 [00:00<00:00, 752.34it/s]\n",
      "Calculating soft_cosine similarities: 100%|██████████| 1/1 [00:00<00:00, 608.66it/s]"
     ]
    },
    {
     "name": "stdout",
     "output_type": "stream",
     "text": [
      "graphs/interview_prep_word2vec_soft_cosine_mean_knn5_kmeans5"
     ]
    },
    {
     "name": "stderr",
     "output_type": "stream",
     "text": [
      "\n"
     ]
    },
    {
     "name": "stdout",
     "output_type": "stream",
     "text": [
      "\n"
     ]
    },
    {
     "name": "stderr",
     "output_type": "stream",
     "text": [
      "Calculating soft_cosine similarities: 100%|██████████| 1/1 [00:00<00:00, 373.82it/s]\n",
      "Calculating soft_cosine similarities: 100%|██████████| 1/1 [00:00<00:00, 1400.90it/s]\n",
      "Calculating soft_cosine similarities: 100%|██████████| 1/1 [00:00<00:00, 1051.73it/s]\n",
      "Calculating soft_cosine similarities: 100%|██████████| 1/1 [00:00<00:00, 1075.19it/s]\n",
      "Calculating soft_cosine similarities: 100%|██████████| 1/1 [00:00<00:00, 1472.20it/s]\n",
      "Calculating soft_cosine similarities: 100%|██████████| 1/1 [00:00<00:00, 393.68it/s]\n"
     ]
    },
    {
     "name": "stdout",
     "output_type": "stream",
     "text": [
      "graphs/interview_prep_word2vec_soft_cosine_mean_knn5_kmeans2\n"
     ]
    },
    {
     "name": "stderr",
     "output_type": "stream",
     "text": [
      "Calculating soft_cosine similarities: 100%|██████████| 1/1 [00:00<00:00, 238.65it/s]\n",
      "Calculating soft_cosine similarities: 100%|██████████| 1/1 [00:00<00:00, 501.95it/s]\n",
      "Calculating soft_cosine similarities: 100%|██████████| 1/1 [00:00<00:00, 1069.43it/s]\n"
     ]
    },
    {
     "name": "stdout",
     "output_type": "stream",
     "text": [
      "graphs/interview_prep_word2vec_euclidean_mean_knn3_kmeans5\n"
     ]
    },
    {
     "name": "stderr",
     "output_type": "stream",
     "text": [
      "Calculating euclidean similarities: 100%|██████████| 1/1 [00:00<00:00, 2341.88it/s]\n",
      "Calculating euclidean similarities: 100%|██████████| 1/1 [00:00<00:00, 8050.49it/s]\n",
      "Calculating euclidean similarities: 100%|██████████| 1/1 [00:00<00:00, 3452.10it/s]\n",
      "Calculating euclidean similarities: 100%|██████████| 1/1 [00:00<00:00, 2732.45it/s]\n",
      "Calculating euclidean similarities: 100%|██████████| 1/1 [00:00<00:00, 3050.40it/s]\n",
      "Calculating euclidean similarities: 100%|██████████| 1/1 [00:00<00:00, 2659.67it/s]"
     ]
    },
    {
     "name": "stdout",
     "output_type": "stream",
     "text": [
      "graphs/interview_prep_word2vec_euclidean_mean_knn3_kmeans2"
     ]
    },
    {
     "name": "stderr",
     "output_type": "stream",
     "text": [
      "\n"
     ]
    },
    {
     "name": "stdout",
     "output_type": "stream",
     "text": [
      "\n"
     ]
    },
    {
     "name": "stderr",
     "output_type": "stream",
     "text": [
      "Calculating euclidean similarities: 100%|██████████| 1/1 [00:00<00:00, 2451.38it/s]\n",
      "Calculating euclidean similarities: 100%|██████████| 1/1 [00:00<00:00, 2273.34it/s]\n",
      "Calculating euclidean similarities: 100%|██████████| 1/1 [00:00<00:00, 1726.76it/s]\n"
     ]
    },
    {
     "name": "stdout",
     "output_type": "stream",
     "text": [
      "graphs/interview_prep_word2vec_euclidean_mean_knn5_kmeans5\n"
     ]
    },
    {
     "name": "stderr",
     "output_type": "stream",
     "text": [
      "Calculating euclidean similarities: 100%|██████████| 1/1 [00:00<00:00, 1424.70it/s]\n",
      "Calculating euclidean similarities: 100%|██████████| 1/1 [00:00<00:00, 1366.22it/s]\n",
      "Calculating euclidean similarities: 100%|██████████| 1/1 [00:00<00:00, 2664.74it/s]\n",
      "Calculating euclidean similarities: 100%|██████████| 1/1 [00:00<00:00, 2416.07it/s]\n",
      "Calculating euclidean similarities: 100%|██████████| 1/1 [00:00<00:00, 3086.32it/s]\n",
      "Calculating euclidean similarities: 100%|██████████| 1/1 [00:00<00:00, 2065.14it/s]"
     ]
    },
    {
     "name": "stdout",
     "output_type": "stream",
     "text": [
      "graphs/interview_prep_word2vec_euclidean_mean_knn5_kmeans2\n"
     ]
    },
    {
     "name": "stderr",
     "output_type": "stream",
     "text": [
      "\n",
      "Calculating euclidean similarities: 100%|██████████| 1/1 [00:00<00:00, 1582.16it/s]\n",
      "Calculating euclidean similarities: 100%|██████████| 1/1 [00:00<00:00, 2063.11it/s]\n",
      "Calculating euclidean similarities: 100%|██████████| 1/1 [00:00<00:00, 1211.88it/s]\n"
     ]
    },
    {
     "data": {
      "text/html": [
       "<div>\n",
       "<style scoped>\n",
       "    .dataframe tbody tr th:only-of-type {\n",
       "        vertical-align: middle;\n",
       "    }\n",
       "\n",
       "    .dataframe tbody tr th {\n",
       "        vertical-align: top;\n",
       "    }\n",
       "\n",
       "    .dataframe thead th {\n",
       "        text-align: right;\n",
       "    }\n",
       "</style>\n",
       "<table border=\"1\" class=\"dataframe\">\n",
       "  <thead>\n",
       "    <tr style=\"text-align: right;\">\n",
       "      <th></th>\n",
       "      <th>embedding_model</th>\n",
       "      <th>agg_method</th>\n",
       "      <th>similarity</th>\n",
       "      <th>edge constructor</th>\n",
       "      <th>clusterer</th>\n",
       "      <th>depth</th>\n",
       "      <th>connected_nodes</th>\n",
       "      <th>percentage_connected</th>\n",
       "      <th>degree_of_separation</th>\n",
       "    </tr>\n",
       "  </thead>\n",
       "  <tbody>\n",
       "    <tr>\n",
       "      <th>0</th>\n",
       "      <td>minilm</td>\n",
       "      <td>mean</td>\n",
       "      <td>cosine</td>\n",
       "      <td>knn3</td>\n",
       "      <td>kmeans5</td>\n",
       "      <td>1</td>\n",
       "      <td>2</td>\n",
       "      <td>0.100</td>\n",
       "      <td>1.668210</td>\n",
       "    </tr>\n",
       "    <tr>\n",
       "      <th>1</th>\n",
       "      <td>minilm</td>\n",
       "      <td>mean</td>\n",
       "      <td>cosine</td>\n",
       "      <td>knn3</td>\n",
       "      <td>kmeans5</td>\n",
       "      <td>2</td>\n",
       "      <td>3</td>\n",
       "      <td>0.150</td>\n",
       "      <td>1.668210</td>\n",
       "    </tr>\n",
       "    <tr>\n",
       "      <th>2</th>\n",
       "      <td>minilm</td>\n",
       "      <td>mean</td>\n",
       "      <td>cosine</td>\n",
       "      <td>knn3</td>\n",
       "      <td>kmeans5</td>\n",
       "      <td>3</td>\n",
       "      <td>11</td>\n",
       "      <td>0.550</td>\n",
       "      <td>1.668210</td>\n",
       "    </tr>\n",
       "    <tr>\n",
       "      <th>3</th>\n",
       "      <td>minilm</td>\n",
       "      <td>mean</td>\n",
       "      <td>cosine</td>\n",
       "      <td>knn3</td>\n",
       "      <td>kmeans2</td>\n",
       "      <td>1</td>\n",
       "      <td>2</td>\n",
       "      <td>0.118</td>\n",
       "      <td>1.338812</td>\n",
       "    </tr>\n",
       "    <tr>\n",
       "      <th>4</th>\n",
       "      <td>minilm</td>\n",
       "      <td>mean</td>\n",
       "      <td>cosine</td>\n",
       "      <td>knn3</td>\n",
       "      <td>kmeans2</td>\n",
       "      <td>2</td>\n",
       "      <td>7</td>\n",
       "      <td>0.412</td>\n",
       "      <td>1.338812</td>\n",
       "    </tr>\n",
       "    <tr>\n",
       "      <th>5</th>\n",
       "      <td>minilm</td>\n",
       "      <td>mean</td>\n",
       "      <td>cosine</td>\n",
       "      <td>knn3</td>\n",
       "      <td>kmeans2</td>\n",
       "      <td>3</td>\n",
       "      <td>4</td>\n",
       "      <td>0.235</td>\n",
       "      <td>1.338812</td>\n",
       "    </tr>\n",
       "    <tr>\n",
       "      <th>6</th>\n",
       "      <td>minilm</td>\n",
       "      <td>mean</td>\n",
       "      <td>cosine</td>\n",
       "      <td>knn5</td>\n",
       "      <td>kmeans5</td>\n",
       "      <td>1</td>\n",
       "      <td>1</td>\n",
       "      <td>0.050</td>\n",
       "      <td>1.610567</td>\n",
       "    </tr>\n",
       "    <tr>\n",
       "      <th>7</th>\n",
       "      <td>minilm</td>\n",
       "      <td>mean</td>\n",
       "      <td>cosine</td>\n",
       "      <td>knn5</td>\n",
       "      <td>kmeans5</td>\n",
       "      <td>2</td>\n",
       "      <td>4</td>\n",
       "      <td>0.200</td>\n",
       "      <td>1.610567</td>\n",
       "    </tr>\n",
       "    <tr>\n",
       "      <th>8</th>\n",
       "      <td>minilm</td>\n",
       "      <td>mean</td>\n",
       "      <td>cosine</td>\n",
       "      <td>knn5</td>\n",
       "      <td>kmeans5</td>\n",
       "      <td>3</td>\n",
       "      <td>13</td>\n",
       "      <td>0.650</td>\n",
       "      <td>1.610567</td>\n",
       "    </tr>\n",
       "    <tr>\n",
       "      <th>9</th>\n",
       "      <td>minilm</td>\n",
       "      <td>mean</td>\n",
       "      <td>cosine</td>\n",
       "      <td>knn5</td>\n",
       "      <td>kmeans2</td>\n",
       "      <td>1</td>\n",
       "      <td>2</td>\n",
       "      <td>0.118</td>\n",
       "      <td>1.277447</td>\n",
       "    </tr>\n",
       "  </tbody>\n",
       "</table>\n",
       "</div>"
      ],
      "text/plain": [
       "  embedding_model agg_method similarity edge constructor clusterer  depth  \\\n",
       "0          minilm       mean     cosine             knn3   kmeans5      1   \n",
       "1          minilm       mean     cosine             knn3   kmeans5      2   \n",
       "2          minilm       mean     cosine             knn3   kmeans5      3   \n",
       "3          minilm       mean     cosine             knn3   kmeans2      1   \n",
       "4          minilm       mean     cosine             knn3   kmeans2      2   \n",
       "5          minilm       mean     cosine             knn3   kmeans2      3   \n",
       "6          minilm       mean     cosine             knn5   kmeans5      1   \n",
       "7          minilm       mean     cosine             knn5   kmeans5      2   \n",
       "8          minilm       mean     cosine             knn5   kmeans5      3   \n",
       "9          minilm       mean     cosine             knn5   kmeans2      1   \n",
       "\n",
       "   connected_nodes  percentage_connected  degree_of_separation  \n",
       "0                2                 0.100              1.668210  \n",
       "1                3                 0.150              1.668210  \n",
       "2               11                 0.550              1.668210  \n",
       "3                2                 0.118              1.338812  \n",
       "4                7                 0.412              1.338812  \n",
       "5                4                 0.235              1.338812  \n",
       "6                1                 0.050              1.610567  \n",
       "7                4                 0.200              1.610567  \n",
       "8               13                 0.650              1.610567  \n",
       "9                2                 0.118              1.277447  "
      ]
     },
     "execution_count": 6,
     "metadata": {},
     "output_type": "execute_result"
    }
   ],
   "source": [
    "df3 = fr.compare_edge_assignment_metrics(\"interview_prep\",\n",
    "                                        [\"minilm\", \"mpnet\", \"nomic\", \"bert\", \"specter\", \"word2vec\"],\n",
    "                                        [\"mean\"],\n",
    "                                        {\n",
    "                                            \"kmeans5\": lambda x: clu.kmeans(x),\n",
    "                                            \"kmeans2\": lambda x: clu.kmeans(x, 2)\n",
    "                                        },\n",
    "                                        {\n",
    "                                            \"knn3\": lambda sim_mat, ids: edge.knn(sim_mat, ids, k=3),\n",
    "                                            \"knn5\": lambda sim_mat, ids: edge.knn(sim_mat, ids, k=5)\n",
    "                                        }, data[\"ids\"], data[\"tags\"], data[\"titles\"], max_depth=3)\n",
    "df3.to_csv(\"analysis/metric3_interview.csv\")\n",
    "df3.head(10)"
   ]
  },
  {
   "cell_type": "markdown",
   "metadata": {},
   "source": [
    "## Data: Medium (n=10000)"
   ]
  },
  {
   "cell_type": "code",
   "execution_count": 7,
   "metadata": {},
   "outputs": [],
   "source": [
    "data_name = \"medium_1k_tags_simplified\"\n",
    "data = load_data(f\"data/{data_name}.csv\", n=5000)\n",
    "ids = data[\"ids\"]\n",
    "titles = data[\"titles\"]\n",
    "tags = data[\"simplified_tags\"]"
   ]
  },
  {
   "cell_type": "markdown",
   "metadata": {},
   "source": [
    "### Embedding and Similarity Scores"
   ]
  },
  {
   "cell_type": "code",
   "execution_count": 8,
   "metadata": {},
   "outputs": [],
   "source": [
    "# df1 = fr.get_embedding_similarity_metrics_per_dataset(\"medium1k\", tags,\n",
    "#                                              [\"minilm\", \"mpnet\", \"nomic\", \"bert\", \"specter\", \"word2vec\"],\n",
    "#                                              [\"mean\"])\n",
    "# df1.to_csv(\"analysis/metric1_medium1k.csv\")\n",
    "# df1.head(10)"
   ]
  },
  {
   "cell_type": "code",
   "execution_count": 8,
   "metadata": {},
   "outputs": [
    {
     "name": "stderr",
     "output_type": "stream",
     "text": [
      "Calculating cosine similarities: 100%|██████████| 20/20 [00:13<00:00,  1.48it/s]\n",
      "Calculating soft_cosine similarities: 100%|██████████| 20/20 [14:04<00:00, 42.22s/it]\n",
      "Calculating euclidean similarities: 100%|██████████| 20/20 [00:01<00:00, 11.82it/s]\n"
     ]
    },
    {
     "data": {
      "text/html": [
       "<div>\n",
       "<style scoped>\n",
       "    .dataframe tbody tr th:only-of-type {\n",
       "        vertical-align: middle;\n",
       "    }\n",
       "\n",
       "    .dataframe tbody tr th {\n",
       "        vertical-align: top;\n",
       "    }\n",
       "\n",
       "    .dataframe thead th {\n",
       "        text-align: right;\n",
       "    }\n",
       "</style>\n",
       "<table border=\"1\" class=\"dataframe\">\n",
       "  <thead>\n",
       "    <tr style=\"text-align: right;\">\n",
       "      <th></th>\n",
       "      <th>data_source</th>\n",
       "      <th>embedding_model</th>\n",
       "      <th>agg_method</th>\n",
       "      <th>metric_name</th>\n",
       "      <th>metric</th>\n",
       "      <th>between_all_nodes</th>\n",
       "      <th>between_shared_tags</th>\n",
       "    </tr>\n",
       "  </thead>\n",
       "  <tbody>\n",
       "    <tr>\n",
       "      <th>0</th>\n",
       "      <td>medium1k</td>\n",
       "      <td>minilm</td>\n",
       "      <td>mean</td>\n",
       "      <td>cosine</td>\n",
       "      <td>mean</td>\n",
       "      <td>0.585432</td>\n",
       "      <td>0.607958</td>\n",
       "    </tr>\n",
       "    <tr>\n",
       "      <th>1</th>\n",
       "      <td>medium1k</td>\n",
       "      <td>minilm</td>\n",
       "      <td>mean</td>\n",
       "      <td>cosine</td>\n",
       "      <td>median</td>\n",
       "      <td>0.572935</td>\n",
       "      <td>0.596940</td>\n",
       "    </tr>\n",
       "    <tr>\n",
       "      <th>2</th>\n",
       "      <td>medium1k</td>\n",
       "      <td>minilm</td>\n",
       "      <td>mean</td>\n",
       "      <td>cosine</td>\n",
       "      <td>std_dev</td>\n",
       "      <td>0.070676</td>\n",
       "      <td>0.078426</td>\n",
       "    </tr>\n",
       "    <tr>\n",
       "      <th>3</th>\n",
       "      <td>medium1k</td>\n",
       "      <td>minilm</td>\n",
       "      <td>mean</td>\n",
       "      <td>soft_cosine</td>\n",
       "      <td>mean</td>\n",
       "      <td>0.577098</td>\n",
       "      <td>0.594107</td>\n",
       "    </tr>\n",
       "    <tr>\n",
       "      <th>4</th>\n",
       "      <td>medium1k</td>\n",
       "      <td>minilm</td>\n",
       "      <td>mean</td>\n",
       "      <td>soft_cosine</td>\n",
       "      <td>median</td>\n",
       "      <td>0.574291</td>\n",
       "      <td>0.591635</td>\n",
       "    </tr>\n",
       "    <tr>\n",
       "      <th>5</th>\n",
       "      <td>medium1k</td>\n",
       "      <td>minilm</td>\n",
       "      <td>mean</td>\n",
       "      <td>soft_cosine</td>\n",
       "      <td>std_dev</td>\n",
       "      <td>0.094922</td>\n",
       "      <td>0.102319</td>\n",
       "    </tr>\n",
       "    <tr>\n",
       "      <th>6</th>\n",
       "      <td>medium1k</td>\n",
       "      <td>minilm</td>\n",
       "      <td>mean</td>\n",
       "      <td>euclidean</td>\n",
       "      <td>mean</td>\n",
       "      <td>0.440976</td>\n",
       "      <td>0.462361</td>\n",
       "    </tr>\n",
       "    <tr>\n",
       "      <th>7</th>\n",
       "      <td>medium1k</td>\n",
       "      <td>minilm</td>\n",
       "      <td>mean</td>\n",
       "      <td>euclidean</td>\n",
       "      <td>median</td>\n",
       "      <td>0.425653</td>\n",
       "      <td>0.446588</td>\n",
       "    </tr>\n",
       "    <tr>\n",
       "      <th>8</th>\n",
       "      <td>medium1k</td>\n",
       "      <td>minilm</td>\n",
       "      <td>mean</td>\n",
       "      <td>euclidean</td>\n",
       "      <td>std_dev</td>\n",
       "      <td>0.066250</td>\n",
       "      <td>0.076233</td>\n",
       "    </tr>\n",
       "  </tbody>\n",
       "</table>\n",
       "</div>"
      ],
      "text/plain": [
       "  data_source embedding_model agg_method  metric_name   metric  \\\n",
       "0    medium1k          minilm       mean       cosine     mean   \n",
       "1    medium1k          minilm       mean       cosine   median   \n",
       "2    medium1k          minilm       mean       cosine  std_dev   \n",
       "3    medium1k          minilm       mean  soft_cosine     mean   \n",
       "4    medium1k          minilm       mean  soft_cosine   median   \n",
       "5    medium1k          minilm       mean  soft_cosine  std_dev   \n",
       "6    medium1k          minilm       mean    euclidean     mean   \n",
       "7    medium1k          minilm       mean    euclidean   median   \n",
       "8    medium1k          minilm       mean    euclidean  std_dev   \n",
       "\n",
       "   between_all_nodes  between_shared_tags  \n",
       "0           0.585432             0.607958  \n",
       "1           0.572935             0.596940  \n",
       "2           0.070676             0.078426  \n",
       "3           0.577098             0.594107  \n",
       "4           0.574291             0.591635  \n",
       "5           0.094922             0.102319  \n",
       "6           0.440976             0.462361  \n",
       "7           0.425653             0.446588  \n",
       "8           0.066250             0.076233  "
      ]
     },
     "execution_count": 8,
     "metadata": {},
     "output_type": "execute_result"
    }
   ],
   "source": [
    "df1 = fr.get_embedding_similarity_metrics_per_dataset(\"medium1k\", tags,\n",
    "                                             [\"minilm\"],\n",
    "                                             [\"mean\"])\n",
    "df1.to_csv(\"analysis/metric1_medium1k_minilm.csv\")\n",
    "df1.head(10)"
   ]
  },
  {
   "cell_type": "code",
   "execution_count": 9,
   "metadata": {},
   "outputs": [
    {
     "name": "stderr",
     "output_type": "stream",
     "text": [
      "Calculating cosine similarities: 100%|██████████| 20/20 [00:37<00:00,  1.89s/it]\n",
      "Calculating soft_cosine similarities: 100%|██████████| 20/20 [39:16<00:00, 117.82s/it]\n",
      "Calculating euclidean similarities: 100%|██████████| 20/20 [00:00<00:00, 22.42it/s]\n",
      "Calculating cosine similarities: 100%|██████████| 20/20 [00:42<00:00,  2.11s/it]\n",
      "Calculating soft_cosine similarities: 100%|██████████| 20/20 [33:38<00:00, 100.94s/it]\n",
      "Calculating euclidean similarities: 100%|██████████| 20/20 [00:00<00:00, 20.76it/s]\n",
      "Calculating cosine similarities: 100%|██████████| 20/20 [00:37<00:00,  1.88s/it]\n",
      "Calculating soft_cosine similarities: 100%|██████████| 20/20 [34:48<00:00, 104.43s/it]\n",
      "Calculating euclidean similarities: 100%|██████████| 20/20 [00:00<00:00, 21.54it/s]\n",
      "Calculating cosine similarities: 100%|██████████| 20/20 [00:34<00:00,  1.70s/it]\n",
      "Calculating soft_cosine similarities: 100%|██████████| 20/20 [32:07<00:00, 96.35s/it]\n",
      "Calculating euclidean similarities: 100%|██████████| 20/20 [00:01<00:00, 18.79it/s]\n",
      "Calculating cosine similarities: 100%|██████████| 20/20 [00:10<00:00,  1.94it/s]\n",
      "Calculating soft_cosine similarities: 100%|██████████| 20/20 [14:19<00:00, 42.97s/it]\n",
      "Calculating euclidean similarities: 100%|██████████| 20/20 [00:00<00:00, 26.06it/s]\n"
     ]
    },
    {
     "data": {
      "text/html": [
       "<div>\n",
       "<style scoped>\n",
       "    .dataframe tbody tr th:only-of-type {\n",
       "        vertical-align: middle;\n",
       "    }\n",
       "\n",
       "    .dataframe tbody tr th {\n",
       "        vertical-align: top;\n",
       "    }\n",
       "\n",
       "    .dataframe thead th {\n",
       "        text-align: right;\n",
       "    }\n",
       "</style>\n",
       "<table border=\"1\" class=\"dataframe\">\n",
       "  <thead>\n",
       "    <tr style=\"text-align: right;\">\n",
       "      <th></th>\n",
       "      <th>data_source</th>\n",
       "      <th>embedding_model</th>\n",
       "      <th>agg_method</th>\n",
       "      <th>metric_name</th>\n",
       "      <th>metric</th>\n",
       "      <th>between_all_nodes</th>\n",
       "      <th>between_shared_tags</th>\n",
       "    </tr>\n",
       "  </thead>\n",
       "  <tbody>\n",
       "    <tr>\n",
       "      <th>0</th>\n",
       "      <td>medium1k</td>\n",
       "      <td>mpnet</td>\n",
       "      <td>mean</td>\n",
       "      <td>cosine</td>\n",
       "      <td>mean</td>\n",
       "      <td>0.567329</td>\n",
       "      <td>0.590647</td>\n",
       "    </tr>\n",
       "    <tr>\n",
       "      <th>1</th>\n",
       "      <td>medium1k</td>\n",
       "      <td>mpnet</td>\n",
       "      <td>mean</td>\n",
       "      <td>cosine</td>\n",
       "      <td>median</td>\n",
       "      <td>0.554505</td>\n",
       "      <td>0.578365</td>\n",
       "    </tr>\n",
       "    <tr>\n",
       "      <th>2</th>\n",
       "      <td>medium1k</td>\n",
       "      <td>mpnet</td>\n",
       "      <td>mean</td>\n",
       "      <td>cosine</td>\n",
       "      <td>std_dev</td>\n",
       "      <td>0.062230</td>\n",
       "      <td>0.071342</td>\n",
       "    </tr>\n",
       "    <tr>\n",
       "      <th>3</th>\n",
       "      <td>medium1k</td>\n",
       "      <td>mpnet</td>\n",
       "      <td>mean</td>\n",
       "      <td>soft_cosine</td>\n",
       "      <td>mean</td>\n",
       "      <td>0.553276</td>\n",
       "      <td>0.577064</td>\n",
       "    </tr>\n",
       "    <tr>\n",
       "      <th>4</th>\n",
       "      <td>medium1k</td>\n",
       "      <td>mpnet</td>\n",
       "      <td>mean</td>\n",
       "      <td>soft_cosine</td>\n",
       "      <td>median</td>\n",
       "      <td>0.549274</td>\n",
       "      <td>0.572625</td>\n",
       "    </tr>\n",
       "    <tr>\n",
       "      <th>5</th>\n",
       "      <td>medium1k</td>\n",
       "      <td>mpnet</td>\n",
       "      <td>mean</td>\n",
       "      <td>soft_cosine</td>\n",
       "      <td>std_dev</td>\n",
       "      <td>0.080918</td>\n",
       "      <td>0.088043</td>\n",
       "    </tr>\n",
       "    <tr>\n",
       "      <th>6</th>\n",
       "      <td>medium1k</td>\n",
       "      <td>mpnet</td>\n",
       "      <td>mean</td>\n",
       "      <td>euclidean</td>\n",
       "      <td>mean</td>\n",
       "      <td>0.424325</td>\n",
       "      <td>0.445684</td>\n",
       "    </tr>\n",
       "    <tr>\n",
       "      <th>7</th>\n",
       "      <td>medium1k</td>\n",
       "      <td>mpnet</td>\n",
       "      <td>mean</td>\n",
       "      <td>euclidean</td>\n",
       "      <td>median</td>\n",
       "      <td>0.410250</td>\n",
       "      <td>0.430301</td>\n",
       "    </tr>\n",
       "    <tr>\n",
       "      <th>8</th>\n",
       "      <td>medium1k</td>\n",
       "      <td>mpnet</td>\n",
       "      <td>mean</td>\n",
       "      <td>euclidean</td>\n",
       "      <td>std_dev</td>\n",
       "      <td>0.056616</td>\n",
       "      <td>0.067507</td>\n",
       "    </tr>\n",
       "    <tr>\n",
       "      <th>0</th>\n",
       "      <td>medium1k</td>\n",
       "      <td>nomic</td>\n",
       "      <td>mean</td>\n",
       "      <td>cosine</td>\n",
       "      <td>mean</td>\n",
       "      <td>0.777387</td>\n",
       "      <td>0.792314</td>\n",
       "    </tr>\n",
       "  </tbody>\n",
       "</table>\n",
       "</div>"
      ],
      "text/plain": [
       "  data_source embedding_model agg_method  metric_name   metric  \\\n",
       "0    medium1k           mpnet       mean       cosine     mean   \n",
       "1    medium1k           mpnet       mean       cosine   median   \n",
       "2    medium1k           mpnet       mean       cosine  std_dev   \n",
       "3    medium1k           mpnet       mean  soft_cosine     mean   \n",
       "4    medium1k           mpnet       mean  soft_cosine   median   \n",
       "5    medium1k           mpnet       mean  soft_cosine  std_dev   \n",
       "6    medium1k           mpnet       mean    euclidean     mean   \n",
       "7    medium1k           mpnet       mean    euclidean   median   \n",
       "8    medium1k           mpnet       mean    euclidean  std_dev   \n",
       "0    medium1k           nomic       mean       cosine     mean   \n",
       "\n",
       "   between_all_nodes  between_shared_tags  \n",
       "0           0.567329             0.590647  \n",
       "1           0.554505             0.578365  \n",
       "2           0.062230             0.071342  \n",
       "3           0.553276             0.577064  \n",
       "4           0.549274             0.572625  \n",
       "5           0.080918             0.088043  \n",
       "6           0.424325             0.445684  \n",
       "7           0.410250             0.430301  \n",
       "8           0.056616             0.067507  \n",
       "0           0.777387             0.792314  "
      ]
     },
     "execution_count": 9,
     "metadata": {},
     "output_type": "execute_result"
    }
   ],
   "source": [
    "df1 = fr.get_embedding_similarity_metrics_per_dataset(\"medium1k\", tags,\n",
    "                                             [\"mpnet\", \"nomic\", \"bert\", \"specter\", \"word2vec\"],\n",
    "                                             [\"mean\"])\n",
    "df1.to_csv(\"analysis/metric1_medium1k_rest.csv\")\n",
    "df1.head(10)"
   ]
  },
  {
   "cell_type": "markdown",
   "metadata": {},
   "source": [
    "### Cluster Purity, Homogeneity, and Completeness"
   ]
  },
  {
   "cell_type": "code",
   "execution_count": 12,
   "metadata": {},
   "outputs": [],
   "source": [
    "k_values = [1, 2, 5, 10, 15, 20, 30, 40, 50, 65, 80, 100, 120, 150]\n",
    "\n",
    "clustering_methods = {\n",
    "    **{f\"kmeans{k}\": lambda x, k=k: clu.kmeans(x, k) for k in k_values},\n",
    "    **{f\"dbscan_eps{eps}_min{min_samples}\": lambda x, eps=eps, min_samples=min_samples: clu.dbscan(x, eps=eps, min_samples=min_samples) for eps in [0.1, 0.3, 0.5, 0.7, 1.0] for min_samples in [3, 5, 10, 15]},\n",
    "    **{f\"gmm{n_components}\": lambda x, n_components=n_components: clu.gmm(x, n_components) for n_components in k_values},\n",
    "    **{f\"birch{k}\": lambda x, k=k: clu.birch(x, k) for k in k_values}\n",
    "}\n",
    "\n",
    "df2 = fr.compare_cluster_metrics(\"medium1k\",\n",
    "                                    [\"minilm\", \"mpnet\", \"nomic\", \"bert\", \"specter\", \"word2vec\"],\n",
    "                                    [\"mean\"],\n",
    "                                    clustering_methods,\n",
    "                                    ids, tags, k=2)\n",
    "\n",
    "df2.to_csv(\"analysis/metric2_medium1k.csv\")\n",
    "df2.head(10)"
   ]
  },
  {
   "cell_type": "code",
   "execution_count": null,
   "metadata": {},
   "outputs": [],
   "source": [
    "df2 = fr.compare_cluster_metrics(\"medium1k\",\n",
    "                                    [\"minilm\", \"mpnet\", \"nomic\", \"bert\", \"specter\", \"word2vec\"],\n",
    "                                    [\"mean\"],\n",
    "                                    {\n",
    "                                        \"kmeans5\": lambda x: clu.kmeans(x),\n",
    "                                        \"kmeans2\": lambda x: clu.kmeans(x, 2),\n",
    "                                        \"kmeans10\": lambda x: clu.kmeans(x, 10),\n",
    "                                        \"dbscan_default\": lambda x: clu.dbscan(x, eps=0.),\n",
    "                                        \"dbscan_eps0.3\": lambda x: clu.dbscan(x, eps=0.3),\n",
    "                                        \"dbscan_eps0.7\": lambda x: clu.dbscan(x, eps=0.7),\n",
    "                                        \"gmm_default\": lambda x: clu.gmm(x, n_components=3),\n",
    "                                        \"gmm_n4\": lambda x: clu.gmm(x, n_components=4),\n",
    "                                        \"gmm_n5\": lambda x: clu.gmm(x, n_components=5),\n",
    "                                        \"birch_default\": lambda x: clu.birch(x),\n",
    "                                        \"birch_n5\": lambda x: clu.birch(x, n_clusters=5),\n",
    "                                        \"birch_n10\": lambda x: clu.birch(x, n_clusters=10)\n",
    "                                    }, ids, tags, k=2)\n"
   ]
  },
  {
   "cell_type": "markdown",
   "metadata": {},
   "source": [
    "### Edge Assignment Evaluation: Tag Connectivity and Degree of Separation"
   ]
  },
  {
   "cell_type": "code",
   "execution_count": null,
   "metadata": {},
   "outputs": [],
   "source": [
    "k_values = [1, 2, 5, 10, 15, 20, 30, 40, 50]\n",
    "threshold_values = [0.1, 0.3, 0.5, 0.7, 0.9]\n",
    "\n",
    "edge_assignment_methods = {\n",
    "    **{f\"knn{k}\": lambda sim_mat, ids, k=k: edge.knn(sim_mat, ids, k) for k in k_values},\n",
    "    **{f\"knn_mst{k}\": lambda sim_mat, ids, k=k: edge.knn_mst(sim_mat, ids, k) for k in k_values},\n",
    "    **{f\"threshold{threshold}\": lambda sim_mat, ids, threshold=threshold: edge.threshold_based_edge_assignment(sim_mat, ids, threshold) for threshold in threshold_values},\n",
    "    **{f\"mutual_knn{k}\": lambda sim_mat, ids, k=k: edge.mutual_knn_edge_assignment(sim_mat, ids, k) for k in k_values},\n",
    "    **{f\"spectral{n_clusters}\": lambda sim_mat, ids, n_clusters=n_clusters: edge.spectral_clustering_edge_assignment(sim_mat, ids, n_clusters) for n_clusters in k_values}\n",
    "}\n",
    "\n",
    "df3 = fr.compare_edge_assignment_metrics(\"interview_prep\",\n",
    "                                        [\"minilm\", \"mpnet\", \"nomic\", \"bert\", \"specter\", \"word2vec\"],\n",
    "                                        [\"mean\"],\n",
    "                                        {\n",
    "                                            # \"kmeans5\": lambda x: clu.kmeans(x), # pick the best form above... to save time\n",
    "                                            # \"kmeans2\": lambda x: clu.kmeans(x, 2)\n",
    "                                        },\n",
    "                                        edge_assignment_methods,\n",
    "                                        ids, tags, titles, max_depth=3)\n",
    "\n",
    "df3.to_csv(\"analysis/metric3_medium1k.csv\")\n",
    "print(df3.head(10))"
   ]
  },
  {
   "cell_type": "code",
   "execution_count": null,
   "metadata": {},
   "outputs": [],
   "source": [
    "# df3 = fr.compare_edge_assignment_metrics(\"interview_prep\",\n",
    "#                                         [\"minilm\", \"mpnet\", \"nomic\", \"bert\", \"specter\", \"word2vec\"],\n",
    "#                                         [\"mean\"],\n",
    "#                                         {\n",
    "#                                             \"kmeans5\": lambda x: clu.kmeans(x),\n",
    "#                                             \"kmeans2\": lambda x: clu.kmeans(x, 2)\n",
    "#                                         },\n",
    "#                                         {\n",
    "#                                             \"knn3\": lambda sim_mat, ids: edge.knn(sim_mat, ids, k=3),\n",
    "#                                             \"knn5\": lambda sim_mat, ids: edge.knn(sim_mat, ids, k=5)\n",
    "#                                         }, ids, tags, titles, max_depth=3)\n",
    "# df3.to_csv(\"analysis/metric3_medium1k.csv\")\n",
    "# df3.head(10)"
   ]
  }
 ],
 "metadata": {
  "kernelspec": {
   "display_name": ".venv",
   "language": "python",
   "name": "python3"
  },
  "language_info": {
   "codemirror_mode": {
    "name": "ipython",
    "version": 3
   },
   "file_extension": ".py",
   "mimetype": "text/x-python",
   "name": "python",
   "nbconvert_exporter": "python",
   "pygments_lexer": "ipython3",
   "version": "3.11.8"
  }
 },
 "nbformat": 4,
 "nbformat_minor": 2
}

{
 "cells": [
  {
   "cell_type": "code",
   "execution_count": 1,
   "metadata": {},
   "outputs": [
    {
     "name": "stderr",
     "output_type": "stream",
     "text": [
      "/Users/erikluu/Documents/Poly/Thesis/LociNet/.venv/lib/python3.12/site-packages/tqdm/auto.py:21: TqdmWarning: IProgress not found. Please update jupyter and ipywidgets. See https://ipywidgets.readthedocs.io/en/stable/user_install.html\n",
      "  from .autonotebook import tqdm as notebook_tqdm\n"
     ]
    }
   ],
   "source": [
    "import ast\n",
    "import pandas as pd\n",
    "\n",
    "import src.embeddings as emb\n",
    "import src.similarity as sim\n",
    "import src.clustering as clu\n",
    "import src.metrics as met\n",
    "import src.metrics_fr as fr\n",
    "import src.utils as utils\n",
    "\n",
    "from collections import Counter"
   ]
  },
  {
   "cell_type": "markdown",
   "metadata": {},
   "source": [
    "# Thesis Evaluation\n",
    "\n",
    "## Helper Functions"
   ]
  },
  {
   "cell_type": "code",
   "execution_count": 2,
   "metadata": {},
   "outputs": [],
   "source": [
    "def load_data(filepath, n=None):\n",
    "    assert filepath[-4:] == \".csv\", \"Must be a .csv file\"\n",
    "    data = pd.read_csv(filepath)\n",
    "    if n:\n",
    "        data = data.head(n)\n",
    "\n",
    "    attrs = {\n",
    "        \"titles\": data[\"title\"].tolist(),\n",
    "        \"text\": data[\"text\"].tolist(),\n",
    "        \"tags\": data[\"tags\"].apply(ast.literal_eval).tolist(),\n",
    "        \"ids\": data.index.tolist()\n",
    "    }\n",
    "\n",
    "    if \"simplified_tags\" in data.columns:\n",
    "        attrs[\"simplified_tags\"] = data[\"simplified_tags\"].apply(ast.literal_eval).tolist()\n",
    "\n",
    "    return attrs\n",
    "\n",
    "def load_embeddings(dataset_name, model_names):\n",
    "    embeddings = []\n",
    "    for name in model_names:\n",
    "        embeddings.append(utils.load_from_pickle(f\"embeddings/{dataset_name}_{name}_n10000.pickle\"))\n",
    "    return embeddings"
   ]
  },
  {
   "cell_type": "markdown",
   "metadata": {},
   "source": [
    "## Data: interview_prep.csv"
   ]
  },
  {
   "cell_type": "code",
   "execution_count": 3,
   "metadata": {},
   "outputs": [],
   "source": [
    "data_name = \"interview_prep\"\n",
    "data = load_data(f\"data/{data_name}.csv\")"
   ]
  },
  {
   "cell_type": "markdown",
   "metadata": {},
   "source": [
    "### Embedding and Similarity Scores"
   ]
  },
  {
   "cell_type": "code",
   "execution_count": 4,
   "metadata": {},
   "outputs": [],
   "source": [
    "def get_embedding_similarity_metrics_per_dataset(dataset_name, dataset_tags, model_names):\n",
    "    dataframes = []\n",
    "\n",
    "    for model_name in model_names:\n",
    "        embeddings = utils.load_from_pickle(f\"embeddings/{dataset_name}_{model_name}_n10000.pickle\")\n",
    "        cosine_sim, soft_cosine_sim, euclidean_sim = sim.get_all_similarities(embeddings)\n",
    "        dataframes.append(fr.calculate_embedding_metrics_for_all(cosine_sim, soft_cosine_sim, euclidean_sim,\n",
    "                                        dataset_tags, model_name, dataset_name))\n",
    "    \n",
    "    return pd.concat(dataframes)"
   ]
  },
  {
   "cell_type": "code",
   "execution_count": 5,
   "metadata": {},
   "outputs": [
    {
     "name": "stderr",
     "output_type": "stream",
     "text": [
      "Calculating cosine similarities:   0%|          | 0/1 [00:00<?, ?it/s]"
     ]
    },
    {
     "name": "stderr",
     "output_type": "stream",
     "text": [
      "Calculating cosine similarities: 100%|██████████| 1/1 [00:00<00:00, 373.96it/s]\n",
      "Calculating soft_cosine similarities: 100%|██████████| 1/1 [00:00<00:00, 42.78it/s]\n",
      "Calculating euclidean similarities: 100%|██████████| 1/1 [00:00<00:00, 220.60it/s]\n",
      "Calculating cosine similarities: 100%|██████████| 1/1 [00:00<00:00, 235.29it/s]\n",
      "Calculating soft_cosine similarities: 100%|██████████| 1/1 [00:00<00:00, 58.88it/s]\n",
      "Calculating euclidean similarities: 100%|██████████| 1/1 [00:00<00:00, 2189.09it/s]\n",
      "Calculating cosine similarities: 100%|██████████| 1/1 [00:00<00:00, 637.34it/s]\n",
      "Calculating soft_cosine similarities: 100%|██████████| 1/1 [00:00<00:00, 60.77it/s]\n",
      "Calculating euclidean similarities: 100%|██████████| 1/1 [00:00<00:00, 752.48it/s]\n",
      "Calculating cosine similarities: 100%|██████████| 1/1 [00:00<00:00, 983.19it/s]\n",
      "Calculating soft_cosine similarities: 100%|██████████| 1/1 [00:00<00:00, 59.84it/s]\n",
      "Calculating euclidean similarities: 100%|██████████| 1/1 [00:00<00:00, 1703.62it/s]\n",
      "Calculating cosine similarities: 100%|██████████| 1/1 [00:00<00:00, 488.05it/s]\n",
      "Calculating soft_cosine similarities: 100%|██████████| 1/1 [00:00<00:00, 59.04it/s]\n",
      "Calculating euclidean similarities: 100%|██████████| 1/1 [00:00<00:00, 2330.17it/s]\n",
      "Calculating cosine similarities: 100%|██████████| 1/1 [00:00<00:00, 1094.26it/s]\n",
      "Calculating soft_cosine similarities: 100%|██████████| 1/1 [00:00<00:00, 109.10it/s]\n",
      "Calculating euclidean similarities: 100%|██████████| 1/1 [00:00<00:00, 2304.56it/s]\n"
     ]
    }
   ],
   "source": [
    "df = get_embedding_similarity_metrics_per_dataset(\"interview_prep\", data[\"tags\"],\n",
    "                                             [\"minilm\", \"mpnet\", \"nomic\", \"bert\", \"specter\", \"word2vec\"])\n",
    "df.to_csv(\"analysis/metric1_interview.csv\")"
   ]
  },
  {
   "cell_type": "markdown",
   "metadata": {},
   "source": [
    "### Cluster Purity, Homogeneity, and Completeness"
   ]
  },
  {
   "cell_type": "code",
   "execution_count": 6,
   "metadata": {},
   "outputs": [
    {
     "ename": "TypeError",
     "evalue": "compare_cluster_metrics() missing 1 required positional argument: 'k'",
     "output_type": "error",
     "traceback": [
      "\u001b[0;31m---------------------------------------------------------------------------\u001b[0m",
      "\u001b[0;31mTypeError\u001b[0m                                 Traceback (most recent call last)",
      "Cell \u001b[0;32mIn[6], line 1\u001b[0m\n\u001b[0;32m----> 1\u001b[0m df \u001b[38;5;241m=\u001b[39m \u001b[43mfr\u001b[49m\u001b[38;5;241;43m.\u001b[39;49m\u001b[43mcompare_cluster_metrics\u001b[49m\u001b[43m(\u001b[49m\u001b[38;5;124;43m\"\u001b[39;49m\u001b[38;5;124;43minterview_prep\u001b[39;49m\u001b[38;5;124;43m\"\u001b[39;49m\u001b[43m,\u001b[49m\n\u001b[1;32m      2\u001b[0m \u001b[43m                                    \u001b[49m\u001b[43m[\u001b[49m\u001b[38;5;124;43m\"\u001b[39;49m\u001b[38;5;124;43mminilm\u001b[39;49m\u001b[38;5;124;43m\"\u001b[39;49m\u001b[43m,\u001b[49m\u001b[43m \u001b[49m\u001b[38;5;124;43m\"\u001b[39;49m\u001b[38;5;124;43mbert\u001b[39;49m\u001b[38;5;124;43m\"\u001b[39;49m\u001b[43m]\u001b[49m\u001b[43m,\u001b[49m\n\u001b[1;32m      3\u001b[0m \u001b[43m                                    \u001b[49m\u001b[43m{\u001b[49m\n\u001b[1;32m      4\u001b[0m \u001b[43m                                        \u001b[49m\u001b[38;5;124;43m\"\u001b[39;49m\u001b[38;5;124;43mkmeans5\u001b[39;49m\u001b[38;5;124;43m\"\u001b[39;49m\u001b[43m:\u001b[49m\u001b[43m \u001b[49m\u001b[38;5;28;43;01mlambda\u001b[39;49;00m\u001b[43m \u001b[49m\u001b[43mx\u001b[49m\u001b[43m:\u001b[49m\u001b[43m \u001b[49m\u001b[43mclu\u001b[49m\u001b[38;5;241;43m.\u001b[39;49m\u001b[43mkmeans\u001b[49m\u001b[43m(\u001b[49m\u001b[43mx\u001b[49m\u001b[43m)\u001b[49m\u001b[43m,\u001b[49m\n\u001b[1;32m      5\u001b[0m \u001b[43m                                        \u001b[49m\u001b[38;5;124;43m\"\u001b[39;49m\u001b[38;5;124;43mkmeans2\u001b[39;49m\u001b[38;5;124;43m\"\u001b[39;49m\u001b[43m:\u001b[49m\u001b[43m \u001b[49m\u001b[38;5;28;43;01mlambda\u001b[39;49;00m\u001b[43m \u001b[49m\u001b[43mx\u001b[49m\u001b[43m:\u001b[49m\u001b[43m \u001b[49m\u001b[43mclu\u001b[49m\u001b[38;5;241;43m.\u001b[39;49m\u001b[43mkmeans\u001b[49m\u001b[43m(\u001b[49m\u001b[43mx\u001b[49m\u001b[43m,\u001b[49m\u001b[43m \u001b[49m\u001b[38;5;241;43m2\u001b[39;49m\u001b[43m)\u001b[49m\n\u001b[1;32m      6\u001b[0m \u001b[43m                                    \u001b[49m\u001b[43m}\u001b[49m\u001b[43m,\u001b[49m\u001b[43m \u001b[49m\u001b[43mdata\u001b[49m\u001b[43m[\u001b[49m\u001b[38;5;124;43m\"\u001b[39;49m\u001b[38;5;124;43mids\u001b[39;49m\u001b[38;5;124;43m\"\u001b[39;49m\u001b[43m]\u001b[49m\u001b[43m,\u001b[49m\u001b[43m \u001b[49m\u001b[43mdata\u001b[49m\u001b[43m[\u001b[49m\u001b[38;5;124;43m\"\u001b[39;49m\u001b[38;5;124;43mtags\u001b[39;49m\u001b[38;5;124;43m\"\u001b[39;49m\u001b[43m]\u001b[49m\u001b[43m)\u001b[49m\n\u001b[1;32m      7\u001b[0m df\u001b[38;5;241m.\u001b[39mto_csv(\u001b[38;5;124m\"\u001b[39m\u001b[38;5;124manalysis/metric2_interview.csv\u001b[39m\u001b[38;5;124m\"\u001b[39m)\n",
      "\u001b[0;31mTypeError\u001b[0m: compare_cluster_metrics() missing 1 required positional argument: 'k'"
     ]
    }
   ],
   "source": [
    "df = fr.compare_cluster_metrics(\"interview_prep\",\n",
    "                                    [\"minilm\", \"bert\"],\n",
    "                                    {\n",
    "                                        \"kmeans5\": lambda x: clu.kmeans(x),\n",
    "                                        \"kmeans2\": lambda x: clu.kmeans(x, 2)\n",
    "                                    }, data[\"ids\"], data[\"tags\"], k=2)\n",
    "df.to_csv(\"analysis/metric2_interview.csv\")"
   ]
  },
  {
   "cell_type": "code",
   "execution_count": null,
   "metadata": {},
   "outputs": [],
   "source": [
    "df"
   ]
  },
  {
   "cell_type": "code",
   "execution_count": 7,
   "metadata": {},
   "outputs": [
    {
     "data": {
      "text/html": [
       "<div>\n",
       "<style scoped>\n",
       "    .dataframe tbody tr th:only-of-type {\n",
       "        vertical-align: middle;\n",
       "    }\n",
       "\n",
       "    .dataframe tbody tr th {\n",
       "        vertical-align: top;\n",
       "    }\n",
       "\n",
       "    .dataframe thead th {\n",
       "        text-align: right;\n",
       "    }\n",
       "</style>\n",
       "<table border=\"1\" class=\"dataframe\">\n",
       "  <thead>\n",
       "    <tr style=\"text-align: right;\">\n",
       "      <th></th>\n",
       "      <th>embedding_model</th>\n",
       "      <th>clusterer</th>\n",
       "      <th>tag_concentration_purity</th>\n",
       "      <th>cluster_tag_purity</th>\n",
       "    </tr>\n",
       "  </thead>\n",
       "  <tbody>\n",
       "    <tr>\n",
       "      <th>0</th>\n",
       "      <td>minilm</td>\n",
       "      <td>kmeans5</td>\n",
       "      <td>{'haha': 0.833, 'hehe': 0.667}</td>\n",
       "      <td>{'haha': 0.357, 'hehe': 0.143}</td>\n",
       "    </tr>\n",
       "    <tr>\n",
       "      <th>1</th>\n",
       "      <td>minilm</td>\n",
       "      <td>kmeans2</td>\n",
       "      <td>{'haha': 0.8, 'hehe': 0.75}</td>\n",
       "      <td>{'haha': 0.571, 'hehe': 0.214}</td>\n",
       "    </tr>\n",
       "    <tr>\n",
       "      <th>2</th>\n",
       "      <td>bert</td>\n",
       "      <td>kmeans5</td>\n",
       "      <td>{'haha': 0.833, 'hehe': 0.5}</td>\n",
       "      <td>{'haha': 0.357, 'hehe': 0.071}</td>\n",
       "    </tr>\n",
       "    <tr>\n",
       "      <th>3</th>\n",
       "      <td>bert</td>\n",
       "      <td>kmeans2</td>\n",
       "      <td>{'haha': 0.692, 'hehe': 0.308}</td>\n",
       "      <td>{'haha': 0.643, 'hehe': 0.286}</td>\n",
       "    </tr>\n",
       "  </tbody>\n",
       "</table>\n",
       "</div>"
      ],
      "text/plain": [
       "  embedding_model clusterer        tag_concentration_purity  \\\n",
       "0          minilm   kmeans5  {'haha': 0.833, 'hehe': 0.667}   \n",
       "1          minilm   kmeans2     {'haha': 0.8, 'hehe': 0.75}   \n",
       "2            bert   kmeans5    {'haha': 0.833, 'hehe': 0.5}   \n",
       "3            bert   kmeans2  {'haha': 0.692, 'hehe': 0.308}   \n",
       "\n",
       "               cluster_tag_purity  \n",
       "0  {'haha': 0.357, 'hehe': 0.143}  \n",
       "1  {'haha': 0.571, 'hehe': 0.214}  \n",
       "2  {'haha': 0.357, 'hehe': 0.071}  \n",
       "3  {'haha': 0.643, 'hehe': 0.286}  "
      ]
     },
     "execution_count": 7,
     "metadata": {},
     "output_type": "execute_result"
    }
   ],
   "source": [
    "fr.compare_purity_metrics(\"interview_prep\",\n",
    "                                    [\"minilm\", \"bert\"],\n",
    "                                    {\n",
    "                                        \"kmeans5\": lambda x: clu.kmeans(x),\n",
    "                                        \"kmeans2\": lambda x: clu.kmeans(x, 2)\n",
    "                                    }, data[\"ids\"], data[\"tags\"], 2)"
   ]
  },
  {
   "cell_type": "markdown",
   "metadata": {},
   "source": [
    "## Data: Medium (n=1000)"
   ]
  },
  {
   "cell_type": "code",
   "execution_count": 8,
   "metadata": {},
   "outputs": [],
   "source": [
    "df = get_embedding_similarity_metrics_per_data(\"medium1k\", data[\"tags\"],\n",
    "                                             [\"minilm\"])\n",
    "#  \"mpnet\", \"nomic\", \"bert\", \"specter\"]"
   ]
  },
  {
   "cell_type": "code",
   "execution_count": null,
   "metadata": {},
   "outputs": [],
   "source": [
    "# all_minilm_df = met.calculate_embedding_metrics_for_all(minilm_cosine_sim, minilm_soft_cosine_sim, minilm_euclidean_sim,\n",
    "#                                         tags, \"minilm\", data_name)\n",
    "# all_mpnet_df = met.calculate_embedding_metrics_for_all(mpnet_cosine_sim, mpnet_soft_cosine_sim, mpnet_euclidean_sim,\n",
    "#                                         tags, \"mpnet\", data_name)\n",
    "# nomic_df = met.calculate_embedding_metrics_for_all(nomic_cosine_sim, nomic_soft_cosine_sim, nomic_euclidean_sim,\n",
    "#                                         tags, \"nomic\", data_name)\n",
    "# bert_df = met.calculate_embedding_metrics_for_all(bert_cosine_sim, bert_soft_cosine_sim, bert_euclidean_sim,\n",
    "#                                         tags, \"bert\", data_name)\n",
    "# specter_df = met.calculate_embedding_metrics_for_all(specter_cosine_sim, specter_soft_cosine_sim, specter_euclidean_sim,\n",
    "#                                         tags, \"specter\", data_name)"
   ]
  },
  {
   "cell_type": "code",
   "execution_count": null,
   "metadata": {},
   "outputs": [],
   "source": [
    "# combined_df = pd.concat([all_minilm_df, nomic_df, all_mpnet_df, bert_df, specter_df], ignore_index=True)\n",
    "# melted_df = combined_df.melt(id_vars=['data_source', 'embedding_model', 'metric_name', 'metric'], \n",
    "#                              value_vars=['between_all_nodes', 'between_shared_tags'], \n",
    "#                              var_name='comparison_type', value_name='value')"
   ]
  }
 ],
 "metadata": {
  "kernelspec": {
   "display_name": ".venv",
   "language": "python",
   "name": "python3"
  },
  "language_info": {
   "codemirror_mode": {
    "name": "ipython",
    "version": 3
   },
   "file_extension": ".py",
   "mimetype": "text/x-python",
   "name": "python",
   "nbconvert_exporter": "python",
   "pygments_lexer": "ipython3",
   "version": "3.12.2"
  }
 },
 "nbformat": 4,
 "nbformat_minor": 2
}
